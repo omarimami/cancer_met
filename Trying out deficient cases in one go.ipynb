{
 "cells": [
  {
   "cell_type": "code",
   "execution_count": 1,
   "metadata": {
    "collapsed": true
   },
   "outputs": [],
   "source": [
    "from tqdm import tqdm\n",
    "from cobra import Reaction\n",
    "import escher\n",
    "import escher.urls\n",
    "import cobra\n",
    "import cobra.test\n",
    "import json\n",
    "import os\n",
    "import string\n",
    "from IPython.display import HTML\n",
    "from cobra import Model, Reaction, Metabolite\n",
    "from cobra.flux_analysis.parsimonious import optimize_minimal_flux\n",
    "model = cobra.io.load_matlab_model('C:\\\\Users\\\\Omar\\\\Desktop\\\\virtual\\\\venv\\\\RECON1', 'RECON1')"
   ]
  },
  {
   "cell_type": "code",
   "execution_count": 2,
   "metadata": {
    "collapsed": false
   },
   "outputs": [],
   "source": [
    "gprs = []\n",
    "rxns = []\n",
    "for reaction in model.reactions:\n",
    "    rxns.append(reaction)\n",
    "    gpr = reaction.gene_reaction_rule\n",
    "    gprs.append(gpr)"
   ]
  },
  {
   "cell_type": "code",
   "execution_count": 3,
   "metadata": {
    "collapsed": true
   },
   "outputs": [],
   "source": [
    "with open('mann_biserial_cutoff_down_single.csv','r') as bis:\n",
    "    clus_list = []\n",
    "    ent_list = []\n",
    "    genes_names_list = []\n",
    "    biserial_list=[]\n",
    "    log2fold_list = []\n",
    "    for line in bis:\n",
    "        line_ele = line.strip().split(\",\")\n",
    "        clus_list.append(line_ele[0])\n",
    "        ent_list.append(line_ele[1])\n",
    "        genes_names_list.append(line_ele[2])\n",
    "        biserial_list.append(line_ele[3])\n",
    "        log2fold_list.append(line_ele[4])"
   ]
  },
  {
   "cell_type": "code",
   "execution_count": 4,
   "metadata": {
    "collapsed": true
   },
   "outputs": [],
   "source": [
    "#rxns_dict={}\n",
    "count = 0\n",
    "overall_rxns_incl_down =[]\n",
    "for i,x in enumerate(ent_list):\n",
    "    rxns_incl = []\n",
    "    gpr_incl = []\n",
    "    for reaction in model.reactions:\n",
    "        gpr = reaction.gene_reaction_rule\n",
    "        if x + '_AT1' in gpr or x+'_AT2' in gpr or x + '_AT3' in gpr or x+'_AT4' in gpr or x+'_AT5' in gpr:\n",
    "            rxns_incl.append(str(reaction))\n",
    "            gpr_incl.append(gpr)\n",
    "            #print ent,reaction, gpr\n",
    "            count +=1\n",
    "    overall_rxns_incl_down.append(rxns_incl)\n",
    "    #rxns_dict[ent] = rxns_incl"
   ]
  },
  {
   "cell_type": "code",
   "execution_count": 5,
   "metadata": {
    "collapsed": false
   },
   "outputs": [],
   "source": [
    "unique = []\n",
    "for i in overall_rxns_incl_down:\n",
    "    if i not in unique:\n",
    "        unique.append(i)"
   ]
  },
  {
   "cell_type": "code",
   "execution_count": null,
   "metadata": {
    "collapsed": false
   },
   "outputs": [],
   "source": []
  },
  {
   "cell_type": "code",
   "execution_count": 6,
   "metadata": {
    "collapsed": false
   },
   "outputs": [
    {
     "name": "stdout",
     "output_type": "stream",
     "text": [
      "['DM_etha_c', 'EX_peplys_e', 'EX_Tyr_ggn_e', 'EX_arg__L_e', 'EX_asn__L_e', 'EX_asp__L_e', 'EX_chol_e', 'EX_cl_e', 'EX_glc__D_e', 'EX_gln__L_e', 'EX_gly_e', 'EX_h_e', 'EX_h2o_e', 'EX_ile__L_e', 'EX_k_e', 'EX_leu__L_e', 'EX_lys__L_e', 'EX_na1_e', 'EX_nh4_e', 'EX_o2_e', 'EX_phe__L_e', 'EX_pi_e', 'EX_pro__L_e', 'EX_ser__L_e', 'EX_thr__L_e', 'EX_trp__L_e', 'EX_tyr__L_e', 'EX_val__L_e']\n"
     ]
    },
    {
     "name": "stderr",
     "output_type": "stream",
     "text": [
      "cobra\\core\\Model.py:289 UserWarning: need to pass in a list\n"
     ]
    }
   ],
   "source": [
    "#creat ethanalamine demand\n",
    "#metabolite is etha_c\n",
    "\n",
    "DM_etha_c = Reaction('DM_etha_c')\n",
    "DM_etha_c.name = DM_etha_c\n",
    "\n",
    "etha_c = model.metabolites.get_by_id('etha_c')\n",
    "\n",
    "DM_etha_c.add_metabolites({etha_c: -1})\n",
    "model.add_reaction(DM_etha_c)\n",
    "\n",
    "#create a transporter for this\n",
    "\n",
    "Tyr_ggnt = Reaction('Tyr_ggnt')\n",
    "Tyr_ggnt.name = Tyr_ggnt\n",
    "\n",
    "Tyr_ggn_e = model.metabolites.get_by_id('Tyr_ggn_e')\n",
    "Tyr_ggn_c = model.metabolites.get_by_id('Tyr_ggn_c')\n",
    "\n",
    "Tyr_ggnt.add_metabolites({Tyr_ggn_e: -1, Tyr_ggn_c: 1})\n",
    "model.add_reaction(Tyr_ggnt)\n",
    "\n",
    "DM_etha_c.lower_bound = -1\n",
    "Tyr_ggnt.lower_bound = -1000\n",
    "\n",
    "except_EX_names = '''DM_etha_c, EX_peplys_e, EX_Tyr_ggn_e, EX_arg__L_e, EX_asn__L_e, EX_asp__L_e, EX_chol_e, EX_cl_e, EX_glc__D_e, EX_gln__L_e, EX_gly_e, EX_h_e, EX_h2o_e, EX_ile__L_e, EX_k_e, EX_leu__L_e, EX_lys__L_e, EX_na1_e, EX_nh4_e, EX_o2_e, EX_phe__L_e, EX_pi_e, EX_pro__L_e, EX_ser__L_e, EX_thr__L_e, EX_trp__L_e, EX_tyr__L_e, EX_val__L_e'''\n",
    "except_EX_names_split = except_EX_names.split(', ')\n",
    "print except_EX_names_split\n",
    "\n",
    "# Changing all lower bounds to 0 except the given reactions above\n",
    "\n",
    "for a in model.reactions[1188:1591]:\n",
    "    a.lower_bound = 0\n",
    "\n",
    "model.reactions.get_by_id('EX_yvite_e').lower_bound = 0\n",
    "model.reactions.get_by_id('EX_10fthf5glu_e').lower_bound = 0\n",
    "    \n",
    "for b in model.reactions[1188:1591]:\n",
    "    for c in range(len(except_EX_names_split)):  \n",
    "        if b.id  == except_EX_names_split[c]:\n",
    "            b.lower_bound = -1\n",
    "            \n",
    "biomass_NCI60 = Reaction('biomass_NCI60')\n",
    "biomass_NCI60.name = biomass_NCI60\n",
    "\n",
    "ala_L_c = model.metabolites.get_by_id('ala__L_c')\n",
    "arg_L_c = model.metabolites.get_by_id('arg__L_c')\n",
    "asn_L_c = model.metabolites.get_by_id('asn__L_c')\n",
    "asp_L_c = model.metabolites.get_by_id('asp__L_c')\n",
    "atp_c = model.metabolites.get_by_id('atp_c')\n",
    "clpn_hs_c = model.metabolites.get_by_id('clpn_hs_c')\n",
    "ctp_c = model.metabolites.get_by_id('ctp_c')\n",
    "dag_hs_c = model.metabolites.get_by_id('dag_hs_c')\n",
    "datp_c = model.metabolites.get_by_id('datp_c')\n",
    "dctp_c = model.metabolites.get_by_id('dctp_c')\n",
    "dgtp_c = model.metabolites.get_by_id('dgtp_c')\n",
    "dttp_c = model.metabolites.get_by_id('dttp_c')\n",
    "gln_L_c = model.metabolites.get_by_id('gln__L_c')\n",
    "glu_L_c = model.metabolites.get_by_id('glu__L_c')\n",
    "gly_c = model.metabolites.get_by_id('gly_c')\n",
    "glygn2_c = model.metabolites.get_by_id('glygn2_c')\n",
    "gtp_c = model.metabolites.get_by_id('gtp_c')\n",
    "h2o_c = model.metabolites.get_by_id('h2o_c')\n",
    "hdca_c = model.metabolites.get_by_id('hdca_c')\n",
    "hdcea_c = model.metabolites.get_by_id('hdcea_c')\n",
    "ile_L_c = model.metabolites.get_by_id('ile__L_c')\n",
    "leu_L_c = model.metabolites.get_by_id('leu__L_c')\n",
    "lpchol_hs_c = model.metabolites.get_by_id('lpchol_hs_c')\n",
    "lys_L_c = model.metabolites.get_by_id('lys__L_c')\n",
    "mag_hs_c = model.metabolites.get_by_id('mag_hs_c')\n",
    "ocdca_c = model.metabolites.get_by_id('ocdca_c')\n",
    "ocdcea_c = model.metabolites.get_by_id('ocdcea_c')\n",
    "pa_hs_c = model.metabolites.get_by_id('pa_hs_c')\n",
    "pail_hs_c = model.metabolites.get_by_id('pail_hs_c')\n",
    "pchol_hs_c = model.metabolites.get_by_id('pchol_hs_c')\n",
    "pe_hs_c = model.metabolites.get_by_id('pe_hs_c')\n",
    "phe_L_c = model.metabolites.get_by_id('phe__L_c')\n",
    "ps_hs_c = model.metabolites.get_by_id('ps_hs_c')\n",
    "ser_L_c = model.metabolites.get_by_id('ser__L_c')\n",
    "sphmyln_hs_c = model.metabolites.get_by_id('sphmyln_hs_c')\n",
    "thr_L_c = model.metabolites.get_by_id('thr__L_c')\n",
    "trp_L_c = model.metabolites.get_by_id('trp__L_c')\n",
    "tyr_L_c = model.metabolites.get_by_id('tyr__L_c')\n",
    "utp_c = model.metabolites.get_by_id('utp_c')\n",
    "val_L_c = model.metabolites.get_by_id('val__L_c')\n",
    "pro_L_m = model.metabolites.get_by_id('pro__L_m')\n",
    "chsterol_r = model.metabolites.get_by_id('chsterol_r')\n",
    "xolest_hs_r = model.metabolites.get_by_id('xolest_hs_r')\n",
    "adp_c = model.metabolites.get_by_id('adp_c')\n",
    "h_c = model.metabolites.get_by_id('h_c')\n",
    "pi_c = model.metabolites.get_by_id('pi_c')\n",
    "\n",
    "#remove ocdca and ocdcea\n",
    "# added xolest value to cholesterol in biomass and remove xolest\n",
    "\n",
    "biomass_NCI60.add_metabolites({ala_L_c: -0.587929, arg_L_c: -0.380280, asn_L_c: -0.323313, asp_L_c: -0.261396, \n",
    "                               atp_c: -35.033540, clpn_hs_c: -0.000624, ctp_c: -0.033435, dag_hs_c: -0.001032, \n",
    "                               datp_c: -0.014557, dctp_c: -0.009770, dgtp_c: -0.009748, dttp_c: -0.014546,\n",
    "                               gln_L_c: -0.319051, glu_L_c: -0.387401, gly_c: -0.504294, glygn2_c: -0.034479,\n",
    "                               gtp_c: -0.055967, h2o_c: -35.000000, hdca_c: -0.008293, hdcea_c: -0.003315, \n",
    "                               ile_L_c: -0.319813, leu_L_c: -0.548692, lpchol_hs_c: -0.002470, lys_L_c: -0.552717, \n",
    "                               mag_hs_c: -0.001456, pa_hs_c: -0.010645,\n",
    "                               pail_hs_c: -0.005016, pchol_hs_c: -0.022878, pe_hs_c: -0.018211, phe_L_c: -0.170743,\n",
    "                               ps_hs_c: -0.006808, ser_L_c: -0.385852, sphmyln_hs_c: -0.010215, thr_L_c: -0.378004, \n",
    "                               trp_L_c: -0.039847, tyr_L_c: -0.150141, utp_c: -0.063323, val_L_c: -0.385554,\n",
    "                               pro_L_m: -0.237850, chsterol_r: -0.054102,  adp_c: 35.000000, \n",
    "                               h_c: 35.000000, pi_c: 35.000000})\n",
    "\n",
    "model.add_reaction(biomass_NCI60)\n",
    "my_objective = model.reactions.get_by_id('biomass_NCI60')\n",
    "model.change_objective(my_objective)\n",
    "\n",
    "# Adding DM_atp_c reaction\n",
    "\n",
    "DM_atp_c = Reaction('DM_atp_c')\n",
    "DM_atp_c.name = DM_atp_c\n",
    "\n",
    "atp_c = model.metabolites.get_by_id('atp_c')\n",
    "adp_c = model.metabolites.get_by_id('adp_c')\n",
    "h2o_c = model.metabolites.get_by_id('h2o_c')\n",
    "h_c = model.metabolites.get_by_id('h_c')\n",
    "pi_c = model.metabolites.get_by_id('pi_c')\n",
    "\n",
    "\n",
    "DM_atp_c.add_metabolites({atp_c: -1, h2o_c: -1, adp_c: 1, pi_c: 1, h_c: 1})\n",
    "model.add_reaction(DM_atp_c)\n",
    "\n",
    "# Setting lower bounds for DM_atp_c as per Dan\n",
    "\n",
    "model.reactions.get_by_id('DM_atp_c').lower_bound = 0.9*7.9939\n",
    "\n",
    "model.reactions.get_by_id('EX_h_e').lower_bound = -1000\n",
    "model.reactions.get_by_id('EX_o2_e').lower_bound = -1000\n",
    "model.reactions.get_by_id('EX_fe2_e').lower_bound = -1000\n",
    "model.reactions.get_by_id('EX_nh4_e').lower_bound = -1000\n",
    "\n",
    "model.reactions.get_by_id('EX_glc__D_e').lower_bound = -0.4882\n",
    "\n",
    "# constrained as per calculate fluxes \n",
    "model.reactions.get_by_id('biomass_NCI60').lower_bound = 0.0177\n",
    "model.reactions.get_by_id('biomass_NCI60').upper_bound = 0.0177\n",
    "\n",
    "model.reactions.get_by_id('EX_pi_e').lower_bound = -1000\n",
    "\n",
    "# 6/16/16 Changing amino acid uptake constraints\n",
    "# arg__L__e initially was -0.0022\n",
    "model.reactions.get_by_id('EX_arg__L_e').lower_bound = -0.0022\n",
    "\n",
    "model.reactions.get_by_id('EX_asn__L_e').lower_bound = -0.0058\n",
    "model.reactions.get_by_id('EX_asp__L_e').lower_bound = -0.0081\n",
    "model.reactions.get_by_id('EX_chol_e').lower_bound = -0.00062386\n",
    "model.reactions.get_by_id('EX_gln__L_e').lower_bound = -0.1202\n",
    "model.reactions.get_by_id('EX_gly_e').lower_bound = -0.0019\n",
    "model.reactions.get_by_id('EX_ile__L_e').lower_bound = -0.0081\n",
    "model.reactions.get_by_id('EX_leu__L_e').lower_bound = -0.0110\n",
    "model.reactions.get_by_id('EX_lys__L_e').lower_bound = -0.0111\n",
    "model.reactions.get_by_id('EX_phe__L_e').lower_bound = -0.0040\n",
    "\n",
    "model.reactions.get_by_id('EX_pro__L_e').lower_bound = -0.0045\n",
    "\n",
    "model.reactions.get_by_id('EX_ser__L_e').lower_bound = -0.0167\n",
    "model.reactions.get_by_id('EX_trp__L_e').lower_bound = -0.0013\n",
    "model.reactions.get_by_id('EX_tyr__L_e').lower_bound = -0.0068\n",
    "model.reactions.get_by_id('EX_val__L_e').lower_bound = -0.0079\n",
    "\n",
    "#6/24/16 lowerbound changes\n",
    "\n",
    "model.reactions.get_by_id('FTHFLi').lower_bound = 0\n",
    "model.reactions.get_by_id('FTHFLmi').lower_bound = 0\n",
    "\n",
    "model.reactions.get_by_id('FUM').lower_bound = 0\n",
    "model.reactions.get_by_id('FUM').upper_bound = 0\n",
    "\n",
    "model.reactions.get_by_id('BILGLCURte').lower_bound = 0\n",
    "model.reactions.get_by_id('BILDGLCURte').lower_bound = 0\n",
    "\n",
    "h_i = Metabolite('h_i', formula='h', name='h_i', compartment='i')\n",
    "model.add_metabolites(h_i)\n",
    "\n",
    "\n",
    "# delete reaction\n",
    "model.remove_reactions('ATPS4m')\n",
    "\n",
    "# re-add the reaction while replacing h_c with h_i\n",
    "ATPS4m = Reaction('ATPS4m')\n",
    "ATPS4m.name = ATPS4m\n",
    "\n",
    "adp_m = model.metabolites.get_by_id('adp_m')\n",
    "h_i = model.metabolites.get_by_id('h_i')\n",
    "pi_m = model.metabolites.get_by_id('pi_m')\n",
    "h2o_m = model.metabolites.get_by_id('h2o_m')\n",
    "h_m = model.metabolites.get_by_id('h_m')\n",
    "atp_m = model.metabolites.get_by_id('atp_m')\n",
    "\n",
    "ATPS4m.add_metabolites({adp_m: -1, h_i: -4, pi_m: -1, h2o_m: 1, h_m: 3, atp_m: 1})\n",
    "model.add_reaction(ATPS4m)\n",
    "\n",
    "model.remove_reactions('CYOOm3')\n",
    "\n",
    "CYOOm3 = Reaction('CYOOm3')\n",
    "CYOOm3.name = CYOOm3\n",
    "\n",
    "h_m = model.metabolites.get_by_id('h_m')\n",
    "o2_m = model.metabolites.get_by_id('o2_m')\n",
    "focytC_m = model.metabolites.get_by_id('focytC_m')\n",
    "h_i = model.metabolites.get_by_id('h_i')\n",
    "h2o_m = model.metabolites.get_by_id('h2o_m')\n",
    "ficytC_m = model.metabolites.get_by_id('ficytC_m')\n",
    "\n",
    "\n",
    "CYOOm3.add_metabolites({h_m: -8, o2_m: -1, focytC_m: -4, h_i: 4, h2o_m: 2, ficytC_m: 4})\n",
    "model.add_reaction(CYOOm3)\n",
    "\n",
    "# delete reaction\n",
    "model.remove_reactions('NADH2_u10m')\n",
    "\n",
    "# re-add the reaction while replacing h_c with h_i\n",
    "NADH2_u10m = Reaction('NADH2_u10m')\n",
    "NADH2_u10m.name = NADH2_u10m\n",
    "\n",
    "q10_m = model.metabolites.get_by_id('q10_m')\n",
    "h_m = model.metabolites.get_by_id('h_m')\n",
    "nadh_m = model.metabolites.get_by_id('nadh_m')\n",
    "nad_m = model.metabolites.get_by_id('nad_m')\n",
    "h_i = model.metabolites.get_by_id('h_i')\n",
    "q10h2_m = model.metabolites.get_by_id('q10h2_m')\n",
    "\n",
    "\n",
    "\n",
    "NADH2_u10m.add_metabolites({q10_m: -1, h_m: -5, nadh_m: -1, nad_m: 1, h_i: 4, q10h2_m: 1})\n",
    "model.add_reaction(NADH2_u10m)\n",
    "\n",
    "# delete reaction\n",
    "model.remove_reactions('CYOR_u10m')\n",
    "\n",
    "# re-add the reaction while replacing h_c with h_i\n",
    "CYOR_u10m = Reaction('CYOR_u10m')\n",
    "CYOR_u10m.name = NADH2_u10m\n",
    "\n",
    "ficytC_m = model.metabolites.get_by_id('ficytC_m')\n",
    "h_m = model.metabolites.get_by_id('h_m')\n",
    "q10h2_m = model.metabolites.get_by_id('q10h2_m')\n",
    "q10_m = model.metabolites.get_by_id('q10_m')\n",
    "focytC_m = model.metabolites.get_by_id('focytC_m')\n",
    "h_i = model.metabolites.get_by_id('h_i')\n",
    "\n",
    "\n",
    "CYOR_u10m.add_metabolites({ficytC_m: -2, h_m: -2, q10h2_m: -1, q10_m: 1, focytC_m: 2, h_i: 4})\n",
    "model.add_reaction(CYOR_u10m)"
   ]
  },
  {
   "cell_type": "code",
   "execution_count": 7,
   "metadata": {
    "collapsed": false
   },
   "outputs": [],
   "source": [
    "p_solution = cobra.flux_analysis.parsimonious.optimize_minimal_flux(model)"
   ]
  },
  {
   "cell_type": "code",
   "execution_count": 8,
   "metadata": {
    "collapsed": false
   },
   "outputs": [
    {
     "data": {
      "text/plain": [
       "[['GTHPi'],\n",
       " ['TMDS'],\n",
       " ['GGH_10FTHF5GLUe',\n",
       "  'GGH_10FTHF5GLUl',\n",
       "  'GGH_10FTHF6GLUe',\n",
       "  'GGH_10FTHF6GLUl',\n",
       "  'GGH_10FTHF7GLUe',\n",
       "  'GGH_10FTHF7GLUl',\n",
       "  'GGH_5DHFe',\n",
       "  'GGH_5DHFl',\n",
       "  'GGH_5THFe',\n",
       "  'GGH_5THFl',\n",
       "  'GGH_6DHFe',\n",
       "  'GGH_6DHFl',\n",
       "  'GGH_6THFe',\n",
       "  'GGH_6THFl',\n",
       "  'GGH_7DHFe',\n",
       "  'GGH_7DHFl',\n",
       "  'GGH_7THFe',\n",
       "  'GGH_7THFl'],\n",
       " ['CDSm', 'H2CO3D'],\n",
       " ['RNDR1', 'RNDR2', 'RNDR3', 'RNDR4'],\n",
       " ['PROAKGOX1r'],\n",
       " ['PHYHx'],\n",
       " ['UDPGLCtg'],\n",
       " ['S6TASE11ly',\n",
       "  'S6TASE12ly',\n",
       "  'S6TASE13ly',\n",
       "  'S6TASE14ly',\n",
       "  'S6TASE15ly',\n",
       "  'S6TASE16ly',\n",
       "  'S6TASE17ly',\n",
       "  'S6TASE18ly',\n",
       "  'S6TASE19ly',\n",
       "  'S6TASE1ly',\n",
       "  'S6TASE20ly',\n",
       "  'S6TASE21ly',\n",
       "  'S6TASE23ly',\n",
       "  'S6TASE24ly',\n",
       "  'S6TASE26ly',\n",
       "  'S6TASE2ly',\n",
       "  'S6TASE3ly'],\n",
       " ['H7_TAer', 'H8TAer', 'M4BTAer'],\n",
       " ['ATPasel', 'DAGK_hs'],\n",
       " ['CYOR_u10m'],\n",
       " ['TMDPP'],\n",
       " ['PI45PLC', 'PI4PLC', 'PIPLC'],\n",
       " ['P4504F121r', 'P4504F122r', 'P4504F123r'],\n",
       " ['XANDp', 'XAO2x', 'XAOx'],\n",
       " ['LPS3'],\n",
       " ['FAH1', 'FAH2', 'FAH3', 'PLA2_2e'],\n",
       " ['MELATNOX', 'P4501B1r'],\n",
       " ['PGDI', 'PGDIr'],\n",
       " ['NADH2_u10m'],\n",
       " ['GTHPe'],\n",
       " ['MI1PP', 'MI3PP', 'MI4PP'],\n",
       " ['13DAMPPOX',\n",
       "  '34DHOXPEGOX',\n",
       "  '42A12BOOX',\n",
       "  'ACOAHi',\n",
       "  'AGPAT1',\n",
       "  'ALCD1',\n",
       "  'ALCD21_D',\n",
       "  'ALCD21_L',\n",
       "  'LALDD2',\n",
       "  'ALCD22_L',\n",
       "  'ALCD2x',\n",
       "  'ATPasel',\n",
       "  'B_MANNASEly',\n",
       "  'DAGK_hs',\n",
       "  'ENO',\n",
       "  'FBA',\n",
       "  'FBA2',\n",
       "  'FBA4',\n",
       "  'GALNTg',\n",
       "  'GLCt4',\n",
       "  'GND',\n",
       "  'H7_TAer',\n",
       "  'H8TAer',\n",
       "  'HISTASE',\n",
       "  'HYPOE',\n",
       "  'INSTt4',\n",
       "  'M4ATAer',\n",
       "  'M4BTAer',\n",
       "  'MAN1PT2',\n",
       "  'MAOX',\n",
       "  'MHISOR',\n",
       "  'NADH2_u10m',\n",
       "  'NAt',\n",
       "  'NMPTRCOX',\n",
       "  'PDXPP',\n",
       "  'PEAMNO',\n",
       "  'PI45PLC',\n",
       "  'PI4PLC',\n",
       "  'PIPLC',\n",
       "  'PTRCOX1',\n",
       "  'PYDXPP',\n",
       "  'RDH1a',\n",
       "  'RDH2a',\n",
       "  'RDH3a',\n",
       "  'TRYPTAOX'],\n",
       " ['GTPCI', 'GTPCIn'],\n",
       " ['ARGSS'],\n",
       " ['CYOOm3'],\n",
       " ['ATPasel', 'PI45P3K', 'PI4P3K', 'PI5P3K', 'PIK3', 'TAURt4_2_r', 'TAURtcx'],\n",
       " ['2OXOADOXm',\n",
       "  'ACONTm',\n",
       "  'AGTim',\n",
       "  'AKGDm',\n",
       "  'ALKP',\n",
       "  'ASNNm',\n",
       "  'ATPasel',\n",
       "  'CORE2GTg',\n",
       "  'CORE6GTg',\n",
       "  'CYOOm3',\n",
       "  'DOLASNT_Ler',\n",
       "  'DOLASNT_Uer',\n",
       "  'H2MTer_L',\n",
       "  'H2MTer_U',\n",
       "  'H5MTer_L',\n",
       "  'H5MTer_U',\n",
       "  'Htm',\n",
       "  'NAt3_1',\n",
       "  'NAt5',\n",
       "  'PAFH',\n",
       "  'PDE1',\n",
       "  'PDHm',\n",
       "  'PIt2m',\n",
       "  'PIt7_copy2',\n",
       "  'PNTEH'],\n",
       " ['ACOAHi', 'ATPasel', 'DAGK_hs', 'GLCt4', 'INSTt4', 'NAt'],\n",
       " ['GTHPi', 'GTHPm'],\n",
       " ['GND', 'RDH1a', 'RDH2a', 'RDH3a'],\n",
       " ['ENO'],\n",
       " ['LTC4Sr'],\n",
       " ['NDPK1',\n",
       "  'NDPK10',\n",
       "  'NDPK10n',\n",
       "  'NDPK1n',\n",
       "  'NDPK2',\n",
       "  'NDPK2n',\n",
       "  'NDPK3',\n",
       "  'NDPK3n',\n",
       "  'NDPK4',\n",
       "  'NDPK4n',\n",
       "  'NDPK5',\n",
       "  'NDPK5n',\n",
       "  'NDPK6',\n",
       "  'NDPK6n',\n",
       "  'NDPK7',\n",
       "  'NDPK7n',\n",
       "  'NDPK8',\n",
       "  'NDPK8n',\n",
       "  'NDPK9',\n",
       "  'NDPK9n'],\n",
       " ['ETF'],\n",
       " ['AHEXASE2ly',\n",
       "  'AHEXASEly',\n",
       "  'NACHEX10ly',\n",
       "  'NACHEX11ly',\n",
       "  'NACHEX12ly',\n",
       "  'NACHEX13ly',\n",
       "  'NACHEX14ly',\n",
       "  'NACHEX15ly',\n",
       "  'NACHEX16ly',\n",
       "  'NACHEX17ly',\n",
       "  'NACHEX18ly',\n",
       "  'NACHEX19ly',\n",
       "  'NACHEX1ly',\n",
       "  'NACHEX20ly',\n",
       "  'NACHEX21ly',\n",
       "  'NACHEX22ly',\n",
       "  'NACHEX23ly',\n",
       "  'NACHEX24ly',\n",
       "  'NACHEX25ly',\n",
       "  'NACHEX26ly',\n",
       "  'NACHEX27ly',\n",
       "  'NACHEX2ly',\n",
       "  'NACHEX3ly',\n",
       "  'NACHEX4ly',\n",
       "  'NACHEX5ly',\n",
       "  'NACHEX6ly',\n",
       "  'NACHEX7ly',\n",
       "  'NACHEX8ly',\n",
       "  'NACHEX9ly',\n",
       "  'NACHEXA10ly',\n",
       "  'NACHEXA11ly',\n",
       "  'NACHEXA12ly',\n",
       "  'NACHEXA13ly',\n",
       "  'NACHEXA14ly',\n",
       "  'NACHEXA15ly',\n",
       "  'NACHEXA16ly',\n",
       "  'NACHEXA17ly',\n",
       "  'NACHEXA18ly',\n",
       "  'NACHEXA19ly',\n",
       "  'NACHEXA1ly',\n",
       "  'NACHEXA20ly',\n",
       "  'NACHEXA21ly',\n",
       "  'NACHEXA22ly',\n",
       "  'NACHEXA2ly',\n",
       "  'NACHEXA3ly',\n",
       "  'NACHEXA4ly',\n",
       "  'NACHEXA5ly',\n",
       "  'NACHEXA6ly',\n",
       "  'NACHEXA7ly',\n",
       "  'NACHEXA8ly',\n",
       "  'NACHEXA9ly'],\n",
       " ['UGCG'],\n",
       " ['M1316Mg'],\n",
       " ['GALUi'],\n",
       " ['PGI'],\n",
       " ['ACACT1m',\n",
       "  'C2M26DCOAHLm',\n",
       "  'ECOAH12m',\n",
       "  'ECOAH1m',\n",
       "  'ECOAH9m',\n",
       "  'HACD1m',\n",
       "  'PRPNCOAHYDm',\n",
       "  'T2M26DCOAHLm'],\n",
       " ['DOLASNT_Ler', 'DOLASNT_Uer'],\n",
       " ['ATPS4m', 'DHAAt1r', 'FUCASE2ly', 'FUCASEly', 'GAMt1r', 'GLCt1', 'SERPT'],\n",
       " ['2OXOADOXm',\n",
       "  'AKGDm',\n",
       "  'GCC2am',\n",
       "  'GCC2bim',\n",
       "  'GCC2cm',\n",
       "  'GCCam',\n",
       "  'GCCbim',\n",
       "  'GCCcm',\n",
       "  'OIVD1m',\n",
       "  'OIVD2m',\n",
       "  'OIVD3m',\n",
       "  'PDHm'],\n",
       " ['ALAtN1', 'ASNtN1', 'DASCBR', 'GLNtN1', 'SERtN1'],\n",
       " ['ATPS4m'],\n",
       " ['SQLSr'],\n",
       " ['CAT2p', 'CATm', 'CATp'],\n",
       " ['ATPasel'],\n",
       " ['GAPD'],\n",
       " ['PTRCAT1'],\n",
       " ['FBA', 'FBA2', 'FBA4', 'GALNTg', 'GND', 'RDH1a', 'RDH2a', 'RDH3a'],\n",
       " ['DHCR241r', 'DHCR242r', 'DHCR243r'],\n",
       " ['CKc'],\n",
       " ['ICDHyr', 'ICDHyp', 'MCD', 'MCDm', 'MCDp', 'MMCD', 'MMCDm', 'MMCDp'],\n",
       " ['ADK1', 'Htm', 'NaKt'],\n",
       " ['5HOXINDACTOXm',\n",
       "  'ALDD20xm',\n",
       "  'ALDD2xm',\n",
       "  'BAMPPALDOXm',\n",
       "  'GCALDDm',\n",
       "  'GLACOm',\n",
       "  'IMACTD_m',\n",
       "  'LCADi_Dm',\n",
       "  'LCADm',\n",
       "  'NABTNOm',\n",
       "  'PYLALDOXm',\n",
       "  'TMLYSOX'],\n",
       " ['DHPM1', 'GALNTg'],\n",
       " ['FBP26', 'PFK26'],\n",
       " ['PCLYSOX'],\n",
       " ['ASPDt6', 'ASPt6', 'GLUt6'],\n",
       " ['FUMAC'],\n",
       " ['GLPASE1', 'GLPASE2'],\n",
       " ['ADSELK', 'ADSK', 'SADT', 'SELADT'],\n",
       " ['34DHALDD',\n",
       "  '34DHXMANDACOX',\n",
       "  '3M4HDXPAC',\n",
       "  '3MOX4HOXPGALDOX',\n",
       "  '3MOX4HOXPGALDOX_NADP',\n",
       "  '4HOXPACDOX_NADP',\n",
       "  'ALDD19xr',\n",
       "  'ALDD19x_P',\n",
       "  'ALDD2x',\n",
       "  'GCALDD',\n",
       "  'GLACO',\n",
       "  'LCADi',\n",
       "  'LCADi_D',\n",
       "  'MACOXO',\n",
       "  'NADK'],\n",
       " ['3HXKYNOXDA',\n",
       "  '3MOXTYROX',\n",
       "  '41R1H2MAE12BOOX',\n",
       "  '41R2A1H12BOOX',\n",
       "  '42A12BOOX',\n",
       "  '5HOXINOXDA',\n",
       "  '5HXKYNOXDA',\n",
       "  'ACOAD1fm',\n",
       "  'APRTO2',\n",
       "  'MACOXO',\n",
       "  'MAOLNOR',\n",
       "  'PEAMNO',\n",
       "  'PPCOAOm',\n",
       "  'SO4HCOtex',\n",
       "  'TRYPTAOX',\n",
       "  'TYROXDAc'],\n",
       " ['AKR1C1'],\n",
       " ['PROSTGD2t', 'PROSTGE1t', 'PROSTGE2t'],\n",
       " ['5MTHFt'],\n",
       " ['PGS', 'PGSr'],\n",
       " ['13DAMPPOX',\n",
       "  '42A12BOOX',\n",
       "  'AACTOOR',\n",
       "  'MAOX',\n",
       "  'MHISOR',\n",
       "  'NMPTRCOX',\n",
       "  'PTRCOX1'],\n",
       " ['GLCATg', 'PDE4', 'GCPNn'],\n",
       " ['CDS'],\n",
       " ['TRPO2'],\n",
       " ['PAFHe'],\n",
       " ['PPAP'],\n",
       " ['CYANSTm'],\n",
       " ['THMt3'],\n",
       " ['CYSTGLUex'],\n",
       " ['LPASE'],\n",
       " ['3HLYTCL',\n",
       "  '3HXKYNDCL',\n",
       "  '5HLTDL',\n",
       "  '5HXKYNDCL',\n",
       "  'BILIRED',\n",
       "  'HISDC',\n",
       "  'LTDCL',\n",
       "  'PHYCBOXL',\n",
       "  'TYRCBOX'],\n",
       " ['SAMHISTA'],\n",
       " ['5HOXINDACTOX',\n",
       "  'ALDD20x',\n",
       "  'ALDD2x',\n",
       "  'BAMPPALDOX',\n",
       "  'GCALDD',\n",
       "  'GLACO',\n",
       "  'IMACTD',\n",
       "  'LCADi',\n",
       "  'LCADi_D',\n",
       "  'MTHFC',\n",
       "  'MTHFD2i',\n",
       "  'NABTNO',\n",
       "  'PYLALDOX'],\n",
       " ['3HXKYNOXDA',\n",
       "  '3MOXTYROX',\n",
       "  '41R1H2MAE12BOOX',\n",
       "  '41R2A1H12BOOX',\n",
       "  '42A12BOOX',\n",
       "  '5HOXINOXDA',\n",
       "  '5HXKYNOXDA',\n",
       "  'APRTO2',\n",
       "  'MAOLNOR',\n",
       "  'PEAMNO',\n",
       "  'TRYPTAOX',\n",
       "  'TYROXDAc'],\n",
       " ['PI45PLC', 'PI45PLCn', 'PI4PLC', 'PI4PLCn', 'PIPLC', 'PIPLCn'],\n",
       " ['GPIDA2er', 'GPIDAer'],\n",
       " ['H2CO3D'],\n",
       " ['GLNS'],\n",
       " ['ADMDC'],\n",
       " ['ORNTArm'],\n",
       " ['5MTHFt',\n",
       "  'ACP1_FMN',\n",
       "  'ADPRIBt',\n",
       "  'BDMT_L',\n",
       "  'BDMT_U',\n",
       "  'CKc',\n",
       "  'GLCATg',\n",
       "  'GLNS',\n",
       "  'GLYt7_311_r',\n",
       "  'GTHPi',\n",
       "  'Htm',\n",
       "  'LYSMTF1n',\n",
       "  'LYSMTF2n',\n",
       "  'LYSMTF3n',\n",
       "  'MDH',\n",
       "  'NADNe',\n",
       "  'NADPNe',\n",
       "  'PCLYSOX',\n",
       "  'PDE4',\n",
       "  'GCPNn',\n",
       "  'PI45P5P',\n",
       "  'PYK',\n",
       "  'S3T3g',\n",
       "  'SBTD_D2',\n",
       "  'SLDx'],\n",
       " ['H4ET3er', 'H6ET3er', 'M4CET3er', 'NADH2_u10m'],\n",
       " ['GF6PTA'],\n",
       " ['ATPasel', 'DASPO1p', 'NAIt', 'NAt', 'UREAt'],\n",
       " ['ITCOALm', 'MECOALm', 'SUCOASm'],\n",
       " ['UDPGD'],\n",
       " ['5HOXINDACTOXm',\n",
       "  'ALDD20xm',\n",
       "  'ALDD2xm',\n",
       "  'AMY1e',\n",
       "  'AMY2e',\n",
       "  'BAMPPALDOXm',\n",
       "  'CHOLK',\n",
       "  'CHSTEROLt',\n",
       "  'CHSTEROLtg',\n",
       "  'CLHCOtex',\n",
       "  'CYOR_u10m',\n",
       "  'CYSTSERex',\n",
       "  'DESAT16_2',\n",
       "  'DESAT18_3',\n",
       "  'DESAT18_4',\n",
       "  'DESAT18_5',\n",
       "  'DHFR',\n",
       "  'ESTRADIOLGLCt',\n",
       "  'ESTRONESt',\n",
       "  'ETHAK',\n",
       "  'FOLR2',\n",
       "  'FUCASE2e',\n",
       "  'FUCASEe',\n",
       "  'G3PD1',\n",
       "  'GCALDDm',\n",
       "  'GLACOm',\n",
       "  'ICDHxm',\n",
       "  'IMACTD_m',\n",
       "  'LCADi_Dm',\n",
       "  'LCADm',\n",
       "  'LYSMTF1n',\n",
       "  'LYSMTF2n',\n",
       "  'LYSMTF3n',\n",
       "  'NABTNOm',\n",
       "  'NADH2_u10m',\n",
       "  'NCKt',\n",
       "  'OCOAT1m',\n",
       "  'PLA2_2e',\n",
       "  'PYLALDOXm',\n",
       "  'SERLYSNaex',\n",
       "  'SO4HCOtex',\n",
       "  'THYOXt',\n",
       "  'TRIODTHYt'],\n",
       " ['GLDBRAN', 'LPASE', 'THMTP'],\n",
       " ['AG13T10g',\n",
       "  'AG13T11g',\n",
       "  'AG13T12g',\n",
       "  'AG13T13g',\n",
       "  'AG13T14g',\n",
       "  'AG13T15g',\n",
       "  'AG13T16g',\n",
       "  'AG13T17g',\n",
       "  'AG13T18g',\n",
       "  'AG13T1g',\n",
       "  'AG13T2g',\n",
       "  'AG13T3g',\n",
       "  'AG13T4g',\n",
       "  'AG13T5g',\n",
       "  'AG13T6g',\n",
       "  'AG13T7g',\n",
       "  'AG13T8g',\n",
       "  'AG13T9g',\n",
       "  'NTD2e',\n",
       "  'NTD4e',\n",
       "  'NTD7e',\n",
       "  'NTD9e'],\n",
       " ['PI45P3K', 'PI4P3K', 'PI5P3K', 'PIK3'],\n",
       " ['ASNS1'],\n",
       " ['CLHCOtex', 'OXAHCOtex', 'SO4HCOtex'],\n",
       " ['34DHOXPEGOX',\n",
       "  '3HXKYNOXDA',\n",
       "  '3MOXTYROX',\n",
       "  '41R1H2MAE12BOOX',\n",
       "  '41R2A1H12BOOX',\n",
       "  '42A12BOOX',\n",
       "  '5HOXINOXDA',\n",
       "  '5HXKYNOXDA',\n",
       "  'ALCD1',\n",
       "  'ALCD21_D',\n",
       "  'ALCD21_L',\n",
       "  'LALDD2',\n",
       "  'ALCD22_L',\n",
       "  'ALCD2x',\n",
       "  'APRTO2',\n",
       "  'FALDH',\n",
       "  'LALDO',\n",
       "  'MAOLNOR',\n",
       "  'PEAMNO',\n",
       "  'TRYPTAOX',\n",
       "  'TYROXDAc'],\n",
       " ['UAGDP'],\n",
       " ['H7_TAer', 'H8TAer', 'M4ATAer', 'M4BTAer'],\n",
       " ['ME1m', 'ME2m'],\n",
       " ['SCP21x', 'SCP22x', 'SCP2x', 'SCP3x', 'SCPx'],\n",
       " ['CAATPS'],\n",
       " ['PI345P5P', 'PI45P5P'],\n",
       " ['SMS'],\n",
       " ['MI1345PP', 'MI145PP', 'PI345P5P', 'PI45P5P'],\n",
       " ['AMETt2m', 'PI4P3K', 'PI5P3K', 'PIK3'],\n",
       " ['ITCOAL1m', 'MECOAS1m', 'SUCOAS1m'],\n",
       " ['HEX1', 'HEX10', 'HEX4', 'HEX7'],\n",
       " ['PFK'],\n",
       " ['MTHFCm', 'MTHFD2m', 'MTHFDm'],\n",
       " ['CLHCOtex', 'OCOAT1m', 'SO4HCOtex'],\n",
       " ['ALAt4', 'ARGt5r', 'HOMt4', 'LEUt4', 'LYSt5r', 'ORNt', 'PHEt4'],\n",
       " ['2HBO', 'GLXO1', 'HPYRR2x', 'LDH_L', 'MCLOR']]"
      ]
     },
     "execution_count": 8,
     "metadata": {},
     "output_type": "execute_result"
    }
   ],
   "source": [
    "unique"
   ]
  },
  {
   "cell_type": "code",
   "execution_count": 9,
   "metadata": {
    "collapsed": true
   },
   "outputs": [],
   "source": [
    "unique = [['ARGSS']]"
   ]
  },
  {
   "cell_type": "code",
   "execution_count": 10,
   "metadata": {
    "collapsed": true
   },
   "outputs": [],
   "source": [
    "from tqdm import tqdm"
   ]
  },
  {
   "cell_type": "code",
   "execution_count": 11,
   "metadata": {
    "collapsed": false
   },
   "outputs": [
    {
     "name": "stdout",
     "output_type": "stream",
     "text": [
      "ARGSS\n"
     ]
    }
   ],
   "source": [
    "for reaction in unique[0]:\n",
    "    print reaction"
   ]
  },
  {
   "cell_type": "code",
   "execution_count": 53,
   "metadata": {
    "collapsed": false
   },
   "outputs": [
    {
     "name": "stderr",
     "output_type": "stream",
     "text": [
      "100%|██████████████████████████████████████████████████████████████████████████████| 2767/2767 [34:38<00:00,  1.34it/s]\n"
     ]
    }
   ],
   "source": [
    "# essentially for each gene to be knocked out\n",
    "for i in range(len(unique)):\n",
    "    #create a demand of the products of the corresponding reactions mapped by the gene\n",
    "    # keep track of the reactions we added to this model so we can delete them for the next round\n",
    "    # alternatively could do something like model_temp = model.copy() or model = model_ref.copy()\n",
    "    reactions_added = []\n",
    "    # for each reaction mapped by the gene\n",
    "    for reaction in unique[i]:\n",
    "        #print reaction\n",
    "        # iterate through products of the reaction\n",
    "        for x in model.reactions.get_by_id(str(reaction)).products:\n",
    "            # create string for demand for further use\n",
    "            temp_DM = 'DM_' + str(x)\n",
    "            # create string for metabolite for futher use\n",
    "            temp_met = model.metabolites.get_by_id(str(x))\n",
    "            #print temp_met\n",
    "            \n",
    "            # handy toggle\n",
    "            switch = True\n",
    "            \n",
    "            # check if demand reaction already in model\n",
    "            for ii in model.reactions:\n",
    "                # if already in model add the new lower bound to previous lower bound\n",
    "                if temp_DM == str(ii):\n",
    "                    model.reactions.get_by_id(str(temp_DM)).lower_bound = model.reactions.get_by_id(str(temp_DM)).lower_bound + p_solution.x_dict[str(reaction)]\n",
    "                    switch = False\n",
    "            # if demand not already in the model create the demand and set lower bound to pFBA solution of the reaction\n",
    "            if switch == True:\n",
    "                temp_DM = Reaction(str(temp_DM))\n",
    "                temp_DM.add_metabolites({temp_met: -1})\n",
    "                model.add_reaction(temp_DM)\n",
    "                model.reactions.get_by_id(str(temp_DM)).lower_bound = p_solution.x_dict[str(reaction)]\n",
    "                reactions_added.append(str(temp_DM))\n",
    "            #print model.reactions.get_by_id(str(temp_DM)).lower_bound\n",
    "    #for item in reactions_added:\n",
    "        #model.reactions.get_by_id(item).delete()\n",
    "        \n",
    "    # set arginine uptake \n",
    "    model.reactions.get_by_id('EX_arg__L_e').lower_bound = -0.0068\n",
    "    \n",
    "    \n",
    "    newmet_array = [0] * len(model.metabolites)\n",
    "    met_count = 0\n",
    "    for i in range(len(model.metabolites)):\n",
    "        newmet_array[met_count] = string.replace(model.metabolites[i].id, \" \", \"_\")\n",
    "        met_count = met_count + 1\n",
    "\n",
    "    #####ALGORITHM################\n",
    "    # creates an empty dict to store DM_rxns as keys and the p_solution.f values\n",
    "    normal_maxmet_dict = {}\n",
    "\n",
    "    for i in tqdm(range(len(model.metabolites))):\n",
    "        #for i in range(80):\n",
    "\n",
    "        #  switch toggle\n",
    "        switch = True\n",
    "\n",
    "        # this part creates a demand reaction for each metabolite\n",
    "        temp_DM = 'DM_' + str(newmet_array[i])\n",
    "\n",
    "        # this nested for loop tries to catch if a demand reaction already exists in the model\n",
    "        for ii in model.reactions:\n",
    "            if temp_DM == str(ii):\n",
    "                # this part sets the newly created demand as the objective\n",
    "                my_objective = model.reactions.get_by_id(str(temp_DM))\n",
    "                model.change_objective(my_objective)\n",
    "\n",
    "                # this part runs FBA on the new demand\n",
    "                p_solution = model.optimize()\n",
    "\n",
    "                # this stores the demand flux into a dictionary where its demand rxn is the key\n",
    "                normal_maxmet_dict[str(temp_DM)] = p_solution.f\n",
    "\n",
    "                # a toggle to see if the reaction is to be deleted or not\n",
    "                switch = False\n",
    "\n",
    "        if switch is True:\n",
    "            temp_DM = Reaction(str(temp_DM))\n",
    "            newmet_array[i] = model.metabolites.get_by_id(model.metabolites[i].id)\n",
    "            temp_DM.add_metabolites({newmet_array[i]: -1})\n",
    "            model.add_reaction(temp_DM)\n",
    "\n",
    "            # this part sets the newly created demand as the objective\n",
    "            my_objective = model.reactions.get_by_id(str(temp_DM))\n",
    "            model.change_objective(my_objective)\n",
    "\n",
    "            # this part runs FBA on the new demand\n",
    "            p_solution = model.optimize()\n",
    "\n",
    "            # this stores the demand flux into a dictionary where its demand rxn is the key\n",
    "            normal_maxmet_dict[str(temp_DM)] = p_solution.f\n",
    "\n",
    "            # this deletes the demand at the end of each iteration\n",
    "            model.reactions.get_by_id(str(temp_DM)).delete()\n",
    "            \n",
    "    for item in reactions_added:\n",
    "        model.reactions.get_by_id(item).delete()"
   ]
  },
  {
   "cell_type": "code",
   "execution_count": 126,
   "metadata": {
    "collapsed": false
   },
   "outputs": [
    {
     "data": {
      "text/plain": [
       "120"
      ]
     },
     "execution_count": 126,
     "metadata": {},
     "output_type": "execute_result"
    }
   ],
   "source": [
    "len(unique)"
   ]
  },
  {
   "cell_type": "code",
   "execution_count": 123,
   "metadata": {
    "collapsed": false
   },
   "outputs": [
    {
     "data": {
      "text/plain": [
       "['DM_nadh_c',\n",
       " 'DM_h_c',\n",
       " 'DM_2obut_c',\n",
       " 'DM_oxa_c',\n",
       " 'DM_glyc__S_c',\n",
       " 'DM_nad_c',\n",
       " 'DM_pyr_c',\n",
       " 'DM_mercppyr_c']"
      ]
     },
     "execution_count": 123,
     "metadata": {},
     "output_type": "execute_result"
    }
   ],
   "source": [
    "reactions_added"
   ]
  },
  {
   "cell_type": "code",
   "execution_count": 99,
   "metadata": {
    "collapsed": false
   },
   "outputs": [
    {
     "data": {
      "text/plain": [
       "['RNDR1', 'RNDR2', 'RNDR3', 'RNDR4']"
      ]
     },
     "execution_count": 99,
     "metadata": {},
     "output_type": "execute_result"
    }
   ],
   "source": [
    "unique[4]"
   ]
  },
  {
   "cell_type": "code",
   "execution_count": null,
   "metadata": {
    "collapsed": true
   },
   "outputs": [],
   "source": []
  },
  {
   "cell_type": "code",
   "execution_count": null,
   "metadata": {
    "collapsed": true
   },
   "outputs": [],
   "source": []
  },
  {
   "cell_type": "code",
   "execution_count": 69,
   "metadata": {
    "collapsed": false
   },
   "outputs": [
    {
     "name": "stdout",
     "output_type": "stream",
     "text": [
      "RNDR1\n",
      "0.0002576589\n",
      "['trdox_c', 'h2o_c', 'dadp_c']\n",
      "RNDR2\n",
      "0.0001725396\n",
      "['h2o_c', 'trdox_c', 'dgdp_c']\n",
      "RNDR3\n",
      "0.0004303932\n",
      "['trdox_c', 'h2o_c', 'dcdp_c']\n",
      "RNDR4\n",
      "0.0\n",
      "['trdox_c', 'h2o_c', 'dudp_c']\n"
     ]
    }
   ],
   "source": [
    "for reaction in unique[4]:\n",
    "    print reaction\n",
    "    print p_solution.x_dict[reaction]\n",
    "    print [str(x) for x in model.reactions.get_by_id(reaction).products]"
   ]
  },
  {
   "cell_type": "code",
   "execution_count": 70,
   "metadata": {
    "collapsed": false
   },
   "outputs": [
    {
     "data": {
      "text/plain": [
       "0.0008605917"
      ]
     },
     "execution_count": 70,
     "metadata": {},
     "output_type": "execute_result"
    }
   ],
   "source": [
    "0.0002576589+0.0001725396+0.0004303932"
   ]
  },
  {
   "cell_type": "code",
   "execution_count": 347,
   "metadata": {
    "collapsed": false
   },
   "outputs": [
    {
     "data": {
      "text/plain": [
       "0.0002576589"
      ]
     },
     "execution_count": 347,
     "metadata": {},
     "output_type": "execute_result"
    }
   ],
   "source": [
    "p_solution.x_dict['RNDR1']"
   ]
  },
  {
   "cell_type": "code",
   "execution_count": 74,
   "metadata": {
    "collapsed": false
   },
   "outputs": [
    {
     "data": {
      "text/plain": [
       "['RNDR1', 'RNDR2', 'RNDR3', 'RNDR4']"
      ]
     },
     "execution_count": 74,
     "metadata": {},
     "output_type": "execute_result"
    }
   ],
   "source": [
    "unique[4]"
   ]
  },
  {
   "cell_type": "code",
   "execution_count": 307,
   "metadata": {
    "collapsed": false
   },
   "outputs": [
    {
     "data": {
      "text/plain": [
       "'RNDR4'"
      ]
     },
     "execution_count": 307,
     "metadata": {},
     "output_type": "execute_result"
    }
   ],
   "source": [
    "reaction"
   ]
  },
  {
   "cell_type": "code",
   "execution_count": 65,
   "metadata": {
    "collapsed": false
   },
   "outputs": [
    {
     "data": {
      "text/plain": [
       "0.13644819270001196"
      ]
     },
     "execution_count": 65,
     "metadata": {},
     "output_type": "execute_result"
    }
   ],
   "source": [
    "model.reactions.get_by_id('DM_h2co3_c').lower_bound"
   ]
  },
  {
   "cell_type": "code",
   "execution_count": 84,
   "metadata": {
    "collapsed": false
   },
   "outputs": [
    {
     "data": {
      "text/plain": [
       "-0.0018710670000000001"
      ]
     },
     "execution_count": 84,
     "metadata": {},
     "output_type": "execute_result"
    }
   ],
   "source": [
    "p_solution.x_dict['DAGK_hs']*2"
   ]
  },
  {
   "cell_type": "code",
   "execution_count": 378,
   "metadata": {
    "collapsed": true
   },
   "outputs": [],
   "source": [
    "temp_DM = Reaction(str(temp_DM))"
   ]
  },
  {
   "cell_type": "code",
   "execution_count": 379,
   "metadata": {
    "collapsed": false
   },
   "outputs": [
    {
     "data": {
      "text/plain": [
       "<Reaction DM_dudp_c at 0x19b7a128>"
      ]
     },
     "execution_count": 379,
     "metadata": {},
     "output_type": "execute_result"
    }
   ],
   "source": [
    "temp_DM"
   ]
  },
  {
   "cell_type": "code",
   "execution_count": 374,
   "metadata": {
    "collapsed": false
   },
   "outputs": [
    {
     "data": {
      "text/plain": [
       "float"
      ]
     },
     "execution_count": 374,
     "metadata": {},
     "output_type": "execute_result"
    }
   ],
   "source": [
    "type(p_solution.x_dict[str(reaction)])"
   ]
  },
  {
   "cell_type": "code",
   "execution_count": 9,
   "metadata": {
    "collapsed": false
   },
   "outputs": [
    {
     "name": "stdout",
     "output_type": "stream",
     "text": [
      "DM_h2o_c\n"
     ]
    },
    {
     "ename": "KeyError",
     "evalue": "<Reaction DM_h2o_c at 0xd0b6d68>",
     "output_type": "error",
     "traceback": [
      "\u001b[1;31m---------------------------------------------------------------------------\u001b[0m",
      "\u001b[1;31mKeyError\u001b[0m                                  Traceback (most recent call last)",
      "\u001b[1;32m<ipython-input-9-b09c06e98d63>\u001b[0m in \u001b[0;36m<module>\u001b[1;34m()\u001b[0m\n\u001b[0;32m     13\u001b[0m         \u001b[0mtemp_DM\u001b[0m\u001b[1;33m.\u001b[0m\u001b[0madd_metabolites\u001b[0m\u001b[1;33m(\u001b[0m\u001b[1;33m{\u001b[0m\u001b[0mx\u001b[0m\u001b[1;33m:\u001b[0m\u001b[1;33m-\u001b[0m\u001b[1;36m1\u001b[0m\u001b[1;33m}\u001b[0m\u001b[1;33m)\u001b[0m\u001b[1;33m\u001b[0m\u001b[0m\n\u001b[0;32m     14\u001b[0m         \u001b[0mmodel\u001b[0m\u001b[1;33m.\u001b[0m\u001b[0madd_reaction\u001b[0m\u001b[1;33m(\u001b[0m\u001b[0mtemp_DM\u001b[0m\u001b[1;33m)\u001b[0m\u001b[1;33m\u001b[0m\u001b[0m\n\u001b[1;32m---> 15\u001b[1;33m         \u001b[0mmodel\u001b[0m\u001b[1;33m.\u001b[0m\u001b[0mreactions\u001b[0m\u001b[1;33m.\u001b[0m\u001b[0mget_by_id\u001b[0m\u001b[1;33m(\u001b[0m\u001b[0mtemp_DM\u001b[0m\u001b[1;33m)\u001b[0m\u001b[1;33m.\u001b[0m\u001b[0mlower_bound\u001b[0m \u001b[1;33m=\u001b[0m \u001b[0mp_solution\u001b[0m\u001b[1;33m.\u001b[0m\u001b[0mx_dict\u001b[0m\u001b[1;33m[\u001b[0m\u001b[0mtemp_DM\u001b[0m\u001b[1;33m]\u001b[0m\u001b[1;33m\u001b[0m\u001b[0m\n\u001b[0m",
      "\u001b[1;31mKeyError\u001b[0m: <Reaction DM_h2o_c at 0xd0b6d68>"
     ]
    }
   ],
   "source": [
    "for x in model.reactions.get_by_id('RNDR1').products:\n",
    "    temp_DM = 'DM_' + str(x)\n",
    "    print temp_DM\n",
    "    \n",
    "    switch = True\n",
    "    \n",
    "    for ii in model.reactions:\n",
    "        if temp_DM == str(ii):\n",
    "            model.reactions.get_by_id(temp_DM).lower_bound = p_solution.x_dict[str('RNDR1')]\n",
    "            switch = False\n",
    "    if switch == True:\n",
    "        temp_DM = Reaction(str(temp_DM))\n",
    "        temp_DM.add_metabolites({x:-1})\n",
    "        model.add_reaction(temp_DM)\n",
    "        model.reactions.get_by_id(temp_DM).lower_bound = p_solution.x_dict[temp_DM]"
   ]
  },
  {
   "cell_type": "code",
   "execution_count": 10,
   "metadata": {
    "collapsed": false
   },
   "outputs": [
    {
     "ename": "KeyError",
     "evalue": "<Reaction DM_h2o_c at 0xd0b6d68>",
     "output_type": "error",
     "traceback": [
      "\u001b[1;31m---------------------------------------------------------------------------\u001b[0m",
      "\u001b[1;31mKeyError\u001b[0m                                  Traceback (most recent call last)",
      "\u001b[1;32m<ipython-input-10-eda9c1cdfcf5>\u001b[0m in \u001b[0;36m<module>\u001b[1;34m()\u001b[0m\n\u001b[1;32m----> 1\u001b[1;33m \u001b[0mmodel\u001b[0m\u001b[1;33m.\u001b[0m\u001b[0mreactions\u001b[0m\u001b[1;33m.\u001b[0m\u001b[0mget_by_id\u001b[0m\u001b[1;33m(\u001b[0m\u001b[0mtemp_DM\u001b[0m\u001b[1;33m)\u001b[0m\u001b[1;33m\u001b[0m\u001b[0m\n\u001b[0m",
      "\u001b[1;32mC:\\Users\\Omar\\Anaconda2\\lib\\site-packages\\cobra\\core\\DictList.pyc\u001b[0m in \u001b[0;36mget_by_id\u001b[1;34m(self, id)\u001b[0m\n\u001b[0;32m     47\u001b[0m     \u001b[1;32mdef\u001b[0m \u001b[0mget_by_id\u001b[0m\u001b[1;33m(\u001b[0m\u001b[0mself\u001b[0m\u001b[1;33m,\u001b[0m \u001b[0mid\u001b[0m\u001b[1;33m)\u001b[0m\u001b[1;33m:\u001b[0m\u001b[1;33m\u001b[0m\u001b[0m\n\u001b[0;32m     48\u001b[0m         \u001b[1;34m\"\"\"return the element with a matching id\"\"\"\u001b[0m\u001b[1;33m\u001b[0m\u001b[0m\n\u001b[1;32m---> 49\u001b[1;33m         \u001b[1;32mreturn\u001b[0m \u001b[0mlist\u001b[0m\u001b[1;33m.\u001b[0m\u001b[0m__getitem__\u001b[0m\u001b[1;33m(\u001b[0m\u001b[0mself\u001b[0m\u001b[1;33m,\u001b[0m \u001b[0mself\u001b[0m\u001b[1;33m.\u001b[0m\u001b[0m_dict\u001b[0m\u001b[1;33m[\u001b[0m\u001b[0mid\u001b[0m\u001b[1;33m]\u001b[0m\u001b[1;33m)\u001b[0m\u001b[1;33m\u001b[0m\u001b[0m\n\u001b[0m\u001b[0;32m     50\u001b[0m \u001b[1;33m\u001b[0m\u001b[0m\n\u001b[0;32m     51\u001b[0m     \u001b[1;32mdef\u001b[0m \u001b[0mlist_attr\u001b[0m\u001b[1;33m(\u001b[0m\u001b[0mself\u001b[0m\u001b[1;33m,\u001b[0m \u001b[0mattribute\u001b[0m\u001b[1;33m)\u001b[0m\u001b[1;33m:\u001b[0m\u001b[1;33m\u001b[0m\u001b[0m\n",
      "\u001b[1;31mKeyError\u001b[0m: <Reaction DM_h2o_c at 0xd0b6d68>"
     ]
    }
   ],
   "source": [
    "model.reactions.get_by_id(temp_DM)"
   ]
  },
  {
   "cell_type": "code",
   "execution_count": 11,
   "metadata": {
    "collapsed": false
   },
   "outputs": [
    {
     "data": {
      "text/plain": [
       "<Reaction DM_h2o_c at 0xd0b6d68>"
      ]
     },
     "execution_count": 11,
     "metadata": {},
     "output_type": "execute_result"
    }
   ],
   "source": [
    "temp_DM"
   ]
  },
  {
   "cell_type": "code",
   "execution_count": 113,
   "metadata": {
    "collapsed": false
   },
   "outputs": [
    {
     "data": {
      "text/plain": [
       "0.0002576589"
      ]
     },
     "execution_count": 113,
     "metadata": {},
     "output_type": "execute_result"
    }
   ],
   "source": [
    "model.reactions.get_by_id('DM_dadp_c').lower_bound"
   ]
  },
  {
   "cell_type": "code",
   "execution_count": 80,
   "metadata": {
    "collapsed": false
   },
   "outputs": [
    {
     "data": {
      "text/plain": [
       "0.0002576589"
      ]
     },
     "execution_count": 80,
     "metadata": {},
     "output_type": "execute_result"
    }
   ],
   "source": [
    "p_solution.x_dict['RNDR1']"
   ]
  },
  {
   "cell_type": "code",
   "execution_count": 24,
   "metadata": {
    "collapsed": false
   },
   "outputs": [],
   "source": [
    "solvals = []\n",
    "nonz = []\n",
    "for i in range(len(unique)):\n",
    "    rxnsols = []\n",
    "    nonz_rxns = []\n",
    "    for i2 in unique[i]:\n",
    "        flux_val = p_solution.x_dict[str(i2)]\n",
    "        if flux_val != 0:\n",
    "            nonz_rxns.append(model.reactions.get_by_id(i2))\n",
    "            rxnsols.append(flux_val)\n",
    "    nonz.append(nonz_rxns)\n",
    "    solvals.append(rxnsols)\n",
    "\n",
    "str(temp_DM)"
   ]
  },
  {
   "cell_type": "code",
   "execution_count": 90,
   "metadata": {
    "collapsed": false
   },
   "outputs": [
    {
     "data": {
      "text/plain": [
       "'DM_trdox_c'"
      ]
     },
     "execution_count": 90,
     "metadata": {},
     "output_type": "execute_result"
    }
   ],
   "source": [
    "str(temp_DM)"
   ]
  },
  {
   "cell_type": "code",
   "execution_count": null,
   "metadata": {
    "collapsed": true
   },
   "outputs": [],
   "source": []
  },
  {
   "cell_type": "code",
   "execution_count": null,
   "metadata": {
    "collapsed": true
   },
   "outputs": [],
   "source": []
  },
  {
   "cell_type": "code",
   "execution_count": null,
   "metadata": {
    "collapsed": true
   },
   "outputs": [],
   "source": []
  },
  {
   "cell_type": "code",
   "execution_count": null,
   "metadata": {
    "collapsed": true
   },
   "outputs": [],
   "source": []
  },
  {
   "cell_type": "code",
   "execution_count": 20,
   "metadata": {
    "collapsed": false
   },
   "outputs": [
    {
     "data": {
      "text/plain": [
       "['dadp_c', 'h2o_c', 'trdox_c']"
      ]
     },
     "execution_count": 20,
     "metadata": {},
     "output_type": "execute_result"
    }
   ],
   "source": [
    "test"
   ]
  },
  {
   "cell_type": "code",
   "execution_count": null,
   "metadata": {
    "collapsed": true
   },
   "outputs": [],
   "source": []
  },
  {
   "cell_type": "code",
   "execution_count": 225,
   "metadata": {
    "collapsed": false
   },
   "outputs": [
    {
     "name": "stdout",
     "output_type": "stream",
     "text": [
      "<class 'cobra.core.Metabolite.Metabolite'>\n",
      "<class 'cobra.core.Metabolite.Metabolite'>\n",
      "<class 'cobra.core.Metabolite.Metabolite'>\n"
     ]
    }
   ],
   "source": [
    "for x in model.reactions.get_by_id('RNDR2').products:\n",
    "    print type(x)\n",
    "        "
   ]
  },
  {
   "cell_type": "code",
   "execution_count": 226,
   "metadata": {
    "collapsed": false
   },
   "outputs": [
    {
     "data": {
      "text/plain": [
       "<Metabolite h2o_c at 0x11b0bbe0>"
      ]
     },
     "execution_count": 226,
     "metadata": {},
     "output_type": "execute_result"
    }
   ],
   "source": [
    "x"
   ]
  },
  {
   "cell_type": "code",
   "execution_count": null,
   "metadata": {
    "collapsed": true
   },
   "outputs": [],
   "source": []
  },
  {
   "cell_type": "code",
   "execution_count": null,
   "metadata": {
    "collapsed": true
   },
   "outputs": [],
   "source": []
  },
  {
   "cell_type": "code",
   "execution_count": 201,
   "metadata": {
    "collapsed": false
   },
   "outputs": [
    {
     "data": {
      "text/plain": [
       "[<Metabolite dgdp_c at 0xdb13908>,\n",
       " <Metabolite trdox_c at 0x13dbbc50>,\n",
       " <Metabolite h2o_c at 0x11b0bbe0>]"
      ]
     },
     "execution_count": 201,
     "metadata": {},
     "output_type": "execute_result"
    }
   ],
   "source": [
    "model.reactions.get_by_id('RNDR2').products"
   ]
  },
  {
   "cell_type": "code",
   "execution_count": 202,
   "metadata": {
    "collapsed": false
   },
   "outputs": [
    {
     "data": {
      "text/plain": [
       "[<Metabolite dcdp_c at 0xdb132e8>,\n",
       " <Metabolite h2o_c at 0x11b0bbe0>,\n",
       " <Metabolite trdox_c at 0x13dbbc50>]"
      ]
     },
     "execution_count": 202,
     "metadata": {},
     "output_type": "execute_result"
    }
   ],
   "source": [
    "model.reactions.get_by_id('RNDR3').products"
   ]
  },
  {
   "cell_type": "code",
   "execution_count": 203,
   "metadata": {
    "collapsed": false
   },
   "outputs": [
    {
     "data": {
      "text/plain": [
       "0.0002576589"
      ]
     },
     "execution_count": 203,
     "metadata": {},
     "output_type": "execute_result"
    }
   ],
   "source": [
    "p_solution.x_dict['RNDR1']"
   ]
  },
  {
   "cell_type": "code",
   "execution_count": 204,
   "metadata": {
    "collapsed": false
   },
   "outputs": [
    {
     "data": {
      "text/plain": [
       "0.0001725396"
      ]
     },
     "execution_count": 204,
     "metadata": {},
     "output_type": "execute_result"
    }
   ],
   "source": [
    "p_solution.x_dict['RNDR2']"
   ]
  },
  {
   "cell_type": "code",
   "execution_count": 205,
   "metadata": {
    "collapsed": false
   },
   "outputs": [
    {
     "data": {
      "text/plain": [
       "0.00043039320000015126"
      ]
     },
     "execution_count": 205,
     "metadata": {},
     "output_type": "execute_result"
    }
   ],
   "source": [
    "p_solution.x_dict['RNDR3']"
   ]
  },
  {
   "cell_type": "code",
   "execution_count": 148,
   "metadata": {
    "collapsed": false
   },
   "outputs": [
    {
     "name": "stdout",
     "output_type": "stream",
     "text": [
      "CYOOm2\n"
     ]
    }
   ],
   "source": [
    "for itmee in model.reactions:\n",
    "    if 'CYOO' in str(itmee):\n",
    "        print itmee"
   ]
  },
  {
   "cell_type": "code",
   "execution_count": 150,
   "metadata": {
    "collapsed": false
   },
   "outputs": [],
   "source": [
    "for i in unique:\n",
    "    if 'CYOO' in i:\n",
    "        print i"
   ]
  },
  {
   "cell_type": "code",
   "execution_count": 156,
   "metadata": {
    "collapsed": false
   },
   "outputs": [
    {
     "data": {
      "text/plain": [
       "<Gene 1346_AT1 at 0x12bcac88>"
      ]
     },
     "execution_count": 156,
     "metadata": {},
     "output_type": "execute_result"
    }
   ],
   "source": [
    "model.genes.get_by_id('1346_AT1')"
   ]
  },
  {
   "cell_type": "code",
   "execution_count": 165,
   "metadata": {
    "collapsed": true
   },
   "outputs": [],
   "source": [
    "for reaction in model.reactions:\n",
    "    rxns_incl =[]\n",
    "    gpr = reaction.gene_reaction_rule\n",
    "    if '1346_AT1' in gpr:\n",
    "        print reaction\n",
    "        rxns_incl.append(str(reaction))\n",
    "        gpr_incl.append(gpr)"
   ]
  },
  {
   "cell_type": "code",
   "execution_count": null,
   "metadata": {
    "collapsed": false
   },
   "outputs": [],
   "source": []
  },
  {
   "cell_type": "code",
   "execution_count": 227,
   "metadata": {
    "collapsed": true
   },
   "outputs": [],
   "source": [
    "amp_c = model.metabolites.get_by_id('amp_c')\n",
    "DM_amp_c = Reaction('DM_amp_c')\n",
    "DM_amp_c.name = DM_amp_c\n",
    "DM_amp_c.add_metabolites({amp_c: -1})\n",
    "model.add_reaction(DM_amp_c)"
   ]
  },
  {
   "cell_type": "code",
   "execution_count": 242,
   "metadata": {
    "collapsed": false
   },
   "outputs": [
    {
     "ename": "Exception",
     "evalue": "Reactions already in the model: DM_argsuc_c",
     "output_type": "error",
     "traceback": [
      "\u001b[1;31m---------------------------------------------------------------------------\u001b[0m",
      "\u001b[1;31mException\u001b[0m                                 Traceback (most recent call last)",
      "\u001b[1;32m<ipython-input-242-c231b155c70d>\u001b[0m in \u001b[0;36m<module>\u001b[1;34m()\u001b[0m\n\u001b[0;32m      3\u001b[0m \u001b[0mDM_amp_c\u001b[0m\u001b[1;33m.\u001b[0m\u001b[0mname\u001b[0m \u001b[1;33m=\u001b[0m \u001b[0mDM_argsuc_c\u001b[0m\u001b[1;33m\u001b[0m\u001b[0m\n\u001b[0;32m      4\u001b[0m \u001b[0mDM_amp_c\u001b[0m\u001b[1;33m.\u001b[0m\u001b[0madd_metabolites\u001b[0m\u001b[1;33m(\u001b[0m\u001b[1;33m{\u001b[0m\u001b[0mamp_c\u001b[0m\u001b[1;33m:\u001b[0m \u001b[1;33m-\u001b[0m\u001b[1;36m1\u001b[0m\u001b[1;33m}\u001b[0m\u001b[1;33m)\u001b[0m\u001b[1;33m\u001b[0m\u001b[0m\n\u001b[1;32m----> 5\u001b[1;33m \u001b[0mmodel\u001b[0m\u001b[1;33m.\u001b[0m\u001b[0madd_reaction\u001b[0m\u001b[1;33m(\u001b[0m\u001b[0mDM_amp_c\u001b[0m\u001b[1;33m)\u001b[0m\u001b[1;33m\u001b[0m\u001b[0m\n\u001b[0m",
      "\u001b[1;32mC:\\Users\\Omar\\Anaconda2\\lib\\site-packages\\cobra\\core\\Model.pyc\u001b[0m in \u001b[0;36madd_reaction\u001b[1;34m(self, reaction)\u001b[0m\n\u001b[0;32m    166\u001b[0m \u001b[1;33m\u001b[0m\u001b[0m\n\u001b[0;32m    167\u001b[0m         \"\"\"\n\u001b[1;32m--> 168\u001b[1;33m         \u001b[0mself\u001b[0m\u001b[1;33m.\u001b[0m\u001b[0madd_reactions\u001b[0m\u001b[1;33m(\u001b[0m\u001b[1;33m[\u001b[0m\u001b[0mreaction\u001b[0m\u001b[1;33m]\u001b[0m\u001b[1;33m)\u001b[0m\u001b[1;33m\u001b[0m\u001b[0m\n\u001b[0m\u001b[0;32m    169\u001b[0m \u001b[1;33m\u001b[0m\u001b[0m\n\u001b[0;32m    170\u001b[0m     \u001b[1;32mdef\u001b[0m \u001b[0madd_reactions\u001b[0m\u001b[1;33m(\u001b[0m\u001b[0mself\u001b[0m\u001b[1;33m,\u001b[0m \u001b[0mreaction_list\u001b[0m\u001b[1;33m)\u001b[0m\u001b[1;33m:\u001b[0m\u001b[1;33m\u001b[0m\u001b[0m\n",
      "\u001b[1;32mC:\\Users\\Omar\\Anaconda2\\lib\\site-packages\\cobra\\core\\Model.pyc\u001b[0m in \u001b[0;36madd_reactions\u001b[1;34m(self, reaction_list)\u001b[0m\n\u001b[0;32m    190\u001b[0m         \u001b[1;32mif\u001b[0m \u001b[0mlen\u001b[0m\u001b[1;33m(\u001b[0m\u001b[0mreactions_in_model\u001b[0m\u001b[1;33m)\u001b[0m \u001b[1;33m>\u001b[0m \u001b[1;36m0\u001b[0m\u001b[1;33m:\u001b[0m\u001b[1;33m\u001b[0m\u001b[0m\n\u001b[0;32m    191\u001b[0m             raise Exception(\"Reactions already in the model: \" +\n\u001b[1;32m--> 192\u001b[1;33m                             \", \".join(reactions_in_model))\n\u001b[0m\u001b[0;32m    193\u001b[0m \u001b[1;33m\u001b[0m\u001b[0m\n\u001b[0;32m    194\u001b[0m         \u001b[1;31m# Add reactions. Also take care of genes and metabolites in the loop\u001b[0m\u001b[1;33m\u001b[0m\u001b[1;33m\u001b[0m\u001b[0m\n",
      "\u001b[1;31mException\u001b[0m: Reactions already in the model: DM_argsuc_c"
     ]
    }
   ],
   "source": [
    "amp_c = model.metabolites.get_by_id('argsuc_c')\n",
    "DM_amp_c = Reaction('DM_argsuc_c')\n",
    "DM_amp_c.name = DM_argsuc_c\n",
    "DM_amp_c.add_metabolites({amp_c: -1})\n",
    "model.add_reaction(DM_amp_c)"
   ]
  },
  {
   "cell_type": "code",
   "execution_count": 231,
   "metadata": {
    "collapsed": false
   },
   "outputs": [
    {
     "data": {
      "text/plain": [
       "'amp_c --> '"
      ]
     },
     "execution_count": 231,
     "metadata": {},
     "output_type": "execute_result"
    }
   ],
   "source": [
    "model.reactions[-2].reaction"
   ]
  },
  {
   "cell_type": "code",
   "execution_count": 232,
   "metadata": {
    "collapsed": false
   },
   "outputs": [
    {
     "data": {
      "text/plain": [
       "'argsuc_c --> '"
      ]
     },
     "execution_count": 232,
     "metadata": {},
     "output_type": "execute_result"
    }
   ],
   "source": [
    "model.reactions[-1].reaction"
   ]
  },
  {
   "cell_type": "code",
   "execution_count": 241,
   "metadata": {
    "collapsed": false
   },
   "outputs": [
    {
     "name": "stdout",
     "output_type": "stream",
     "text": [
      "DM_dadp_c\n",
      "DM_h2o_c\n",
      "DM_trdox_c\n",
      "DM_dgdp_c\n",
      "DM_trdox_c\n",
      "DM_h2o_c\n",
      "DM_dcdp_c\n",
      "DM_h2o_c\n",
      "DM_trdox_c\n",
      "DM_dudp_c\n",
      "DM_trdox_c\n",
      "DM_h2o_c\n"
     ]
    }
   ],
   "source": [
    "for thing in unique[4]:\n",
    "    for met in model.reactions.get_by_id(thing).products:\n",
    "        print 'DM_' + str(met)"
   ]
  },
  {
   "cell_type": "code",
   "execution_count": 17,
   "metadata": {
    "collapsed": false
   },
   "outputs": [
    {
     "data": {
      "text/plain": [
       "'3pg_c + nad_c --> 3php_c + h_c + nadh_c'"
      ]
     },
     "execution_count": 17,
     "metadata": {},
     "output_type": "execute_result"
    }
   ],
   "source": [
    "model.reactions.get_by_id('PGCD').reaction"
   ]
  },
  {
   "cell_type": "code",
   "execution_count": null,
   "metadata": {
    "collapsed": true
   },
   "outputs": [],
   "source": []
  }
 ],
 "metadata": {
  "anaconda-cloud": {},
  "celltoolbar": "Raw Cell Format",
  "kernelspec": {
   "display_name": "Python [Root]",
   "language": "python",
   "name": "Python [Root]"
  },
  "language_info": {
   "codemirror_mode": {
    "name": "ipython",
    "version": 2
   },
   "file_extension": ".py",
   "mimetype": "text/x-python",
   "name": "python",
   "nbconvert_exporter": "python",
   "pygments_lexer": "ipython2",
   "version": "2.7.12"
  }
 },
 "nbformat": 4,
 "nbformat_minor": 0
}
