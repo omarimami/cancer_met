{
 "cells": [
  {
   "cell_type": "code",
   "execution_count": 2,
   "metadata": {
    "collapsed": true
   },
   "outputs": [],
   "source": [
    "from tqdm import tqdm\n",
    "from cobra import Reaction\n",
    "import escher\n",
    "import escher.urls\n",
    "import cobra\n",
    "import cobra.test\n",
    "import json\n",
    "import os\n",
    "import string\n",
    "from IPython.display import HTML\n",
    "from cobra import Model, Reaction, Metabolite\n",
    "from cobra.flux_analysis.parsimonious import optimize_minimal_flux\n",
    "from cobra import ArrayBasedModel\n",
    "import numpy as np\n",
    "model_ref = cobra.io.load_matlab_model('C:\\\\Users\\\\Omar\\\\Desktop\\\\virtual\\\\venv\\\\RECON1', 'RECON1')"
   ]
  },
  {
   "cell_type": "markdown",
   "metadata": {},
   "source": [
    "# 1) Get list of lists of unique genes and corresponding reactions"
   ]
  },
  {
   "cell_type": "code",
   "execution_count": 3,
   "metadata": {
    "collapsed": true
   },
   "outputs": [],
   "source": [
    "gprs = []\n",
    "rxns = []\n",
    "# get reacions in model and the associate gprs\n",
    "for reaction in model_ref.reactions:\n",
    "    rxns.append(reaction)\n",
    "    gpr = reaction.gene_reaction_rule\n",
    "    gprs.append(gpr)"
   ]
  },
  {
   "cell_type": "code",
   "execution_count": 4,
   "metadata": {
    "collapsed": true
   },
   "outputs": [],
   "source": [
    "with open('mann_biserial_cutoff_down_single.csv','r') as bis:\n",
    "    clus_list = []\n",
    "    ent_list = []\n",
    "    genes_names_list = []\n",
    "    biserial_list=[]\n",
    "    log2fold_list = []\n",
    "    for line in bis:\n",
    "        line_ele = line.strip().split(\",\")\n",
    "        clus_list.append(line_ele[0])\n",
    "        ent_list.append(line_ele[1])\n",
    "        genes_names_list.append(line_ele[2])\n",
    "        biserial_list.append(line_ele[3])\n",
    "        log2fold_list.append(line_ele[4])"
   ]
  },
  {
   "cell_type": "code",
   "execution_count": 5,
   "metadata": {
    "collapsed": true
   },
   "outputs": [],
   "source": [
    "unique_ent = []\n",
    "for i in ent_list:\n",
    "    if i not in unique_ent:\n",
    "        unique_ent.append(i)"
   ]
  },
  {
   "cell_type": "code",
   "execution_count": 6,
   "metadata": {
    "collapsed": true
   },
   "outputs": [],
   "source": [
    "#rxns_dict={}\n",
    "count = 0\n",
    "overall_rxns_incl_down =[]\n",
    "for i,x in enumerate(unique_ent):\n",
    "    rxns_incl = []\n",
    "    gpr_incl = []\n",
    "    for reaction in model_ref.reactions:\n",
    "        gpr = reaction.gene_reaction_rule\n",
    "        gpr = gpr.replace(')','')\n",
    "        gpr = gpr.replace('(','')\n",
    "        gpr = gpr.strip().split()\n",
    "        \n",
    "        for item in gpr:\n",
    "            if x + '_AT1' in item or x+'_AT2' in item or x + '_AT3' in item or x+'_AT4' in item or x+'_AT5' in item:\n",
    "                if len(item) == len(x + '_AT1'):\n",
    "                    rxns_incl.append(str(reaction))\n",
    "                    gpr_incl.append(gpr)\n",
    "                    #print ent,reaction, gpr\n",
    "                    count +=1\n",
    "    overall_rxns_incl_down.append(rxns_incl)\n",
    "    #rxns_dict[ent] = rxns_incl"
   ]
  },
  {
   "cell_type": "code",
   "execution_count": 7,
   "metadata": {
    "collapsed": true
   },
   "outputs": [],
   "source": [
    "unique_rxns = []\n",
    "for i in range(len(overall_rxns_incl_down)):\n",
    "    cur_set = overall_rxns_incl_down[i]\n",
    "    cur_uniques=[]\n",
    "    for j in range(len(cur_set)):\n",
    "        if cur_set[j] not in cur_uniques:\n",
    "            cur_uniques.append(cur_set[j])\n",
    "    unique_rxns.append(cur_uniques)"
   ]
  },
  {
   "cell_type": "markdown",
   "metadata": {},
   "source": [
    "# 2) Set up biomass reaction as well as RECON1 -- note: EX__arg is set at a lb of -0.22\n",
    "\n",
    "## this is done such that a flux solution can be found in the healthy case"
   ]
  },
  {
   "cell_type": "markdown",
   "metadata": {},
   "source": [
    "* create demands for: ethanalamine (lb set at -1), \n",
    "* create a transporter for Tyr_ggnt (lb set at -1000)\n",
    "* change all DM_ and EX_ lower bounds to 0\n",
    "* set the lower bounds to -1 of the following exceptions: EX_peplys_e, EX_Tyr_ggn_e, EX_arg__L_e, EX_asn__L_e, EX_asp__L_e, EX_chol_e, EX_cl_e, EX_glc__D_e, EX_gln__L_e, EX_gly_e, EX_h_e, EX_h2o_e, EX_ile__L_e, EX_k_e, EX_leu__L_e, EX_lys__L_e, EX_na1_e, EX_nh4_e, EX_o2_e, EX_phe__L_e, EX_pi_e, EX_pro__L_e, EX_ser__L_e, EX_thr__L_e, EX_trp__L_e, EX_tyr__L_e, EX_val__L_e\n",
    "* set EX_yvite_e and EX_10fthf5glu_e to 0 as well\n",
    "* add the biomass reaction as per the following\n",
    "* add the biomass reaction to the model and set as model objective\n",
    "* add a DM_atp_c demand DM_atp_c.add_metabolites({atp_c: -1, h2o_c: -1, adp_c: 1, pi_c: 1, h_c: 1}) with the lower bound set as 0.9*7.9939\n",
    "* free the following reactions model.reactions.get_by_id('EX_h_e').lower_bound = -1000\n",
    "model.reactions.get_by_id('EX_o2_e').lower_bound = -1000\n",
    "model.reactions.get_by_id('EX_fe2_e').lower_bound = -1000\n",
    "model.reactions.get_by_id('EX_nh4_e').lower_bound = -1000\n",
    "model.reactions.get_by_id('EX_glc__D_e').lower_bound = -0.4882\n",
    "model.reactions.get_by_id('EX_pi_e').lower_bound = -1000\n",
    "\n",
    "* constrain the upper and lower bound of the biomass reaction to 0.0177, obtained from calculate fluxes"
   ]
  },
  {
   "cell_type": "code",
   "execution_count": 8,
   "metadata": {
    "collapsed": false
   },
   "outputs": [
    {
     "name": "stdout",
     "output_type": "stream",
     "text": [
      "['DM_etha_c', 'EX_peplys_e', 'EX_Tyr_ggn_e', 'EX_arg__L_e', 'EX_asn__L_e', 'EX_asp__L_e', 'EX_chol_e', 'EX_cl_e', 'EX_glc__D_e', 'EX_gln__L_e', 'EX_gly_e', 'EX_h_e', 'EX_h2o_e', 'EX_ile__L_e', 'EX_k_e', 'EX_leu__L_e', 'EX_lys__L_e', 'EX_na1_e', 'EX_nh4_e', 'EX_o2_e', 'EX_phe__L_e', 'EX_pi_e', 'EX_pro__L_e', 'EX_ser__L_e', 'EX_thr__L_e', 'EX_trp__L_e', 'EX_tyr__L_e', 'EX_val__L_e']\n"
     ]
    },
    {
     "name": "stderr",
     "output_type": "stream",
     "text": [
      "cobra\\core\\Model.py:289 UserWarning: need to pass in a list\n"
     ]
    }
   ],
   "source": [
    "#creat ethanalamine demand\n",
    "#metabolite is etha_c\n",
    "\n",
    "DM_etha_c = Reaction('DM_etha_c')\n",
    "DM_etha_c.name = DM_etha_c\n",
    "\n",
    "etha_c = model_ref.metabolites.get_by_id('etha_c')\n",
    "\n",
    "DM_etha_c.add_metabolites({etha_c: -1})\n",
    "model_ref.add_reaction(DM_etha_c)\n",
    "\n",
    "#create a transporter for this\n",
    "\n",
    "Tyr_ggnt = Reaction('Tyr_ggnt')\n",
    "Tyr_ggnt.name = Tyr_ggnt\n",
    "\n",
    "Tyr_ggn_e = model_ref.metabolites.get_by_id('Tyr_ggn_e')\n",
    "Tyr_ggn_c = model_ref.metabolites.get_by_id('Tyr_ggn_c')\n",
    "\n",
    "Tyr_ggnt.add_metabolites({Tyr_ggn_e: -1, Tyr_ggn_c: 1})\n",
    "model_ref.add_reaction(Tyr_ggnt)\n",
    "\n",
    "DM_etha_c.lower_bound = -1\n",
    "Tyr_ggnt.lower_bound = -1000\n",
    "\n",
    "except_EX_names = '''DM_etha_c, EX_peplys_e, EX_Tyr_ggn_e, EX_arg__L_e, EX_asn__L_e, EX_asp__L_e, EX_chol_e, EX_cl_e, EX_glc__D_e, EX_gln__L_e, EX_gly_e, EX_h_e, EX_h2o_e, EX_ile__L_e, EX_k_e, EX_leu__L_e, EX_lys__L_e, EX_na1_e, EX_nh4_e, EX_o2_e, EX_phe__L_e, EX_pi_e, EX_pro__L_e, EX_ser__L_e, EX_thr__L_e, EX_trp__L_e, EX_tyr__L_e, EX_val__L_e'''\n",
    "except_EX_names_split = except_EX_names.split(', ')\n",
    "print except_EX_names_split\n",
    "\n",
    "# Changing all lower bounds to 0 except the given reactions above\n",
    "\n",
    "for a in model_ref.reactions[1188:1591]:\n",
    "    a.lower_bound = 0\n",
    "\n",
    "model_ref.reactions.get_by_id('EX_yvite_e').lower_bound = 0\n",
    "model_ref.reactions.get_by_id('EX_10fthf5glu_e').lower_bound = 0\n",
    "    \n",
    "for b in model_ref.reactions[1188:1591]:\n",
    "    for c in range(len(except_EX_names_split)):  \n",
    "        if b.id  == except_EX_names_split[c]:\n",
    "            b.lower_bound = -1\n",
    "            \n",
    "biomass_NCI60 = Reaction('biomass_NCI60')\n",
    "biomass_NCI60.name = biomass_NCI60\n",
    "\n",
    "ala_L_c = model_ref.metabolites.get_by_id('ala__L_c')\n",
    "arg_L_c = model_ref.metabolites.get_by_id('arg__L_c')\n",
    "asn_L_c = model_ref.metabolites.get_by_id('asn__L_c')\n",
    "asp_L_c = model_ref.metabolites.get_by_id('asp__L_c')\n",
    "atp_c = model_ref.metabolites.get_by_id('atp_c')\n",
    "clpn_hs_c = model_ref.metabolites.get_by_id('clpn_hs_c')\n",
    "ctp_c = model_ref.metabolites.get_by_id('ctp_c')\n",
    "dag_hs_c = model_ref.metabolites.get_by_id('dag_hs_c')\n",
    "datp_c = model_ref.metabolites.get_by_id('datp_c')\n",
    "dctp_c = model_ref.metabolites.get_by_id('dctp_c')\n",
    "dgtp_c = model_ref.metabolites.get_by_id('dgtp_c')\n",
    "dttp_c = model_ref.metabolites.get_by_id('dttp_c')\n",
    "gln_L_c = model_ref.metabolites.get_by_id('gln__L_c')\n",
    "glu_L_c = model_ref.metabolites.get_by_id('glu__L_c')\n",
    "gly_c = model_ref.metabolites.get_by_id('gly_c')\n",
    "glygn2_c = model_ref.metabolites.get_by_id('glygn2_c')\n",
    "gtp_c = model_ref.metabolites.get_by_id('gtp_c')\n",
    "h2o_c = model_ref.metabolites.get_by_id('h2o_c')\n",
    "hdca_c = model_ref.metabolites.get_by_id('hdca_c')\n",
    "hdcea_c = model_ref.metabolites.get_by_id('hdcea_c')\n",
    "ile_L_c = model_ref.metabolites.get_by_id('ile__L_c')\n",
    "leu_L_c = model_ref.metabolites.get_by_id('leu__L_c')\n",
    "lpchol_hs_c = model_ref.metabolites.get_by_id('lpchol_hs_c')\n",
    "lys_L_c = model_ref.metabolites.get_by_id('lys__L_c')\n",
    "mag_hs_c = model_ref.metabolites.get_by_id('mag_hs_c')\n",
    "ocdca_c = model_ref.metabolites.get_by_id('ocdca_c')\n",
    "ocdcea_c = model_ref.metabolites.get_by_id('ocdcea_c')\n",
    "pa_hs_c = model_ref.metabolites.get_by_id('pa_hs_c')\n",
    "pail_hs_c = model_ref.metabolites.get_by_id('pail_hs_c')\n",
    "pchol_hs_c = model_ref.metabolites.get_by_id('pchol_hs_c')\n",
    "pe_hs_c = model_ref.metabolites.get_by_id('pe_hs_c')\n",
    "phe_L_c = model_ref.metabolites.get_by_id('phe__L_c')\n",
    "ps_hs_c = model_ref.metabolites.get_by_id('ps_hs_c')\n",
    "ser_L_c = model_ref.metabolites.get_by_id('ser__L_c')\n",
    "sphmyln_hs_c = model_ref.metabolites.get_by_id('sphmyln_hs_c')\n",
    "thr_L_c = model_ref.metabolites.get_by_id('thr__L_c')\n",
    "trp_L_c = model_ref.metabolites.get_by_id('trp__L_c')\n",
    "tyr_L_c = model_ref.metabolites.get_by_id('tyr__L_c')\n",
    "utp_c = model_ref.metabolites.get_by_id('utp_c')\n",
    "val_L_c = model_ref.metabolites.get_by_id('val__L_c')\n",
    "pro_L_m = model_ref.metabolites.get_by_id('pro__L_m')\n",
    "chsterol_r = model_ref.metabolites.get_by_id('chsterol_r')\n",
    "xolest_hs_r = model_ref.metabolites.get_by_id('xolest_hs_r')\n",
    "adp_c = model_ref.metabolites.get_by_id('adp_c')\n",
    "h_c = model_ref.metabolites.get_by_id('h_c')\n",
    "pi_c = model_ref.metabolites.get_by_id('pi_c')\n",
    "\n",
    "#remove ocdca and ocdcea\n",
    "# added xolest value to cholesterol in biomass and remove xolest\n",
    "\n",
    "biomass_NCI60.add_metabolites({ala_L_c: -0.587929, arg_L_c: -0.380280, asn_L_c: -0.323313, asp_L_c: -0.261396, \n",
    "                               atp_c: -35.033540, clpn_hs_c: -0.000624, ctp_c: -0.033435, dag_hs_c: -0.001032, \n",
    "                               datp_c: -0.014557, dctp_c: -0.009770, dgtp_c: -0.009748, dttp_c: -0.014546,\n",
    "                               gln_L_c: -0.319051, glu_L_c: -0.387401, gly_c: -0.504294, glygn2_c: -0.034479,\n",
    "                               gtp_c: -0.055967, h2o_c: -35.000000, hdca_c: -0.008293, hdcea_c: -0.003315, \n",
    "                               ile_L_c: -0.319813, leu_L_c: -0.548692, lpchol_hs_c: -0.002470, lys_L_c: -0.552717, \n",
    "                               mag_hs_c: -0.001456, pa_hs_c: -0.010645,\n",
    "                               pail_hs_c: -0.005016, pchol_hs_c: -0.022878, pe_hs_c: -0.018211, phe_L_c: -0.170743,\n",
    "                               ps_hs_c: -0.006808, ser_L_c: -0.385852, sphmyln_hs_c: -0.010215, thr_L_c: -0.378004, \n",
    "                               trp_L_c: -0.039847, tyr_L_c: -0.150141, utp_c: -0.063323, val_L_c: -0.385554,\n",
    "                               pro_L_m: -0.237850, chsterol_r: -0.054102,  adp_c: 35.000000, \n",
    "                               h_c: 35.000000, pi_c: 35.000000})\n",
    "\n",
    "model_ref.add_reaction(biomass_NCI60)\n",
    "my_objective = model_ref.reactions.get_by_id('biomass_NCI60')\n",
    "model_ref.change_objective(my_objective)\n",
    "\n",
    "# Adding DM_atp_c reaction\n",
    "\n",
    "DM_atp_c = Reaction('DM_atp_c')\n",
    "DM_atp_c.name = DM_atp_c\n",
    "\n",
    "atp_c = model_ref.metabolites.get_by_id('atp_c')\n",
    "adp_c = model_ref.metabolites.get_by_id('adp_c')\n",
    "h2o_c = model_ref.metabolites.get_by_id('h2o_c')\n",
    "h_c = model_ref.metabolites.get_by_id('h_c')\n",
    "pi_c = model_ref.metabolites.get_by_id('pi_c')\n",
    "\n",
    "\n",
    "DM_atp_c.add_metabolites({atp_c: -1, h2o_c: -1, adp_c: 1, pi_c: 1, h_c: 1})\n",
    "model_ref.add_reaction(DM_atp_c)\n",
    "\n",
    "# Setting lower bounds for DM_atp_c as per Dan\n",
    "\n",
    "model_ref.reactions.get_by_id('DM_atp_c').lower_bound = 0.9*7.9939\n",
    "\n",
    "model_ref.reactions.get_by_id('EX_h_e').lower_bound = -1000\n",
    "model_ref.reactions.get_by_id('EX_o2_e').lower_bound = -1000\n",
    "model_ref.reactions.get_by_id('EX_fe2_e').lower_bound = -1000\n",
    "model_ref.reactions.get_by_id('EX_nh4_e').lower_bound = -1000\n",
    "\n",
    "model_ref.reactions.get_by_id('EX_glc__D_e').lower_bound = -0.4882\n",
    "\n",
    "# constrained as per calculate fluxes \n",
    "model_ref.reactions.get_by_id('biomass_NCI60').lower_bound = 0.0177\n",
    "model_ref.reactions.get_by_id('biomass_NCI60').upper_bound = 0.0177\n",
    "\n",
    "model_ref.reactions.get_by_id('EX_pi_e').lower_bound = -1000\n",
    "\n",
    "# 6/16/16 Changing amino acid uptake constraints\n",
    "# arg__L__e initially was -0.0022\n",
    "model_ref.reactions.get_by_id('EX_arg__L_e').lower_bound = -0.0022\n",
    "\n",
    "model_ref.reactions.get_by_id('EX_asn__L_e').lower_bound = -0.0058\n",
    "model_ref.reactions.get_by_id('EX_asp__L_e').lower_bound = -0.0081\n",
    "model_ref.reactions.get_by_id('EX_chol_e').lower_bound = -0.00062386\n",
    "model_ref.reactions.get_by_id('EX_gln__L_e').lower_bound = -0.1202\n",
    "model_ref.reactions.get_by_id('EX_gly_e').lower_bound = -0.0019\n",
    "model_ref.reactions.get_by_id('EX_ile__L_e').lower_bound = -0.0081\n",
    "model_ref.reactions.get_by_id('EX_leu__L_e').lower_bound = -0.0110\n",
    "model_ref.reactions.get_by_id('EX_lys__L_e').lower_bound = -0.0111\n",
    "model_ref.reactions.get_by_id('EX_phe__L_e').lower_bound = -0.0040\n",
    "\n",
    "model_ref.reactions.get_by_id('EX_pro__L_e').lower_bound = -0.0045\n",
    "\n",
    "model_ref.reactions.get_by_id('EX_ser__L_e').lower_bound = -0.0167\n",
    "model_ref.reactions.get_by_id('EX_trp__L_e').lower_bound = -0.0013\n",
    "model_ref.reactions.get_by_id('EX_tyr__L_e').lower_bound = -0.0068\n",
    "model_ref.reactions.get_by_id('EX_val__L_e').lower_bound = -0.0079\n",
    "\n",
    "#6/24/16 lowerbound changes\n",
    "\n",
    "model_ref.reactions.get_by_id('FTHFLi').lower_bound = 0\n",
    "model_ref.reactions.get_by_id('FTHFLmi').lower_bound = 0\n",
    "\n",
    "model_ref.reactions.get_by_id('FUM').lower_bound = 0\n",
    "model_ref.reactions.get_by_id('FUM').upper_bound = 0\n",
    "\n",
    "model_ref.reactions.get_by_id('BILGLCURte').lower_bound = 0\n",
    "model_ref.reactions.get_by_id('BILDGLCURte').lower_bound = 0\n",
    "\n",
    "h_i = Metabolite('h_i', formula='h', name='h_i', compartment='i')\n",
    "model_ref.add_metabolites(h_i)\n",
    "\n",
    "\n",
    "# delete reaction\n",
    "model_ref.remove_reactions('ATPS4m')\n",
    "\n",
    "# re-add the reaction while replacing h_c with h_i\n",
    "ATPS4m = Reaction('ATPS4m')\n",
    "ATPS4m.name = ATPS4m\n",
    "\n",
    "adp_m = model_ref.metabolites.get_by_id('adp_m')\n",
    "h_i = model_ref.metabolites.get_by_id('h_i')\n",
    "pi_m = model_ref.metabolites.get_by_id('pi_m')\n",
    "h2o_m = model_ref.metabolites.get_by_id('h2o_m')\n",
    "h_m = model_ref.metabolites.get_by_id('h_m')\n",
    "atp_m = model_ref.metabolites.get_by_id('atp_m')\n",
    "\n",
    "ATPS4m.add_metabolites({adp_m: -1, h_i: -4, pi_m: -1, h2o_m: 1, h_m: 3, atp_m: 1})\n",
    "model_ref.add_reaction(ATPS4m)\n",
    "\n",
    "model_ref.remove_reactions('CYOOm3')\n",
    "\n",
    "CYOOm3 = Reaction('CYOOm3')\n",
    "CYOOm3.name = CYOOm3\n",
    "\n",
    "h_m = model_ref.metabolites.get_by_id('h_m')\n",
    "o2_m = model_ref.metabolites.get_by_id('o2_m')\n",
    "focytC_m = model_ref.metabolites.get_by_id('focytC_m')\n",
    "h_i = model_ref.metabolites.get_by_id('h_i')\n",
    "h2o_m = model_ref.metabolites.get_by_id('h2o_m')\n",
    "ficytC_m = model_ref.metabolites.get_by_id('ficytC_m')\n",
    "\n",
    "\n",
    "CYOOm3.add_metabolites({h_m: -8, o2_m: -1, focytC_m: -4, h_i: 4, h2o_m: 2, ficytC_m: 4})\n",
    "model_ref.add_reaction(CYOOm3)\n",
    "\n",
    "# delete reaction\n",
    "model_ref.remove_reactions('NADH2_u10m')\n",
    "\n",
    "# re-add the reaction while replacing h_c with h_i\n",
    "NADH2_u10m = Reaction('NADH2_u10m')\n",
    "NADH2_u10m.name = NADH2_u10m\n",
    "\n",
    "q10_m = model_ref.metabolites.get_by_id('q10_m')\n",
    "h_m = model_ref.metabolites.get_by_id('h_m')\n",
    "nadh_m = model_ref.metabolites.get_by_id('nadh_m')\n",
    "nad_m = model_ref.metabolites.get_by_id('nad_m')\n",
    "h_i = model_ref.metabolites.get_by_id('h_i')\n",
    "q10h2_m = model_ref.metabolites.get_by_id('q10h2_m')\n",
    "\n",
    "\n",
    "\n",
    "NADH2_u10m.add_metabolites({q10_m: -1, h_m: -5, nadh_m: -1, nad_m: 1, h_i: 4, q10h2_m: 1})\n",
    "model_ref.add_reaction(NADH2_u10m)\n",
    "\n",
    "# delete reaction\n",
    "model_ref.remove_reactions('CYOR_u10m')\n",
    "\n",
    "# re-add the reaction while replacing h_c with h_i\n",
    "CYOR_u10m = Reaction('CYOR_u10m')\n",
    "CYOR_u10m.name = NADH2_u10m\n",
    "\n",
    "ficytC_m = model_ref.metabolites.get_by_id('ficytC_m')\n",
    "h_m = model_ref.metabolites.get_by_id('h_m')\n",
    "q10h2_m = model_ref.metabolites.get_by_id('q10h2_m')\n",
    "q10_m = model_ref.metabolites.get_by_id('q10_m')\n",
    "focytC_m = model_ref.metabolites.get_by_id('focytC_m')\n",
    "h_i = model_ref.metabolites.get_by_id('h_i')\n",
    "\n",
    "\n",
    "CYOR_u10m.add_metabolites({ficytC_m: -2, h_m: -2, q10h2_m: -1, q10_m: 1, focytC_m: 2, h_i: 4})\n",
    "model_ref.add_reaction(CYOR_u10m)"
   ]
  },
  {
   "cell_type": "markdown",
   "metadata": {},
   "source": [
    "### Find loops and reduce model"
   ]
  },
  {
   "cell_type": "code",
   "execution_count": 9,
   "metadata": {
    "collapsed": false
   },
   "outputs": [],
   "source": [
    "model_test = model_ref.copy()"
   ]
  },
  {
   "cell_type": "code",
   "execution_count": 10,
   "metadata": {
    "collapsed": true
   },
   "outputs": [],
   "source": [
    "# allow 0 to be and option for FVA\n",
    "for rxn in model_test.reactions:\n",
    "    if model_test.reactions.get_by_id(str(rxn)).lower_bound > 0:\n",
    "        model_test.reactions.get_by_id(str(rxn)).lower_bound = 0\n",
    "    elif model_test.reactions.get_by_id(str(rxn)).upper_bound < 0:\n",
    "        model_test.reactions.get_by_id(str(rxn)).upper_bound = 0"
   ]
  },
  {
   "cell_type": "code",
   "execution_count": 11,
   "metadata": {
    "collapsed": false
   },
   "outputs": [
    {
     "data": {
      "text/plain": [
       "<Solution 0.02 at 0x10bf63c8>"
      ]
     },
     "execution_count": 11,
     "metadata": {},
     "output_type": "execute_result"
    }
   ],
   "source": [
    "model_test.optimize()"
   ]
  },
  {
   "cell_type": "code",
   "execution_count": 12,
   "metadata": {
    "collapsed": true
   },
   "outputs": [],
   "source": [
    "fva_result = cobra.flux_analysis.flux_variability_analysis(model_test)"
   ]
  },
  {
   "cell_type": "code",
   "execution_count": 13,
   "metadata": {
    "collapsed": true
   },
   "outputs": [],
   "source": [
    "#create reduced model based on FVA\n",
    "# not we should be doing this after adding each demand since we can activate pathways \n",
    "model_red = model_ref.copy()\n",
    "for key in fva_result:\n",
    "    if -10**-6< fva_result[key]['maximum'] < 10**-6 and -10**-6< fva_result[key]['minimum'] < 10**-6:\n",
    "        model_red.reactions.get_by_id(key).delete(remove_orphans = True)"
   ]
  },
  {
   "cell_type": "code",
   "execution_count": 14,
   "metadata": {
    "collapsed": true
   },
   "outputs": [],
   "source": [
    "model_healthy_red = model_red.copy()"
   ]
  },
  {
   "cell_type": "code",
   "execution_count": null,
   "metadata": {
    "collapsed": true
   },
   "outputs": [],
   "source": []
  },
  {
   "cell_type": "markdown",
   "metadata": {},
   "source": [
    "# 3) Run pFBA with biomass set as the objective"
   ]
  },
  {
   "cell_type": "markdown",
   "metadata": {},
   "source": [
    "## Calculating the normal, healthy demands"
   ]
  },
  {
   "cell_type": "code",
   "execution_count": 15,
   "metadata": {
    "collapsed": true
   },
   "outputs": [],
   "source": [
    "p_solution_ref = cobra.flux_analysis.parsimonious.optimize_minimal_flux(model_ref)"
   ]
  },
  {
   "cell_type": "code",
   "execution_count": 19,
   "metadata": {
    "collapsed": false
   },
   "outputs": [],
   "source": [
    "p_sol = cobra.flux_analysis.parsimonious.optimize_minimal_flux(model_healthy_red)"
   ]
  },
  {
   "cell_type": "code",
   "execution_count": 16,
   "metadata": {
    "collapsed": false
   },
   "outputs": [
    {
     "data": {
      "text/plain": [
       "0.4979664887656241"
      ]
     },
     "execution_count": 16,
     "metadata": {},
     "output_type": "execute_result"
    }
   ],
   "source": [
    "p_solution_ref.x_dict['SUCD1m']"
   ]
  },
  {
   "cell_type": "code",
   "execution_count": 20,
   "metadata": {
    "collapsed": false
   },
   "outputs": [
    {
     "data": {
      "text/plain": [
       "0.4979664887656219"
      ]
     },
     "execution_count": 20,
     "metadata": {},
     "output_type": "execute_result"
    }
   ],
   "source": [
    "p_sol.x_dict['SUCD1m']"
   ]
  },
  {
   "cell_type": "markdown",
   "metadata": {},
   "source": [
    "#### Constrain reactions "
   ]
  },
  {
   "cell_type": "code",
   "execution_count": 21,
   "metadata": {
    "collapsed": true
   },
   "outputs": [],
   "source": [
    "for reaction in model_healthy_red.reactions:\n",
    "    model_healthy_red.reactions.get_by_id(str(reaction)).lower_bound = p_sol.x_dict[str(reaction)]\n",
    "    model_healthy_red.reactions.get_by_id(str(reaction)).upper_bound = p_sol.x_dict[str(reaction)]"
   ]
  },
  {
   "cell_type": "code",
   "execution_count": 24,
   "metadata": {
    "collapsed": true
   },
   "outputs": [],
   "source": [
    "from cobra.flux_analysis.loopless import construct_loopless_model"
   ]
  },
  {
   "cell_type": "code",
   "execution_count": 42,
   "metadata": {
    "collapsed": true
   },
   "outputs": [],
   "source": [
    "unique_rxns = [['SUCD1m'],['ARGSS'],['FUMm']]"
   ]
  },
  {
   "cell_type": "code",
   "execution_count": 48,
   "metadata": {
    "collapsed": true
   },
   "outputs": [],
   "source": [
    "unique_rxns = [['SUCD1m']]"
   ]
  },
  {
   "cell_type": "code",
   "execution_count": null,
   "metadata": {
    "collapsed": false
   },
   "outputs": [],
   "source": [
    "run ={}\n",
    "final ={}\n",
    "\n",
    "# essentially for each gene to be knocked out\n",
    "for i1 in range(len(unique_rxns)):\n",
    "    # create a copy of reference model so don't have to worry about things accidently adding up\n",
    "    model = model_healthy_red.copy()\n",
    "    \n",
    "    ###### CREATE KO MODEL ######\n",
    "    model_KO = model.copy()\n",
    "    for reaction in unique_rxns[i1]:\n",
    "        model_KO.reactions.get_by_id(reaction).lower_bound = 0\n",
    "        model_KO.reactions.get_by_id(reaction).upper_bound = 0\n",
    "    \n",
    "    for reaction in unique_rxns[i1]:\n",
    "        print reaction\n",
    "\n",
    "        newmet_array = [0] * len(model.metabolites)\n",
    "        met_count = 0\n",
    "        for i in range(len(model.metabolites)):\n",
    "            newmet_array[met_count] = string.replace(model.metabolites[i].id, \" \", \"_\")\n",
    "            met_count = met_count + 1\n",
    "\n",
    "        #####ALGORITHM################\n",
    "        # creates an empty dict to store DM_rxns as keys and the p_solution.f values\n",
    "        normal_maxmet_dict = {}\n",
    "\n",
    "        for i in range(len(model.metabolites)):\n",
    "            #for i in range(80):\n",
    "\n",
    "            #  switch toggle\n",
    "            switch = True\n",
    "\n",
    "            # this part creates a demand reaction for each metabolite\n",
    "            temp_DM = 'DM_' + str(newmet_array[i])\n",
    "\n",
    "            # this nested for loop tries to catch if a demand reaction already exists in the model\n",
    "            for ii in model.reactions:\n",
    "                if temp_DM == str(ii):\n",
    "                    # this part sets the newly created demand as the objective\n",
    "                    my_objective = model.reactions.get_by_id(str(temp_DM))\n",
    "                    model.change_objective(my_objective)\n",
    "\n",
    "                    # this part runs FBA on the new demand\n",
    "                    p_solution = model.optimize(solver='gurobi')\n",
    "\n",
    "                    # check if p_solution is above a tolerance to check if we want to run loopless or not\n",
    "                    if p_solution < 10**-6:\n",
    "                        normal_maxmet_dict[str(temp_DM)] = p_solution.f\n",
    "\n",
    "                    else:\n",
    "                        solution = construct_loopless_model(model).optimize(solver='gurobi')\n",
    "                        normal_maxmet_dict[str(temp_DM)] = solution.f\n",
    "\n",
    "                    # a toggle to see if the reaction is to be deleted or not\n",
    "                    switch = False\n",
    "\n",
    "            if switch is True:\n",
    "                temp_DM = Reaction(str(temp_DM))\n",
    "                newmet_array[i] = model.metabolites.get_by_id(model.metabolites[i].id)\n",
    "                temp_DM.add_metabolites({newmet_array[i]: -1})\n",
    "                model.add_reaction(temp_DM)\n",
    "\n",
    "                # this part sets the newly created demand as the objective\n",
    "                my_objective = model.reactions.get_by_id(str(temp_DM))\n",
    "                model.change_objective(my_objective)\n",
    "\n",
    "                # this part runs FBA on the new demand\n",
    "                p_solution = model.optimize(solver='gurobi')\n",
    "\n",
    "                # check if p_solution is above a tolerance to check if we want to run loopless or not\n",
    "                if p_solution < 10**-6:\n",
    "                    normal_maxmet_dict[str(temp_DM)] = p_solution.f\n",
    "\n",
    "                else:\n",
    "                    solution = construct_loopless_model(model).optimize(solver='gurobi')\n",
    "                    normal_maxmet_dict[str(temp_DM)] = solution.f\n",
    "\n",
    "                # this deletes the demand at the end of each iteration\n",
    "                model.reactions.get_by_id(str(temp_DM)).delete()\n",
    "                \n",
    "                \n",
    "        # working copy!\n",
    "        # This creates an array of modified met names since I'm getting errors accessing model.metabolites[i].id in some of the code\n",
    "        newmet_array = [0] * len(model_KO.metabolites)\n",
    "        met_count = 0\n",
    "        for i in range(len(model_KO.metabolites)):\n",
    "            newmet_array[met_count] = string.replace(model_KO.metabolites[i].id, \" \", \"_\")\n",
    "            met_count = met_count + 1\n",
    "\n",
    "\n",
    "        # creates an empty dict to store DM_rxns as keys and the p_solution.f values\n",
    "        KO_maxmet_dict = {}\n",
    "\n",
    "        for i in range(len(model_KO.metabolites)):\n",
    "        #for i in range(80):\n",
    "\n",
    "            # switch toggle\n",
    "            switch = True\n",
    "\n",
    "            # this part creates a demand reaction for each metabolite\n",
    "            temp_DM = 'DM_' + str(newmet_array[i])\n",
    "\n",
    "            # this nested for loop tries to catch if a demand reaction already exists in the model\n",
    "            for ii in model_KO.reactions:\n",
    "                if temp_DM == str(ii):\n",
    "                    # this part sets the newly created demand as the objective\n",
    "                    my_objective = model_KO.reactions.get_by_id(str(temp_DM))\n",
    "                    model_KO.change_objective(my_objective)\n",
    "\n",
    "                    # this part runs FBA on the new demand\n",
    "                    p_solution = model_KO.optimize(solver='gurobi')\n",
    "\n",
    "                    # this stores the demand flux into a dictionary where its demand rxn is the key\n",
    "                    KO_maxmet_dict[str(temp_DM)] = p_solution.f\n",
    "\n",
    "                    # a toggle to see if the reaction is to be deleted or not\n",
    "                    switch = False\n",
    "\n",
    "            if switch is True:\n",
    "                temp_DM = Reaction(str(temp_DM))\n",
    "                newmet_array[i] = model_KO.metabolites.get_by_id(model_KO.metabolites[i].id)\n",
    "                temp_DM.add_metabolites({newmet_array[i]: -1})\n",
    "                model_KO.add_reaction(temp_DM)\n",
    "\n",
    "                # this part sets the newly created demand as the objective\n",
    "                my_objective = model_KO.reactions.get_by_id(str(temp_DM))\n",
    "                model_KO.change_objective(my_objective)\n",
    "\n",
    "                # this part runs FBA on the new demand\n",
    "                p_solution = model_KO.optimize(solver='gurobi')\n",
    "\n",
    "                # this stores the demand flux into a dictionary where its demand rxn is the key\n",
    "                KO_maxmet_dict[str(temp_DM)] = p_solution.f\n",
    "\n",
    "                # this deletes the demand at the end of each iteration\n",
    "                model_KO.reactions.get_by_id(str(temp_DM)).delete()\n",
    "                \n",
    "        run[str(reaction) + '_normal'] = normal_maxmet_dict\n",
    "        run[str(reaction) + '_KO'] = KO_maxmet_dict\n",
    "        \n",
    "    final[str(i1)] = run\n"
   ]
  },
  {
   "cell_type": "code",
   "execution_count": 45,
   "metadata": {
    "collapsed": false
   },
   "outputs": [
    {
     "ename": "KeyError",
     "evalue": "'2'",
     "output_type": "error",
     "traceback": [
      "\u001b[1;31m---------------------------------------------------------------------------\u001b[0m",
      "\u001b[1;31mKeyError\u001b[0m                                  Traceback (most recent call last)",
      "\u001b[1;32m<ipython-input-45-738e7bc31133>\u001b[0m in \u001b[0;36m<module>\u001b[1;34m()\u001b[0m\n\u001b[1;32m----> 1\u001b[1;33m \u001b[0mfinal\u001b[0m\u001b[1;33m[\u001b[0m\u001b[1;34m'2'\u001b[0m\u001b[1;33m]\u001b[0m\u001b[1;33m\u001b[0m\u001b[0m\n\u001b[0m",
      "\u001b[1;31mKeyError\u001b[0m: '2'"
     ]
    }
   ],
   "source": [
    "final['2']"
   ]
  },
  {
   "cell_type": "code",
   "execution_count": 68,
   "metadata": {
    "collapsed": true
   },
   "outputs": [],
   "source": [
    "unique_rxns = [['ARGSS']]"
   ]
  },
  {
   "cell_type": "code",
   "execution_count": 84,
   "metadata": {
    "collapsed": false
   },
   "outputs": [
    {
     "name": "stdout",
     "output_type": "stream",
     "text": [
      "ARGSS\n"
     ]
    }
   ],
   "source": [
    "for i1 in range(len(unique_rxns)):\n",
    "    # create a copy of reference model so don't have to worry about things accidently adding up\n",
    "    model = model_healthy_red.copy()\n",
    "    \n",
    "    ###### CREATE KO MODEL ######\n",
    "    model_KO = model.copy()\n",
    "    for reaction in unique_rxns[i1]:\n",
    "        model_KO.reactions.get_by_id(reaction).lower_bound = 0\n",
    "        model_KO.reactions.get_by_id(reaction).upper_bound = 0\n",
    "    \n",
    "    for reaction in unique_rxns[i1]:\n",
    "        print reaction\n",
    "\n",
    "        newmet_array = [0] * len(model.metabolites)\n",
    "        met_count = 0\n",
    "        for i in range(len(model.metabolites)):\n",
    "            newmet_array[met_count] = string.replace(model.metabolites[i].id, \" \", \"_\")\n",
    "            met_count = met_count + 1\n",
    "\n",
    "        #####ALGORITHM################\n",
    "        # creates an empty dict to store DM_rxns as keys and the p_solution.f values\n",
    "        normal_maxmet_dict = {}\n",
    "\n",
    "        i=0\n",
    "        #for i in range(80):\n",
    "\n",
    "        #  switch toggle\n",
    "        switch = True\n",
    "\n",
    "        # this part creates a demand reaction for each metabolite\n",
    "        temp_DM = 'DM_' + str(newmet_array[i])\n",
    "\n",
    "        # this nested for loop tries to catch if a demand reaction already exists in the model\n",
    "        for ii in model.reactions:\n",
    "            if temp_DM == str(ii):\n",
    "                # this part sets the newly created demand as the objective\n",
    "                my_objective = model.reactions.get_by_id(str(temp_DM))\n",
    "                model.change_objective(my_objective)\n",
    "\n",
    "                # this part runs FBA on the new demand\n",
    "                p_solution = model.optimize(solver='gurobi')\n",
    "\n",
    "                # check if p_solution is above a tolerance to check if we want to run loopless or not\n",
    "                if p_solution < 10**-6:\n",
    "                    normal_maxmet_dict[str(temp_DM)] = p_solution.f\n",
    "\n",
    "                else:\n",
    "                    solution = construct_loopless_model(model).optimize(solver='gurobi')\n",
    "                    normal_maxmet_dict[str(temp_DM)] = solution.f\n",
    "\n",
    "                # a toggle to see if the reaction is to be deleted or not\n",
    "                switch = False\n",
    "\n",
    "        if switch is True:\n",
    "            temp_DM = Reaction(str(temp_DM))\n",
    "            newmet_array[i] = model.metabolites.get_by_id(model.metabolites[i].id)\n",
    "            temp_DM.add_metabolites({newmet_array[i]: -1})\n",
    "            model.add_reaction(temp_DM)\n",
    "\n",
    "            # this part sets the newly created demand as the objective\n",
    "            my_objective = model.reactions.get_by_id(str(temp_DM))\n",
    "            model.change_objective(my_objective)\n",
    "\n",
    "            # this part runs FBA on the new demand\n",
    "            p_solution = model.optimize(solver='gurobi')\n",
    "\n",
    "            # check if p_solution is above a tolerance to check if we want to run loopless or not\n",
    "            if p_solution < 10**-6:\n",
    "                normal_maxmet_dict[str(temp_DM)] = p_solution.f\n",
    "\n",
    "            else:\n",
    "                solution = construct_loopless_model(model).optimize(solver='gurobi')\n",
    "                normal_maxmet_dict[str(temp_DM)] = solution.f\n",
    "\n",
    "            # this deletes the demand at the end of each iteration\n",
    "            model.reactions.get_by_id(str(temp_DM)).delete()\n",
    "            \n",
    "        \n",
    "        # working copy!\n",
    "        # This creates an array of modified met names since I'm getting errors accessing model.metabolites[i].id in some of the code\n",
    "        newmet_array = [0] * len(model_KO.metabolites)\n",
    "        met_count = 0\n",
    "        for i in range(len(model_KO.metabolites)):\n",
    "            newmet_array[met_count] = string.replace(model_KO.metabolites[i].id, \" \", \"_\")\n",
    "            met_count = met_count + 1\n",
    "\n",
    "\n",
    "        # creates an empty dict to store DM_rxns as keys and the p_solution.f values\n",
    "        KO_maxmet_dict = {}\n",
    "\n",
    "        i=0\n",
    "        #for i in range(80):\n",
    "\n",
    "        # switch toggle\n",
    "        switch = True\n",
    "\n",
    "        # this part creates a demand reaction for each metabolite\n",
    "        temp_DM = 'DM_' + str(newmet_array[i])\n",
    "\n",
    "        # this nested for loop tries to catch if a demand reaction already exists in the model\n",
    "        for ii in model_KO.reactions:\n",
    "            if temp_DM == str(ii):\n",
    "                # this part sets the newly created demand as the objective\n",
    "                my_objective = model_KO.reactions.get_by_id(str(temp_DM))\n",
    "                model_KO.change_objective(my_objective)\n",
    "\n",
    "                # this part runs FBA on the new demand\n",
    "                p_solution = model_KO.optimize(solver='gurobi')\n",
    "\n",
    "                # this stores the demand flux into a dictionary where its demand rxn is the key\n",
    "                KO_maxmet_dict[str(temp_DM)] = p_solution.f\n",
    "\n",
    "                # a toggle to see if the reaction is to be deleted or not\n",
    "                switch = False\n",
    "\n",
    "        if switch is True:\n",
    "            temp_DM = Reaction(str(temp_DM))\n",
    "            newmet_array[i] = model_KO.metabolites.get_by_id(model_KO.metabolites[i].id)\n",
    "            temp_DM.add_metabolites({newmet_array[i]: -1})\n",
    "            model_KO.add_reaction(temp_DM)\n",
    "\n",
    "            # this part sets the newly created demand as the objective\n",
    "            my_objective = model_KO.reactions.get_by_id(str(temp_DM))\n",
    "            model_KO.change_objective(my_objective)\n",
    "\n",
    "            # this part runs FBA on the new demand\n",
    "            p_solution = model_KO.optimize(solver='gurobi')\n",
    "\n",
    "            # this stores the demand flux into a dictionary where its demand rxn is the key\n",
    "            KO_maxmet_dict[str(temp_DM)] = p_solution.f\n",
    "\n",
    "            # this deletes the demand at the end of each iteration\n",
    "            model_KO.reactions.get_by_id(str(temp_DM)).delete()\n"
   ]
  },
  {
   "cell_type": "code",
   "execution_count": 83,
   "metadata": {
    "collapsed": false
   },
   "outputs": [
    {
     "data": {
      "text/plain": [
       "{'DM_10fthf5glu_c': -0.0}"
      ]
     },
     "execution_count": 83,
     "metadata": {},
     "output_type": "execute_result"
    }
   ],
   "source": [
    "normal_maxmet_dict"
   ]
  },
  {
   "cell_type": "code",
   "execution_count": 85,
   "metadata": {
    "collapsed": false
   },
   "outputs": [
    {
     "data": {
      "text/plain": [
       "{'DM_10fthf5glu_c': None}"
      ]
     },
     "execution_count": 85,
     "metadata": {},
     "output_type": "execute_result"
    }
   ],
   "source": [
    "KO_maxmet_dict"
   ]
  },
  {
   "cell_type": "code",
   "execution_count": 71,
   "metadata": {
    "collapsed": false
   },
   "outputs": [
    {
     "data": {
      "text/plain": [
       "{}"
      ]
     },
     "execution_count": 71,
     "metadata": {},
     "output_type": "execute_result"
    }
   ],
   "source": [
    "model.objective"
   ]
  },
  {
   "cell_type": "code",
   "execution_count": 88,
   "metadata": {
    "collapsed": false
   },
   "outputs": [],
   "source": [
    "normal_maxmet_dict = {}\n",
    "i = 0\n",
    "reaction = 'ARGSS'\n",
    "# create a copy of reference model so don't have to worry about things accidently adding up\n",
    "model = model_healthy_red.copy()\n",
    "\n",
    "###### CREATE KO MODEL ######\n",
    "model_KO = model.copy()\n",
    "for reaction in unique_rxns[i1]:\n",
    "    model_KO.reactions.get_by_id(reaction).lower_bound = 0\n",
    "    model_KO.reactions.get_by_id(reaction).upper_bound = 0\n",
    "\n",
    "# temporary string \n",
    "temp_DM = 'DM_' + str(newmet_array[i])\n",
    "#creating the demand\n",
    "temp_DM = Reaction(str(temp_DM))\n",
    "newmet_array[i] = model.metabolites.get_by_id(model.metabolites[i].id)\n",
    "temp_DM.add_metabolites({newmet_array[i]: -1})\n",
    "model.add_reaction(temp_DM)\n",
    "\n",
    "#set it as the objective\n",
    "my_objective = model.reactions.get_by_id(str(temp_DM))\n",
    "model.change_objective(my_objective)\n",
    "\n",
    "#run FBA\n",
    "p_solution = model.optimize(solver='gurobi')\n",
    "\n",
    "## check if p_solution is above a tolerance to check if we want to run loopless or not\n",
    "if p_solution < 10**-6:\n",
    "    normal_maxmet_dict[str(temp_DM)] = p_solution.f\n",
    "\n",
    "else:\n",
    "    solution = construct_loopless_model(model).optimize(solver='gurobi')\n",
    "    normal_maxmet_dict[str(temp_DM)] = solution.f"
   ]
  },
  {
   "cell_type": "code",
   "execution_count": 92,
   "metadata": {
    "collapsed": false
   },
   "outputs": [
    {
     "data": {
      "text/plain": [
       "-0.0"
      ]
     },
     "execution_count": 92,
     "metadata": {},
     "output_type": "execute_result"
    }
   ],
   "source": [
    "p_solution.f"
   ]
  },
  {
   "cell_type": "code",
   "execution_count": 89,
   "metadata": {
    "collapsed": false
   },
   "outputs": [
    {
     "data": {
      "text/plain": [
       "{'DM_10fthf5glu_c': -0.0}"
      ]
     },
     "execution_count": 89,
     "metadata": {},
     "output_type": "execute_result"
    }
   ],
   "source": [
    "normal_maxmet_dict"
   ]
  },
  {
   "cell_type": "code",
   "execution_count": null,
   "metadata": {
    "collapsed": false
   },
   "outputs": [],
   "source": []
  },
  {
   "cell_type": "code",
   "execution_count": null,
   "metadata": {
    "collapsed": false
   },
   "outputs": [],
   "source": []
  },
  {
   "cell_type": "code",
   "execution_count": null,
   "metadata": {
    "collapsed": true
   },
   "outputs": [],
   "source": []
  }
 ],
 "metadata": {
  "kernelspec": {
   "display_name": "Python [Root]",
   "language": "python",
   "name": "Python [Root]"
  },
  "language_info": {
   "codemirror_mode": {
    "name": "ipython",
    "version": 2
   },
   "file_extension": ".py",
   "mimetype": "text/x-python",
   "name": "python",
   "nbconvert_exporter": "python",
   "pygments_lexer": "ipython2",
   "version": "2.7.12"
  }
 },
 "nbformat": 4,
 "nbformat_minor": 0
}
