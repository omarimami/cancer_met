{
 "cells": [
  {
   "cell_type": "code",
   "execution_count": 5,
   "metadata": {
    "collapsed": false
   },
   "outputs": [],
   "source": [
    "from gim3e.core import gim3e\n",
    "import pickle\n",
    "from cobra.manipulation import initialize_growth_medium\n",
    "from copy import deepcopy\n",
    "from types import *\n",
    "from  cobra import __version__ as cobra_version"
   ]
  },
  {
   "cell_type": "code",
   "execution_count": 6,
   "metadata": {
    "collapsed": false
   },
   "outputs": [],
   "source": [
    "from os.path import dirname, join, abspath\n",
    "\n",
    "gim3e_dir = abspath(join(dirname(gim3e.__file__), \"..\"))\n",
    "data_dir = join(gim3e_dir, 'data', '')"
   ]
  },
  {
   "cell_type": "code",
   "execution_count": 7,
   "metadata": {
    "collapsed": true
   },
   "outputs": [],
   "source": [
    "# read in the pre-processed omics data\n",
    "fp = open(data_dir + \"transcriptomics_dict.pickle\", \"rb\")\n",
    "transcriptomics_dict = pickle.load(fp)\n",
    "fp.close()\n",
    "\n",
    "fp = open(data_dir + \"metabolomics_dict.pickle\", \"rb\")\n",
    "metabolomics_dict = pickle.load(fp)\n",
    "fp.close()\n",
    "\n",
    "# Make models not informed by omics first by initializing the media\n",
    "import pickle\n",
    "fp = open(data_dir + \"salmonella_gem.pickle\", \"rb\")\n",
    "STM = pickle.load(fp)\n",
    "fp.close()\n",
    "\n",
    "if cobra_version == '0.2.0':\n",
    "    STM_LB = deepcopy(STM)\n",
    "else:\n",
    "    STM_LB = STM.copy()\n",
    "initialize_growth_medium(STM_LB, 'LB')"
   ]
  },
  {
   "cell_type": "code",
   "execution_count": 10,
   "metadata": {
    "collapsed": false
   },
   "outputs": [
    {
     "name": "stdout",
     "output_type": "stream",
     "text": [
      "Determining the best objective value...\n",
      "No parameters matching 'the_problem' found\n",
      "... OK\n",
      "Converting to irreversible...\n",
      "... OK\n",
      "Adding turnover metabolites...\n",
      "No parameters matching 'the_problem' found\n",
      "No parameters matching 'the_problem' found\n",
      "No parameters matching 'the_problem' found\n",
      "No parameters matching 'the_problem' found\n",
      "No parameters matching 'the_problem' found\n",
      "Completed 1 of 59, about to try TMS_mal__L_c.  El: 1 s.  R: 0 hr 1 min.\n",
      "Completed 2 of 59, about to try TMS_gly_c.  El: 3 s.  R: 0 hr 1 min.\n",
      "Completed 3 of 59, about to try TMS_leu__L_c.  El: 4 s.  R: 0 hr 1 min.\n",
      "Completed 4 of 59, about to try TMS_hdca_c.  El: 6 s.  R: 0 hr 1 min.\n",
      "Completed 5 of 59, about to try TMS_glyclt_c.  El: 7 s.  R: 0 hr 1 min.\n",
      "Completed 6 of 59, about to try TMS_thym_c.  El: 8 s.  R: 0 hr 1 min.\n",
      "Completed 7 of 59, about to try TMS_met__L_c.  El: 9 s.  R: 0 hr 1 min.\n",
      "Completed 8 of 59, about to try TMS_ptrc_c.  El: 11 s.  R: 0 hr 1 min.\n",
      "Completed 9 of 59, about to try TMS_ocdca_c.  El: 13 s.  R: 0 hr 1 min.\n",
      "Completed 10 of 59, about to try TMS_pro__L_c.  El: 14 s.  R: 0 hr 1 min.\n",
      "Completed 11 of 59, about to try TMS_glyald_c.  El: 15 s.  R: 0 hr 1 min.\n",
      "Completed 12 of 59, about to try TMS_hxan_c.  El: 17 s.  R: 0 hr 1 min.\n",
      "Completed 13 of 59, about to try TMS_asp__L_c.  El: 18 s.  R: 0 hr 1 min.\n",
      "Completed 14 of 59, about to try TMS_xan_c.  El: 20 s.  R: 0 hr 1 min.\n",
      "Completed 15 of 59, about to try TMS_pep_c.  El: 22 s.  R: 0 hr 1 min.\n",
      "Completed 16 of 59, about to try TMS_glc__D_c.  El: 24 s.  R: 0 hr 1 min.\n",
      "Completed 17 of 59, about to try TMS_amp_c.  El: 25 s.  R: 0 hr 1 min.\n",
      "Completed 18 of 59, about to try TMS_nac_c.  El: 26 s.  R: 0 hr 0 min.\n",
      "Completed 19 of 59, about to try TMS_tyr__L_c.  El: 27 s.  R: 0 hr 0 min.\n",
      "Completed 20 of 59, about to try TMS_glyc__R_c.  El: 29 s.  R: 0 hr 0 min.\n",
      "Completed 21 of 59, about to try TMS_glu__L_c.  El: 30 s.  R: 0 hr 0 min.\n",
      "Completed 22 of 59, about to try TMS_citr__L_c.  El: 32 s.  R: 0 hr 0 min.\n",
      "Completed 23 of 59, about to try TMS_thr__L_c.  El: 34 s.  R: 0 hr 0 min.\n",
      "Completed 24 of 59, about to try TMS_rib__D_c.  El: 36 s.  R: 0 hr 0 min.\n",
      "Completed 25 of 59, about to try TMS_ocdcea_c.  El: 37 s.  R: 0 hr 0 min.\n",
      "Completed 26 of 59, about to try TMS_ala__B_c.  El: 38 s.  R: 0 hr 0 min.\n",
      "Completed 27 of 59, about to try TMS_ttdca_c.  El: 39 s.  R: 0 hr 0 min.\n",
      "Completed 28 of 59, about to try TMS_ppi_c.  El: 40 s.  R: 0 hr 0 min.\n",
      "Completed 29 of 59, about to try TMS_orn_c.  El: 41 s.  R: 0 hr 0 min.\n",
      "Completed 30 of 59, about to try TMS_val__L_c.  El: 43 s.  R: 0 hr 0 min.\n",
      "Completed 31 of 59, about to try TMS_his__L_c.  El: 44 s.  R: 0 hr 0 min.\n",
      "Completed 32 of 59, about to try TMS_hom__L_c.  El: 46 s.  R: 0 hr 0 min.\n",
      "Completed 33 of 59, about to try TMS_glyc3p_c.  El: 48 s.  R: 0 hr 0 min.\n",
      "Completed 34 of 59, about to try TMS_pi_c.  El: 49 s.  R: 0 hr 0 min.\n",
      "Completed 35 of 59, about to try TMS_lys__L_c.  El: 51 s.  R: 0 hr 0 min.\n",
      "Completed 36 of 59, about to try TMS_glyc_c.  El: 52 s.  R: 0 hr 0 min.\n",
      "Completed 37 of 59, about to try TMS_g6p_c.  El: 54 s.  R: 0 hr 0 min.\n",
      "Completed 38 of 59, about to try TMS_cys__L_c.  El: 56 s.  R: 0 hr 0 min.\n",
      "Completed 39 of 59, about to try TMS_ser__L_c.  El: 57 s.  R: 0 hr 0 min.\n",
      "Completed 40 of 59, about to try TMS_lac__L_c.  El: 59 s.  R: 0 hr 0 min.\n",
      "Completed 41 of 59, about to try TMS_succ_c.  El: 60 s.  R: 0 hr 0 min.\n",
      "Completed 42 of 59, about to try TMS_tym_p.  El: 61 s.  R: 0 hr 0 min.\n",
      "Completed 43 of 59, about to try TMS_pyr_c.  El: 62 s.  R: 0 hr 0 min.\n",
      "Completed 44 of 59, about to try TMS_urea_c.  El: 64 s.  R: 0 hr 0 min.\n",
      "Completed 45 of 59, about to try TMS_hdcea_c.  El: 66 s.  R: 0 hr 0 min.\n",
      "Completed 46 of 59, about to try TMS_ura_c.  El: 67 s.  R: 0 hr 0 min.\n",
      "Completed 47 of 59, about to try TMS_acglu_c.  El: 69 s.  R: 0 hr 0 min.\n",
      "Completed 48 of 59, about to try TMS_ade_c.  El: 70 s.  R: 0 hr 0 min.\n",
      "Completed 49 of 59, about to try TMS_dhap_c.  El: 71 s.  R: 0 hr 0 min.\n",
      "Completed 50 of 59, about to try TMS_spmd_c.  El: 73 s.  R: 0 hr 0 min.\n",
      "Completed 51 of 59, about to try TMS_dcmp_c.  El: 75 s.  R: 0 hr 0 min.\n",
      "Completed 52 of 59, about to try TMS_fru_c.  El: 76 s.  R: 0 hr 0 min.\n",
      "Completed 53 of 59, about to try TMS_adn_c.  El: 77 s.  R: 0 hr 0 min.\n",
      "Completed 54 of 59, about to try TMS_ile__L_c.  El: 79 s.  R: 0 hr 0 min.\n",
      "Completed 55 of 59, about to try TMS_csn_c.  El: 80 s.  R: 0 hr 0 min.\n",
      "Completed 56 of 59, about to try TMS_glycogen_c.  El: 81 s.  R: 0 hr 0 min.\n",
      "Completed 57 of 59, about to try TMS_ala__L_c.  El: 83 s.  R: 0 hr 0 min.\n",
      "Completed 58 of 59, about to try TMS_pnto__R_c.  El: 84 s.  R: 0 hr 0 min.\n",
      "Completed 59 of 59, about to try ...none.  All done.  El: 85 s.  R: 0 hr 0 min.\n",
      "The following metabolites cannot sustain the specified minimum flux, constraints removed:\n",
      "TMS_tym_p\n",
      "TMS_lac__L_c\n",
      "... OK, done creating and verifying turnover metabolites (individually).\n"
     ]
    },
    {
     "ename": "AttributeError",
     "evalue": "'Reaction' object has no attribute 'get_gene'",
     "output_type": "error",
     "traceback": [
      "\u001b[1;31m---------------------------------------------------------------------------\u001b[0m",
      "\u001b[1;31mAttributeError\u001b[0m                            Traceback (most recent call last)",
      "\u001b[1;32m<ipython-input-10-6f3ab04d5bb5>\u001b[0m in \u001b[0;36m<module>\u001b[1;34m()\u001b[0m\n\u001b[0;32m     34\u001b[0m     \u001b[0mMILP_formulation\u001b[0m \u001b[1;33m=\u001b[0m \u001b[0mTrue\u001b[0m\u001b[1;33m,\u001b[0m\u001b[1;33m\u001b[0m\u001b[0m\n\u001b[0;32m     35\u001b[0m     \u001b[0mrun_FVA\u001b[0m \u001b[1;33m=\u001b[0m \u001b[0mTrue\u001b[0m\u001b[1;33m,\u001b[0m \u001b[0mreduce_model\u001b[0m \u001b[1;33m=\u001b[0m \u001b[0mFalse\u001b[0m\u001b[1;33m,\u001b[0m\u001b[1;33m\u001b[0m\u001b[0m\n\u001b[1;32m---> 36\u001b[1;33m     trim_model = False, solver = 'gurobi')\n\u001b[0m",
      "\u001b[1;32mC:\\Users\\Omar\\Anaconda2\\lib\\site-packages\\gim3e-1.0.3-py2.7.egg\\gim3e\\core\\gim3e.py\u001b[0m in \u001b[0;36mgim3e\u001b[1;34m(cobra_model, expression_dict, expression_threshold, metabolite_list, fraction_growth, relative_penalty_bound, solver_tolerance, metabolite_flux_requirement, monitor_all_cellular_metabolites, MILP_formulation, run_FVA, reduce_model, trim_model, solver)\u001b[0m\n\u001b[0;32m    260\u001b[0m     \u001b[1;32mif\u001b[0m \u001b[1;33m(\u001b[0m\u001b[0mcontinue_flag\u001b[0m \u001b[1;33m==\u001b[0m \u001b[0mTrue\u001b[0m\u001b[1;33m)\u001b[0m\u001b[1;33m:\u001b[0m\u001b[1;33m\u001b[0m\u001b[0m\n\u001b[0;32m    261\u001b[0m         \u001b[1;31m# Now evaluate the penalties\u001b[0m\u001b[1;33m\u001b[0m\u001b[1;33m\u001b[0m\u001b[0m\n\u001b[1;32m--> 262\u001b[1;33m         \u001b[0mpenalties\u001b[0m \u001b[1;33m=\u001b[0m \u001b[0mevaluate_penalties\u001b[0m\u001b[1;33m(\u001b[0m\u001b[0mcobra_model\u001b[0m\u001b[1;33m,\u001b[0m \u001b[0mnew_cobra_model\u001b[0m\u001b[1;33m,\u001b[0m \u001b[0mexpression_dict\u001b[0m\u001b[1;33m,\u001b[0m \u001b[0mexpression_threshold\u001b[0m\u001b[1;33m)\u001b[0m\u001b[1;33m\u001b[0m\u001b[0m\n\u001b[0m\u001b[0;32m    263\u001b[0m         \u001b[1;31m# Change the existing objective to a constraint.\u001b[0m\u001b[1;33m\u001b[0m\u001b[1;33m\u001b[0m\u001b[0m\n\u001b[0;32m    264\u001b[0m         \u001b[1;32mif\u001b[0m \u001b[1;33m(\u001b[0m\u001b[0mbest_objective_with_mets\u001b[0m \u001b[1;33m<\u001b[0m \u001b[1;33m(\u001b[0m\u001b[0mfraction_growth\u001b[0m \u001b[1;33m*\u001b[0m \u001b[0mbest_objective\u001b[0m\u001b[1;33m)\u001b[0m\u001b[1;33m)\u001b[0m\u001b[1;33m:\u001b[0m\u001b[1;33m\u001b[0m\u001b[0m\n",
      "\u001b[1;32mC:\\Users\\Omar\\Anaconda2\\lib\\site-packages\\gim3e-1.0.3-py2.7.egg\\gim3e\\core\\gim3e.py\u001b[0m in \u001b[0;36mevaluate_penalties\u001b[1;34m(cobra_model, new_cobra_model, expression_dict, expression_threshold)\u001b[0m\n\u001b[0;32m   2504\u001b[0m                 \u001b[0mpenalties\u001b[0m\u001b[1;33m[\u001b[0m\u001b[0mthe_reaction\u001b[0m\u001b[1;33m.\u001b[0m\u001b[0mid\u001b[0m\u001b[1;33m]\u001b[0m \u001b[1;33m=\u001b[0m \u001b[1;36m0\u001b[0m\u001b[1;33m\u001b[0m\u001b[0m\n\u001b[0;32m   2505\u001b[0m     \u001b[1;32melse\u001b[0m\u001b[1;33m:\u001b[0m\u001b[1;33m\u001b[0m\u001b[0m\n\u001b[1;32m-> 2506\u001b[1;33m         \u001b[0mpenalties\u001b[0m \u001b[1;33m=\u001b[0m \u001b[0mevaluate_gene_penalties\u001b[0m\u001b[1;33m(\u001b[0m\u001b[0mnew_cobra_model\u001b[0m\u001b[1;33m,\u001b[0m \u001b[0mexpression_dict\u001b[0m\u001b[1;33m,\u001b[0m \u001b[0mexpression_threshold\u001b[0m\u001b[1;33m)\u001b[0m\u001b[1;33m\u001b[0m\u001b[0m\n\u001b[0m\u001b[0;32m   2507\u001b[0m     \u001b[1;32mreturn\u001b[0m \u001b[0mpenalties\u001b[0m\u001b[1;33m\u001b[0m\u001b[0m\n\u001b[0;32m   2508\u001b[0m \u001b[1;33m\u001b[0m\u001b[0m\n",
      "\u001b[1;32mC:\\Users\\Omar\\Anaconda2\\lib\\site-packages\\gim3e-1.0.3-py2.7.egg\\gim3e\\core\\gim3e.py\u001b[0m in \u001b[0;36mevaluate_gene_penalties\u001b[1;34m(new_cobra_model, expression_dict, threshold)\u001b[0m\n\u001b[0;32m   2552\u001b[0m             \u001b[1;31m# but pool all the call info here for the moment\u001b[0m\u001b[1;33m\u001b[0m\u001b[1;33m\u001b[0m\u001b[0m\n\u001b[0;32m   2553\u001b[0m \u001b[1;31m##            reaction_gene_dict = {}\u001b[0m\u001b[1;33m\u001b[0m\u001b[1;33m\u001b[0m\u001b[0m\n\u001b[1;32m-> 2554\u001b[1;33m \u001b[1;31m##            for the_gene in test_reaction.get_gene():\u001b[0m\u001b[1;33m\u001b[0m\u001b[1;33m\u001b[0m\u001b[0m\n\u001b[0m\u001b[0;32m   2555\u001b[0m \u001b[1;31m##                reaction_gene_dict[the_gene] = {}\u001b[0m\u001b[1;33m\u001b[0m\u001b[1;33m\u001b[0m\u001b[0m\n\u001b[0;32m   2556\u001b[0m \u001b[1;31m##                if the_gene.id in expression_dict:\u001b[0m\u001b[1;33m\u001b[0m\u001b[1;33m\u001b[0m\u001b[0m\n",
      "\u001b[1;31mAttributeError\u001b[0m: 'Reaction' object has no attribute 'get_gene'"
     ]
    }
   ],
   "source": [
    "## This is how to set up LPM\n",
    "# if cobra_version == '0.2.0':\n",
    "#     STM_LPM = deepcopy(STM)\n",
    "# else:\n",
    "#     STM_LPM = STM.copy()\n",
    "# initialize_growth_medium(STM_LPM, 'LPM')\n",
    "## Protons should only have a net positive diffusion \n",
    "## from the extracellular space into the perplasm in LPM condition\n",
    "# STM_LPM.reactions.get_by_id('Htex').lower_bound = 0\n",
    "\n",
    "# Required numeric tolerances were \n",
    "# determined previously from FVA \n",
    "# on model reactions\n",
    "selected_tolerance = 1E-8\n",
    "selected_growth = 0.99\n",
    "selected_penalty = 1.01\n",
    "\n",
    "# Note detected metabolites that paired\n",
    "# with the model are included even if\n",
    "# they are blocked.  The algorithm\n",
    "# automatically detects and warns\n",
    "# about blocked metabolites.\n",
    "# Note we can also add in virtual metabolites\n",
    "# to merely monitor metabolites by formulating\n",
    "# the model and not imposing flux requirements\n",
    "gim3e_model, gim3e_FVA, total_penalty = gim3e.gim3e(STM_LB, expression_dict = transcriptomics_dict[\"LB\"],\n",
    "    expression_threshold = max(transcriptomics_dict[\"LB\"].values()),\n",
    "    metabolite_list = metabolomics_dict[\"lb\"], \n",
    "    fraction_growth = selected_growth,\n",
    "    relative_penalty_bound = selected_penalty,\n",
    "    solver_tolerance = selected_tolerance,\n",
    "    metabolite_flux_requirement = True,\n",
    "    monitor_all_cellular_metabolites = True,\n",
    "    MILP_formulation = True,\n",
    "    run_FVA = True, reduce_model = False,\n",
    "    trim_model = False, solver = 'gurobi')"
   ]
  },
  {
   "cell_type": "code",
   "execution_count": 5,
   "metadata": {
    "collapsed": false,
    "scrolled": true
   },
   "outputs": [
    {
     "name": "stdout",
     "output_type": "stream",
     "text": [
      "{'cglpk': <module 'cobra.solvers.cglpk' from 'C:\\Users\\Omar\\Anaconda2\\lib\\site-packages\\cobra\\solvers\\cglpk.pyd'>, 'gurobipy': <module 'cobra.solvers.gurobipy' from 'C:\\Users\\Omar\\Anaconda2\\lib\\site-packages\\cobra\\solvers\\gurobipy.pyd'>, 'gurobi': <module 'cobra.solvers.gurobi_solver' from 'C:\\Users\\Omar\\Anaconda2\\lib\\site-packages\\cobra\\solvers\\gurobi_solver.pyc'>}\n"
     ]
    }
   ],
   "source": [
    "import cobra\n",
    "print cobra.solvers.solver_dict"
   ]
  },
  {
   "cell_type": "code",
   "execution_count": null,
   "metadata": {
    "collapsed": false
   },
   "outputs": [],
   "source": [
    "import cobra.test\n",
    "cobra.test.create.test_model().optimize(solver='gurobi')"
   ]
  },
  {
   "cell_type": "code",
   "execution_count": 9,
   "metadata": {
    "collapsed": false
   },
   "outputs": [
    {
     "ename": "NameError",
     "evalue": "name 'total_penalty' is not defined",
     "output_type": "error",
     "traceback": [
      "\u001b[1;31m---------------------------------------------------------------------------\u001b[0m",
      "\u001b[1;31mNameError\u001b[0m                                 Traceback (most recent call last)",
      "\u001b[1;32m<ipython-input-9-207b86302dd8>\u001b[0m in \u001b[0;36m<module>\u001b[1;34m()\u001b[0m\n\u001b[1;32m----> 1\u001b[1;33m \u001b[0mtotal_penalty\u001b[0m\u001b[1;33m\u001b[0m\u001b[0m\n\u001b[0m",
      "\u001b[1;31mNameError\u001b[0m: name 'total_penalty' is not defined"
     ]
    }
   ],
   "source": [
    "total_penalty"
   ]
  },
  {
   "cell_type": "code",
   "execution_count": null,
   "metadata": {
    "collapsed": true
   },
   "outputs": [],
   "source": []
  }
 ],
 "metadata": {
  "kernelspec": {
   "display_name": "Python 2",
   "language": "python",
   "name": "python2"
  },
  "language_info": {
   "codemirror_mode": {
    "name": "ipython",
    "version": 2
   },
   "file_extension": ".py",
   "mimetype": "text/x-python",
   "name": "python",
   "nbconvert_exporter": "python",
   "pygments_lexer": "ipython2",
   "version": "2.7.11"
  }
 },
 "nbformat": 4,
 "nbformat_minor": 0
}
