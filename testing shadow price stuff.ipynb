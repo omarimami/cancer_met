{
 "cells": [
  {
   "cell_type": "code",
   "execution_count": 94,
   "metadata": {
    "collapsed": true
   },
   "outputs": [],
   "source": [
    "from tqdm import tqdm\n",
    "from cobra import Reaction\n",
    "import escher\n",
    "import escher.urls\n",
    "import cobra\n",
    "import cobra.test\n",
    "import json\n",
    "import os\n",
    "import string\n",
    "from IPython.display import HTML\n",
    "from cobra import Model, Reaction, Metabolite\n",
    "from cobra.flux_analysis.parsimonious import optimize_minimal_flux\n",
    "from cobra import ArrayBasedModel\n",
    "import numpy as np\n",
    "model_ref = cobra.io.load_matlab_model('C:\\\\Users\\\\Omar\\\\Desktop\\\\virtual\\\\venv\\\\RECON1', 'RECON1')"
   ]
  },
  {
   "cell_type": "code",
   "execution_count": 95,
   "metadata": {
    "collapsed": false
   },
   "outputs": [
    {
     "name": "stdout",
     "output_type": "stream",
     "text": [
      "['DM_etha_c', 'EX_peplys_e', 'EX_Tyr_ggn_e', 'EX_arg__L_e', 'EX_asn__L_e', 'EX_asp__L_e', 'EX_chol_e', 'EX_cl_e', 'EX_glc__D_e', 'EX_gln__L_e', 'EX_gly_e', 'EX_h_e', 'EX_h2o_e', 'EX_ile__L_e', 'EX_k_e', 'EX_leu__L_e', 'EX_lys__L_e', 'EX_na1_e', 'EX_nh4_e', 'EX_o2_e', 'EX_phe__L_e', 'EX_pi_e', 'EX_pro__L_e', 'EX_ser__L_e', 'EX_thr__L_e', 'EX_trp__L_e', 'EX_tyr__L_e', 'EX_val__L_e']\n"
     ]
    }
   ],
   "source": [
    "#creat ethanalamine demand\n",
    "#metabolite is etha_c\n",
    "\n",
    "DM_etha_c = Reaction('DM_etha_c')\n",
    "DM_etha_c.name = DM_etha_c\n",
    "\n",
    "etha_c = model_ref.metabolites.get_by_id('etha_c')\n",
    "\n",
    "DM_etha_c.add_metabolites({etha_c: -1})\n",
    "model_ref.add_reaction(DM_etha_c)\n",
    "\n",
    "#create a transporter for this\n",
    "\n",
    "Tyr_ggnt = Reaction('Tyr_ggnt')\n",
    "Tyr_ggnt.name = Tyr_ggnt\n",
    "\n",
    "Tyr_ggn_e = model_ref.metabolites.get_by_id('Tyr_ggn_e')\n",
    "Tyr_ggn_c = model_ref.metabolites.get_by_id('Tyr_ggn_c')\n",
    "\n",
    "Tyr_ggnt.add_metabolites({Tyr_ggn_e: -1, Tyr_ggn_c: 1})\n",
    "model_ref.add_reaction(Tyr_ggnt)\n",
    "\n",
    "DM_etha_c.lower_bound = -1\n",
    "Tyr_ggnt.lower_bound = -1000\n",
    "\n",
    "except_EX_names = '''DM_etha_c, EX_peplys_e, EX_Tyr_ggn_e, EX_arg__L_e, EX_asn__L_e, EX_asp__L_e, EX_chol_e, EX_cl_e, EX_glc__D_e, EX_gln__L_e, EX_gly_e, EX_h_e, EX_h2o_e, EX_ile__L_e, EX_k_e, EX_leu__L_e, EX_lys__L_e, EX_na1_e, EX_nh4_e, EX_o2_e, EX_phe__L_e, EX_pi_e, EX_pro__L_e, EX_ser__L_e, EX_thr__L_e, EX_trp__L_e, EX_tyr__L_e, EX_val__L_e'''\n",
    "except_EX_names_split = except_EX_names.split(', ')\n",
    "print except_EX_names_split\n",
    "\n",
    "# Changing all lower bounds to 0 except the given reactions above\n",
    "\n",
    "for a in model_ref.reactions[1188:1591]:\n",
    "    a.lower_bound = 0\n",
    "\n",
    "model_ref.reactions.get_by_id('EX_yvite_e').lower_bound = 0\n",
    "model_ref.reactions.get_by_id('EX_10fthf5glu_e').lower_bound = 0\n",
    "    \n",
    "for b in model_ref.reactions[1188:1591]:\n",
    "    for c in range(len(except_EX_names_split)):  \n",
    "        if b.id  == except_EX_names_split[c]:\n",
    "            b.lower_bound = -1\n",
    "            \n",
    "biomass_NCI60 = Reaction('biomass_NCI60')\n",
    "biomass_NCI60.name = biomass_NCI60\n",
    "\n",
    "ala_L_c = model_ref.metabolites.get_by_id('ala__L_c')\n",
    "arg_L_c = model_ref.metabolites.get_by_id('arg__L_c')\n",
    "asn_L_c = model_ref.metabolites.get_by_id('asn__L_c')\n",
    "asp_L_c = model_ref.metabolites.get_by_id('asp__L_c')\n",
    "atp_c = model_ref.metabolites.get_by_id('atp_c')\n",
    "clpn_hs_c = model_ref.metabolites.get_by_id('clpn_hs_c')\n",
    "ctp_c = model_ref.metabolites.get_by_id('ctp_c')\n",
    "dag_hs_c = model_ref.metabolites.get_by_id('dag_hs_c')\n",
    "datp_c = model_ref.metabolites.get_by_id('datp_c')\n",
    "dctp_c = model_ref.metabolites.get_by_id('dctp_c')\n",
    "dgtp_c = model_ref.metabolites.get_by_id('dgtp_c')\n",
    "dttp_c = model_ref.metabolites.get_by_id('dttp_c')\n",
    "gln_L_c = model_ref.metabolites.get_by_id('gln__L_c')\n",
    "glu_L_c = model_ref.metabolites.get_by_id('glu__L_c')\n",
    "gly_c = model_ref.metabolites.get_by_id('gly_c')\n",
    "glygn2_c = model_ref.metabolites.get_by_id('glygn2_c')\n",
    "gtp_c = model_ref.metabolites.get_by_id('gtp_c')\n",
    "h2o_c = model_ref.metabolites.get_by_id('h2o_c')\n",
    "hdca_c = model_ref.metabolites.get_by_id('hdca_c')\n",
    "hdcea_c = model_ref.metabolites.get_by_id('hdcea_c')\n",
    "ile_L_c = model_ref.metabolites.get_by_id('ile__L_c')\n",
    "leu_L_c = model_ref.metabolites.get_by_id('leu__L_c')\n",
    "lpchol_hs_c = model_ref.metabolites.get_by_id('lpchol_hs_c')\n",
    "lys_L_c = model_ref.metabolites.get_by_id('lys__L_c')\n",
    "mag_hs_c = model_ref.metabolites.get_by_id('mag_hs_c')\n",
    "ocdca_c = model_ref.metabolites.get_by_id('ocdca_c')\n",
    "ocdcea_c = model_ref.metabolites.get_by_id('ocdcea_c')\n",
    "pa_hs_c = model_ref.metabolites.get_by_id('pa_hs_c')\n",
    "pail_hs_c = model_ref.metabolites.get_by_id('pail_hs_c')\n",
    "pchol_hs_c = model_ref.metabolites.get_by_id('pchol_hs_c')\n",
    "pe_hs_c = model_ref.metabolites.get_by_id('pe_hs_c')\n",
    "phe_L_c = model_ref.metabolites.get_by_id('phe__L_c')\n",
    "ps_hs_c = model_ref.metabolites.get_by_id('ps_hs_c')\n",
    "ser_L_c = model_ref.metabolites.get_by_id('ser__L_c')\n",
    "sphmyln_hs_c = model_ref.metabolites.get_by_id('sphmyln_hs_c')\n",
    "thr_L_c = model_ref.metabolites.get_by_id('thr__L_c')\n",
    "trp_L_c = model_ref.metabolites.get_by_id('trp__L_c')\n",
    "tyr_L_c = model_ref.metabolites.get_by_id('tyr__L_c')\n",
    "utp_c = model_ref.metabolites.get_by_id('utp_c')\n",
    "val_L_c = model_ref.metabolites.get_by_id('val__L_c')\n",
    "pro_L_m = model_ref.metabolites.get_by_id('pro__L_m')\n",
    "chsterol_r = model_ref.metabolites.get_by_id('chsterol_r')\n",
    "xolest_hs_r = model_ref.metabolites.get_by_id('xolest_hs_r')\n",
    "adp_c = model_ref.metabolites.get_by_id('adp_c')\n",
    "h_c = model_ref.metabolites.get_by_id('h_c')\n",
    "pi_c = model_ref.metabolites.get_by_id('pi_c')\n",
    "\n",
    "#remove ocdca and ocdcea\n",
    "# added xolest value to cholesterol in biomass and remove xolest\n",
    "\n",
    "biomass_NCI60.add_metabolites({ala_L_c: -0.587929, arg_L_c: -0.380280, asn_L_c: -0.323313, asp_L_c: -0.261396, \n",
    "                               atp_c: -35.033540, clpn_hs_c: -0.000624, ctp_c: -0.033435, dag_hs_c: -0.001032, \n",
    "                               datp_c: -0.014557, dctp_c: -0.009770, dgtp_c: -0.009748, dttp_c: -0.014546,\n",
    "                               gln_L_c: -0.319051, glu_L_c: -0.387401, gly_c: -0.504294, glygn2_c: -0.034479,\n",
    "                               gtp_c: -0.055967, h2o_c: -35.000000, hdca_c: -0.008293, hdcea_c: -0.003315, \n",
    "                               ile_L_c: -0.319813, leu_L_c: -0.548692, lpchol_hs_c: -0.002470, lys_L_c: -0.552717, \n",
    "                               mag_hs_c: -0.001456, pa_hs_c: -0.010645,\n",
    "                               pail_hs_c: -0.005016, pchol_hs_c: -0.022878, pe_hs_c: -0.018211, phe_L_c: -0.170743,\n",
    "                               ps_hs_c: -0.006808, ser_L_c: -0.385852, sphmyln_hs_c: -0.010215, thr_L_c: -0.378004, \n",
    "                               trp_L_c: -0.039847, tyr_L_c: -0.150141, utp_c: -0.063323, val_L_c: -0.385554,\n",
    "                               pro_L_m: -0.237850, chsterol_r: -0.054102,  adp_c: 35.000000, \n",
    "                               h_c: 35.000000, pi_c: 35.000000})\n",
    "\n",
    "model_ref.add_reaction(biomass_NCI60)\n",
    "my_objective = model_ref.reactions.get_by_id('biomass_NCI60')\n",
    "model_ref.change_objective(my_objective)\n",
    "\n",
    "# Adding DM_atp_c reaction\n",
    "\n",
    "DM_atp_c = Reaction('DM_atp_c')\n",
    "DM_atp_c.name = DM_atp_c\n",
    "\n",
    "atp_c = model_ref.metabolites.get_by_id('atp_c')\n",
    "adp_c = model_ref.metabolites.get_by_id('adp_c')\n",
    "h2o_c = model_ref.metabolites.get_by_id('h2o_c')\n",
    "h_c = model_ref.metabolites.get_by_id('h_c')\n",
    "pi_c = model_ref.metabolites.get_by_id('pi_c')\n",
    "\n",
    "\n",
    "DM_atp_c.add_metabolites({atp_c: -1, h2o_c: -1, adp_c: 1, pi_c: 1, h_c: 1})\n",
    "model_ref.add_reaction(DM_atp_c)\n",
    "\n",
    "# Setting lower bounds for DM_atp_c as per Dan\n",
    "\n",
    "model_ref.reactions.get_by_id('DM_atp_c').lower_bound = 0.9*7.9939\n",
    "\n",
    "model_ref.reactions.get_by_id('EX_h_e').lower_bound = -1000\n",
    "model_ref.reactions.get_by_id('EX_o2_e').lower_bound = -1000\n",
    "model_ref.reactions.get_by_id('EX_fe2_e').lower_bound = -1000\n",
    "model_ref.reactions.get_by_id('EX_nh4_e').lower_bound = -1000\n",
    "\n",
    "model_ref.reactions.get_by_id('EX_glc__D_e').lower_bound = -0.4882\n",
    "\n",
    "# constrained as per calculate fluxes \n",
    "model_ref.reactions.get_by_id('biomass_NCI60').lower_bound = 0.0177\n",
    "model_ref.reactions.get_by_id('biomass_NCI60').upper_bound = 0.0177\n",
    "\n",
    "model_ref.reactions.get_by_id('EX_pi_e').lower_bound = -1000\n",
    "\n",
    "# 6/16/16 Changing amino acid uptake constraints\n",
    "# arg__L__e initially was -0.0022\n",
    "model_ref.reactions.get_by_id('EX_arg__L_e').lower_bound = -0.0022\n",
    "\n",
    "model_ref.reactions.get_by_id('EX_asn__L_e').lower_bound = -0.0058\n",
    "model_ref.reactions.get_by_id('EX_asp__L_e').lower_bound = -0.0081\n",
    "model_ref.reactions.get_by_id('EX_chol_e').lower_bound = -0.00062386\n",
    "model_ref.reactions.get_by_id('EX_gln__L_e').lower_bound = -0.1202\n",
    "model_ref.reactions.get_by_id('EX_gly_e').lower_bound = -0.0019\n",
    "model_ref.reactions.get_by_id('EX_ile__L_e').lower_bound = -0.0081\n",
    "model_ref.reactions.get_by_id('EX_leu__L_e').lower_bound = -0.0110\n",
    "model_ref.reactions.get_by_id('EX_lys__L_e').lower_bound = -0.0111\n",
    "model_ref.reactions.get_by_id('EX_phe__L_e').lower_bound = -0.0040\n",
    "\n",
    "model_ref.reactions.get_by_id('EX_pro__L_e').lower_bound = -0.0045\n",
    "\n",
    "model_ref.reactions.get_by_id('EX_ser__L_e').lower_bound = -0.0167\n",
    "model_ref.reactions.get_by_id('EX_trp__L_e').lower_bound = -0.0013\n",
    "model_ref.reactions.get_by_id('EX_tyr__L_e').lower_bound = -0.0068\n",
    "model_ref.reactions.get_by_id('EX_val__L_e').lower_bound = -0.0079\n",
    "\n",
    "#6/24/16 lowerbound changes\n",
    "\n",
    "model_ref.reactions.get_by_id('FTHFLi').lower_bound = 0\n",
    "model_ref.reactions.get_by_id('FTHFLmi').lower_bound = 0\n",
    "\n",
    "model_ref.reactions.get_by_id('FUM').lower_bound = 0\n",
    "model_ref.reactions.get_by_id('FUM').upper_bound = 0\n",
    "\n",
    "model_ref.reactions.get_by_id('BILGLCURte').lower_bound = 0\n",
    "model_ref.reactions.get_by_id('BILDGLCURte').lower_bound = 0\n",
    "\n",
    "h_i = Metabolite('h_i', formula='h', name='h_i', compartment='i')\n",
    "model_ref.add_metabolites(h_i)\n",
    "\n",
    "\n",
    "# delete reaction\n",
    "model_ref.remove_reactions('ATPS4m')\n",
    "\n",
    "# re-add the reaction while replacing h_c with h_i\n",
    "ATPS4m = Reaction('ATPS4m')\n",
    "ATPS4m.name = ATPS4m\n",
    "\n",
    "adp_m = model_ref.metabolites.get_by_id('adp_m')\n",
    "h_i = model_ref.metabolites.get_by_id('h_i')\n",
    "pi_m = model_ref.metabolites.get_by_id('pi_m')\n",
    "h2o_m = model_ref.metabolites.get_by_id('h2o_m')\n",
    "h_m = model_ref.metabolites.get_by_id('h_m')\n",
    "atp_m = model_ref.metabolites.get_by_id('atp_m')\n",
    "\n",
    "ATPS4m.add_metabolites({adp_m: -1, h_i: -4, pi_m: -1, h2o_m: 1, h_m: 3, atp_m: 1})\n",
    "model_ref.add_reaction(ATPS4m)\n",
    "\n",
    "model_ref.remove_reactions('CYOOm3')\n",
    "\n",
    "CYOOm3 = Reaction('CYOOm3')\n",
    "CYOOm3.name = CYOOm3\n",
    "\n",
    "h_m = model_ref.metabolites.get_by_id('h_m')\n",
    "o2_m = model_ref.metabolites.get_by_id('o2_m')\n",
    "focytC_m = model_ref.metabolites.get_by_id('focytC_m')\n",
    "h_i = model_ref.metabolites.get_by_id('h_i')\n",
    "h2o_m = model_ref.metabolites.get_by_id('h2o_m')\n",
    "ficytC_m = model_ref.metabolites.get_by_id('ficytC_m')\n",
    "\n",
    "\n",
    "CYOOm3.add_metabolites({h_m: -8, o2_m: -1, focytC_m: -4, h_i: 4, h2o_m: 2, ficytC_m: 4})\n",
    "model_ref.add_reaction(CYOOm3)\n",
    "\n",
    "# delete reaction\n",
    "model_ref.remove_reactions('NADH2_u10m')\n",
    "\n",
    "# re-add the reaction while replacing h_c with h_i\n",
    "NADH2_u10m = Reaction('NADH2_u10m')\n",
    "NADH2_u10m.name = NADH2_u10m\n",
    "\n",
    "q10_m = model_ref.metabolites.get_by_id('q10_m')\n",
    "h_m = model_ref.metabolites.get_by_id('h_m')\n",
    "nadh_m = model_ref.metabolites.get_by_id('nadh_m')\n",
    "nad_m = model_ref.metabolites.get_by_id('nad_m')\n",
    "h_i = model_ref.metabolites.get_by_id('h_i')\n",
    "q10h2_m = model_ref.metabolites.get_by_id('q10h2_m')\n",
    "\n",
    "\n",
    "\n",
    "NADH2_u10m.add_metabolites({q10_m: -1, h_m: -5, nadh_m: -1, nad_m: 1, h_i: 4, q10h2_m: 1})\n",
    "model_ref.add_reaction(NADH2_u10m)\n",
    "\n",
    "# delete reaction\n",
    "model_ref.remove_reactions('CYOR_u10m')\n",
    "\n",
    "# re-add the reaction while replacing h_c with h_i\n",
    "CYOR_u10m = Reaction('CYOR_u10m')\n",
    "CYOR_u10m.name = NADH2_u10m\n",
    "\n",
    "ficytC_m = model_ref.metabolites.get_by_id('ficytC_m')\n",
    "h_m = model_ref.metabolites.get_by_id('h_m')\n",
    "q10h2_m = model_ref.metabolites.get_by_id('q10h2_m')\n",
    "q10_m = model_ref.metabolites.get_by_id('q10_m')\n",
    "focytC_m = model_ref.metabolites.get_by_id('focytC_m')\n",
    "h_i = model_ref.metabolites.get_by_id('h_i')\n",
    "\n",
    "\n",
    "CYOR_u10m.add_metabolites({ficytC_m: -2, h_m: -2, q10h2_m: -1, q10_m: 1, focytC_m: 2, h_i: 4})\n",
    "model_ref.add_reaction(CYOR_u10m)"
   ]
  },
  {
   "cell_type": "code",
   "execution_count": 96,
   "metadata": {
    "collapsed": true
   },
   "outputs": [],
   "source": [
    "model = model_ref.copy()"
   ]
  },
  {
   "cell_type": "markdown",
   "metadata": {},
   "source": [
    "### Create demand on products"
   ]
  },
  {
   "cell_type": "code",
   "execution_count": 97,
   "metadata": {
    "collapsed": true
   },
   "outputs": [],
   "source": [
    "amp_c = model.metabolites.get_by_id('amp_c')\n",
    "DM_amp_c = Reaction('DM_amp_c')\n",
    "DM_amp_c.name = DM_amp_c\n",
    "DM_amp_c.add_metabolites({amp_c: -1})\n",
    "model.add_reaction(DM_amp_c)\n",
    "\n",
    "argsuc_c = model.metabolites.get_by_id('argsuc_c')\n",
    "DM_argsuc_c = Reaction('DM_argsuc_c')\n",
    "DM_argsuc_c.name = DM_argsuc_c\n",
    "DM_argsuc_c.add_metabolites({argsuc_c: -1})\n",
    "model.add_reaction(DM_argsuc_c)\n",
    "\n",
    "h_c = model.metabolites.get_by_id('h_c')\n",
    "DM_h_c = Reaction('DM_h_c')\n",
    "DM_h_c.name = DM_h_c\n",
    "DM_h_c.add_metabolites({h_c: -1})\n",
    "model.add_reaction(DM_h_c)\n",
    "\n",
    "ppi_c = model.metabolites.get_by_id('ppi_c')\n",
    "DM_ppi_c = Reaction('DM_ppi_c')\n",
    "DM_ppi_c.name = DM_ppi_c\n",
    "DM_ppi_c.add_metabolites({ppi_c: -1})\n",
    "model.add_reaction(DM_ppi_c)"
   ]
  },
  {
   "cell_type": "markdown",
   "metadata": {},
   "source": [
    "### KO ARGSS and demands"
   ]
  },
  {
   "cell_type": "code",
   "execution_count": 98,
   "metadata": {
    "collapsed": true
   },
   "outputs": [],
   "source": [
    "model.reactions.get_by_id('ARGSS').upper_bound = 0\n",
    "model.reactions.get_by_id('ARGSS').lower_bound = 0"
   ]
  },
  {
   "cell_type": "code",
   "execution_count": 99,
   "metadata": {
    "collapsed": true
   },
   "outputs": [],
   "source": [
    "model.reactions.get_by_id('DM_amp_c').upper_bound = 0\n",
    "model.reactions.get_by_id('DM_amp_c').lower_bound = 0\n",
    "\n",
    "model.reactions.get_by_id('DM_argsuc_c').upper_bound = 0\n",
    "model.reactions.get_by_id('DM_argsuc_c').lower_bound = 0\n",
    "\n",
    "model.reactions.get_by_id('DM_h_c').upper_bound = 0\n",
    "model.reactions.get_by_id('DM_h_c').lower_bound = 0\n",
    "\n",
    "model.reactions.get_by_id('DM_ppi_c').upper_bound = 0\n",
    "model.reactions.get_by_id('DM_ppi_c').lower_bound = 0"
   ]
  },
  {
   "cell_type": "markdown",
   "metadata": {},
   "source": [
    "### Open up biomass to allow cell to grow"
   ]
  },
  {
   "cell_type": "code",
   "execution_count": 100,
   "metadata": {
    "collapsed": true
   },
   "outputs": [],
   "source": [
    "model.reactions.get_by_id('biomass_NCI60').lower_bound = 0"
   ]
  },
  {
   "cell_type": "code",
   "execution_count": 101,
   "metadata": {
    "collapsed": false
   },
   "outputs": [
    {
     "data": {
      "text/plain": [
       "0.005785248050362675"
      ]
     },
     "execution_count": 101,
     "metadata": {},
     "output_type": "execute_result"
    }
   ],
   "source": [
    "model.optimize().f"
   ]
  },
  {
   "cell_type": "code",
   "execution_count": 102,
   "metadata": {
    "collapsed": true
   },
   "outputs": [],
   "source": [
    "# get shadow price values for each metabolite\n",
    "met_sp = []\n",
    "for met in model.metabolites:\n",
    "    met_sp.append(met.y)"
   ]
  },
  {
   "cell_type": "code",
   "execution_count": 103,
   "metadata": {
    "collapsed": true
   },
   "outputs": [],
   "source": [
    "# setup a zero cutoff\n",
    "for ind,item in enumerate(met_sp):\n",
    "    if -10**-6<item<10**-6:\n",
    "        met_sp[ind] = 0"
   ]
  },
  {
   "cell_type": "code",
   "execution_count": 104,
   "metadata": {
    "collapsed": true
   },
   "outputs": [],
   "source": [
    "# get list of biomass metabolites\n",
    "biomass_mets = []\n",
    "for met in model.reactions.get_by_id('biomass_NCI60').metabolites:\n",
    "    biomass_mets.append(str(met))"
   ]
  },
  {
   "cell_type": "code",
   "execution_count": 105,
   "metadata": {
    "collapsed": true
   },
   "outputs": [],
   "source": [
    "# get a list of the non-zero shadow prices and cross-reference biomass metabolites to find limiting nutrient(s)\n",
    "possible_limiting_nutrients = []\n",
    "limiting_nutrients = []\n",
    "for ind,item in enumerate(met_sp):\n",
    "    if item !=0:\n",
    "        possible_limiting_nutrients.append(str(model.metabolites[ind]))\n",
    "        possible = str(model.metabolites[ind])\n",
    "        if possible in biomass_mets:\n",
    "            limiting_nutrients.append(possible)"
   ]
  },
  {
   "cell_type": "code",
   "execution_count": 106,
   "metadata": {
    "collapsed": false
   },
   "outputs": [],
   "source": [
    "#model.objective = model.reactions.get_by_id('EX_arg__L_e')"
   ]
  },
  {
   "cell_type": "code",
   "execution_count": 107,
   "metadata": {
    "collapsed": false
   },
   "outputs": [],
   "source": [
    "#model.optimize().f"
   ]
  },
  {
   "cell_type": "code",
   "execution_count": 108,
   "metadata": {
    "collapsed": true
   },
   "outputs": [],
   "source": [
    "# get a list of new objective reactions which should be the corresponding exchange reaction(s)\n",
    "new_objective_reactions = []\n",
    "for item in limiting_nutrients:\n",
    "    item = item.replace(item[-1],'e')\n",
    "    item = 'EX_' + item\n",
    "    new_objective_reactions.append(item)"
   ]
  },
  {
   "cell_type": "code",
   "execution_count": 109,
   "metadata": {
    "collapsed": false
   },
   "outputs": [
    {
     "data": {
      "text/plain": [
       "['EX_arg__L_e']"
      ]
     },
     "execution_count": 109,
     "metadata": {},
     "output_type": "execute_result"
    }
   ],
   "source": [
    "new_objective_reactions"
   ]
  },
  {
   "cell_type": "code",
   "execution_count": 110,
   "metadata": {
    "collapsed": false
   },
   "outputs": [],
   "source": [
    "model.objective = model.reactions.get_by_id(new_objective_reactions[0])"
   ]
  },
  {
   "cell_type": "code",
   "execution_count": 111,
   "metadata": {
    "collapsed": false
   },
   "outputs": [
    {
     "data": {
      "text/plain": [
       "{<Reaction EX_arg__L_e at 0x12ed8be0>: 1}"
      ]
     },
     "execution_count": 111,
     "metadata": {},
     "output_type": "execute_result"
    }
   ],
   "source": [
    "model.objective"
   ]
  },
  {
   "cell_type": "code",
   "execution_count": 112,
   "metadata": {
    "collapsed": false
   },
   "outputs": [],
   "source": [
    "model.reactions.get_by_id(new_objective_reactions[0]).lower_bound = -1000"
   ]
  },
  {
   "cell_type": "code",
   "execution_count": 113,
   "metadata": {
    "collapsed": false
   },
   "outputs": [
    {
     "data": {
      "text/plain": [
       "0.0"
      ]
     },
     "execution_count": 113,
     "metadata": {},
     "output_type": "execute_result"
    }
   ],
   "source": [
    "model.optimize().f"
   ]
  },
  {
   "cell_type": "code",
   "execution_count": 114,
   "metadata": {
    "collapsed": false
   },
   "outputs": [
    {
     "data": {
      "text/plain": [
       "999999.0"
      ]
     },
     "execution_count": 114,
     "metadata": {},
     "output_type": "execute_result"
    }
   ],
   "source": [
    "model.reactions.get_by_id(new_objective_reactions[0]).upper_bound"
   ]
  },
  {
   "cell_type": "code",
   "execution_count": null,
   "metadata": {
    "collapsed": true
   },
   "outputs": [],
   "source": []
  }
 ],
 "metadata": {
  "kernelspec": {
   "display_name": "Python [Root]",
   "language": "python",
   "name": "Python [Root]"
  },
  "language_info": {
   "codemirror_mode": {
    "name": "ipython",
    "version": 2
   },
   "file_extension": ".py",
   "mimetype": "text/x-python",
   "name": "python",
   "nbconvert_exporter": "python",
   "pygments_lexer": "ipython2",
   "version": "2.7.12"
  }
 },
 "nbformat": 4,
 "nbformat_minor": 0
}
