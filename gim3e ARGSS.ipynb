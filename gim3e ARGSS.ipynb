{
 "cells": [
  {
   "cell_type": "code",
   "execution_count": 32,
   "metadata": {
    "collapsed": false
   },
   "outputs": [],
   "source": [
    "from gim3e.core import gim3e\n",
    "import csv\n",
    "from cobra.manipulation import initialize_growth_medium\n",
    "from cobra.io import load_json_model\n",
    "from copy import deepcopy\n",
    "from types import *\n",
    "from  cobra import __version__ as cobra_version"
   ]
  },
  {
   "cell_type": "code",
   "execution_count": 33,
   "metadata": {
    "collapsed": true
   },
   "outputs": [],
   "source": [
    "from os.path import dirname, join, abspath\n",
    "\n",
    "gim3e_dir = abspath(join(dirname(gim3e.__file__), \"..\"))\n",
    "data_dir = join(gim3e_dir, 'data', '')"
   ]
  },
  {
   "cell_type": "code",
   "execution_count": 34,
   "metadata": {
    "collapsed": false
   },
   "outputs": [],
   "source": [
    "with open(data_dir + 'expression_data.csv','rb') as f1:\n",
    "    reader = csv.reader(f1)\n",
    "    transcriptomics_dict  = {rows[0]:rows[1] for rows in reader}"
   ]
  },
  {
   "cell_type": "code",
   "execution_count": 35,
   "metadata": {
    "collapsed": true
   },
   "outputs": [],
   "source": [
    "with open(data_dir+ 'RECON1.json' , 'rb') as f2:\n",
    "    RECON1 = load_json_model(f2)"
   ]
  },
  {
   "cell_type": "code",
   "execution_count": 36,
   "metadata": {
    "collapsed": false
   },
   "outputs": [],
   "source": [
    "if cobra_version == '0.2.0':\n",
    "    RECON1 = deepcopy(RECON1)\n",
    "else:\n",
    "    RECON1 = RECON1.copy()"
   ]
  },
  {
   "cell_type": "code",
   "execution_count": 37,
   "metadata": {
    "collapsed": true
   },
   "outputs": [],
   "source": [
    "# Required numeric tolerances were \n",
    "# determined previously from FVA \n",
    "# on model reactions\n",
    "selected_tolerance = 1E-8\n",
    "selected_growth = 0.99\n",
    "selected_penalty = 1.01"
   ]
  },
  {
   "cell_type": "code",
   "execution_count": 40,
   "metadata": {
    "collapsed": false
   },
   "outputs": [
    {
     "name": "stdout",
     "output_type": "stream",
     "text": [
      "Determining the best objective value...\n",
      "No parameters matching 'the_problem' found\n",
      "... OK\n"
     ]
    },
    {
     "ename": "ZeroDivisionError",
     "evalue": "float division by zero",
     "output_type": "error",
     "traceback": [
      "\u001b[1;31m---------------------------------------------------------------------------\u001b[0m",
      "\u001b[1;31mZeroDivisionError\u001b[0m                         Traceback (most recent call last)",
      "\u001b[1;32m<ipython-input-40-ec544ac28661>\u001b[0m in \u001b[0;36m<module>\u001b[1;34m()\u001b[0m\n\u001b[0;32m     17\u001b[0m     \u001b[0mMILP_formulation\u001b[0m \u001b[1;33m=\u001b[0m \u001b[0mTrue\u001b[0m\u001b[1;33m,\u001b[0m\u001b[1;33m\u001b[0m\u001b[0m\n\u001b[0;32m     18\u001b[0m     \u001b[0mrun_FVA\u001b[0m \u001b[1;33m=\u001b[0m \u001b[0mTrue\u001b[0m\u001b[1;33m,\u001b[0m \u001b[0mreduce_model\u001b[0m \u001b[1;33m=\u001b[0m \u001b[0mFalse\u001b[0m\u001b[1;33m,\u001b[0m\u001b[1;33m\u001b[0m\u001b[0m\n\u001b[1;32m---> 19\u001b[1;33m     trim_model = False, solver = 'gurobi')\n\u001b[0m",
      "\u001b[1;32mC:\\Users\\Omar\\Anaconda2\\lib\\site-packages\\gim3e-1.0.3-py2.7.egg\\gim3e\\core\\gim3e.pyc\u001b[0m in \u001b[0;36mgim3e\u001b[1;34m(cobra_model, expression_dict, expression_threshold, metabolite_list, fraction_growth, relative_penalty_bound, solver_tolerance, metabolite_flux_requirement, monitor_all_cellular_metabolites, MILP_formulation, run_FVA, reduce_model, trim_model, solver)\u001b[0m\n\u001b[0;32m    162\u001b[0m \u001b[1;33m\u001b[0m\u001b[0m\n\u001b[0;32m    163\u001b[0m     \u001b[1;32mif\u001b[0m \u001b[0mcontinue_flag\u001b[0m\u001b[1;33m:\u001b[0m\u001b[1;33m\u001b[0m\u001b[0m\n\u001b[1;32m--> 164\u001b[1;33m         \u001b[1;32mif\u001b[0m \u001b[0mfraction_growth\u001b[0m \u001b[1;33m>=\u001b[0m \u001b[1;33m(\u001b[0m\u001b[1;33m(\u001b[0m\u001b[0mbest_objective\u001b[0m \u001b[1;33m-\u001b[0m \u001b[0msolver_tolerance\u001b[0m\u001b[1;33m)\u001b[0m \u001b[1;33m/\u001b[0m \u001b[0mbest_objective\u001b[0m\u001b[1;33m)\u001b[0m\u001b[1;33m:\u001b[0m\u001b[1;33m\u001b[0m\u001b[0m\n\u001b[0m\u001b[0;32m    165\u001b[0m             \u001b[0mfraction_growth\u001b[0m \u001b[1;33m=\u001b[0m \u001b[1;33m(\u001b[0m\u001b[0mbest_objective\u001b[0m \u001b[1;33m-\u001b[0m \u001b[0msolver_tolerance\u001b[0m\u001b[1;33m)\u001b[0m \u001b[1;33m/\u001b[0m \u001b[0mbest_objective\u001b[0m\u001b[1;33m\u001b[0m\u001b[0m\n\u001b[0;32m    166\u001b[0m             \u001b[1;32mprint\u001b[0m\u001b[1;33m(\u001b[0m\u001b[1;34m\"Fraction of growth must take numerical limitations into consideration and cannot be set too close to 1.  Resetting to \"\u001b[0m \u001b[1;33m+\u001b[0m \u001b[0mstr\u001b[0m\u001b[1;33m(\u001b[0m\u001b[0mfraction_growth\u001b[0m\u001b[1;33m)\u001b[0m \u001b[1;33m+\u001b[0m \u001b[1;34m\".\"\u001b[0m\u001b[1;33m)\u001b[0m\u001b[1;33m\u001b[0m\u001b[0m\n",
      "\u001b[1;31mZeroDivisionError\u001b[0m: float division by zero"
     ]
    }
   ],
   "source": [
    "# Note detected metabolites that paired\n",
    "# with the model are included even if\n",
    "# they are blocked.  The algorithm\n",
    "# automatically detects and warns\n",
    "# about blocked metabolites.\n",
    "# Note we can also add in virtual metabolites\n",
    "# to merely monitor metabolites by formulating\n",
    "# the model and not imposing flux requirements\n",
    "gim3e_model, gim3e_FVA, total_penalty = gim3e.gim3e(RECON1, expression_dict = transcriptomics_dict,\n",
    "    expression_threshold = max(transcriptomics_dict.values()),\n",
    "    metabolite_list = [], \n",
    "    fraction_growth = selected_growth,\n",
    "    relative_penalty_bound = selected_penalty,\n",
    "    solver_tolerance = selected_tolerance,\n",
    "    metabolite_flux_requirement = True,\n",
    "    monitor_all_cellular_metabolites = True,\n",
    "    MILP_formulation = True,\n",
    "    run_FVA = True, reduce_model = False,\n",
    "    trim_model = False, solver = 'gurobi')"
   ]
  },
  {
   "cell_type": "code",
   "execution_count": null,
   "metadata": {
    "collapsed": true
   },
   "outputs": [],
   "source": []
  }
 ],
 "metadata": {
  "kernelspec": {
   "display_name": "Python 2",
   "language": "python",
   "name": "python2"
  },
  "language_info": {
   "codemirror_mode": {
    "name": "ipython",
    "version": 2
   },
   "file_extension": ".py",
   "mimetype": "text/x-python",
   "name": "python",
   "nbconvert_exporter": "python",
   "pygments_lexer": "ipython2",
   "version": "2.7.11"
  }
 },
 "nbformat": 4,
 "nbformat_minor": 0
}
