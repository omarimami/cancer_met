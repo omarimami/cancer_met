{
 "cells": [
  {
   "cell_type": "code",
   "execution_count": 12,
   "metadata": {
    "collapsed": false
   },
   "outputs": [],
   "source": [
    "from tqdm import tqdm"
   ]
  },
  {
   "cell_type": "code",
   "execution_count": 13,
   "metadata": {
    "collapsed": true
   },
   "outputs": [],
   "source": [
    "from cobra import Reaction\n",
    "import escher\n",
    "import escher.urls\n",
    "import cobra\n",
    "import cobra.test\n",
    "import json\n",
    "import os\n",
    "import string\n",
    "from IPython.display import HTML\n",
    "from cobra import Model, Reaction, Metabolite\n",
    "from cobra.flux_analysis.parsimonious import optimize_minimal_flux\n",
    "model = cobra.io.load_matlab_model('C:\\\\Users\\\\Omar\\\\Desktop\\\\virtual\\\\venv\\\\RECON1', 'RECON1')"
   ]
  },
  {
   "cell_type": "code",
   "execution_count": 14,
   "metadata": {
    "collapsed": false
   },
   "outputs": [],
   "source": [
    "from cobra import ArrayBasedModel"
   ]
  },
  {
   "cell_type": "code",
   "execution_count": 15,
   "metadata": {
    "collapsed": false
   },
   "outputs": [
    {
     "name": "stdout",
     "output_type": "stream",
     "text": [
      "['DM_etha_c', 'EX_peplys_e', 'EX_Tyr_ggn_e', 'EX_arg__L_e', 'EX_asn__L_e', 'EX_asp__L_e', 'EX_chol_e', 'EX_cl_e', 'EX_glc__D_e', 'EX_gln__L_e', 'EX_gly_e', 'EX_h_e', 'EX_h2o_e', 'EX_ile__L_e', 'EX_k_e', 'EX_leu__L_e', 'EX_lys__L_e', 'EX_na1_e', 'EX_nh4_e', 'EX_o2_e', 'EX_phe__L_e', 'EX_pi_e', 'EX_pro__L_e', 'EX_ser__L_e', 'EX_thr__L_e', 'EX_trp__L_e', 'EX_tyr__L_e', 'EX_val__L_e']\n"
     ]
    }
   ],
   "source": [
    "#creat ethanalamine demand\n",
    "#metabolite is etha_c\n",
    "\n",
    "DM_etha_c = Reaction('DM_etha_c')\n",
    "DM_etha_c.name = DM_etha_c\n",
    "\n",
    "etha_c = model.metabolites.get_by_id('etha_c')\n",
    "\n",
    "DM_etha_c.add_metabolites({etha_c: -1})\n",
    "model.add_reaction(DM_etha_c)\n",
    "\n",
    "#create a transporter for this\n",
    "\n",
    "Tyr_ggnt = Reaction('Tyr_ggnt')\n",
    "Tyr_ggnt.name = Tyr_ggnt\n",
    "\n",
    "Tyr_ggn_e = model.metabolites.get_by_id('Tyr_ggn_e')\n",
    "Tyr_ggn_c = model.metabolites.get_by_id('Tyr_ggn_c')\n",
    "\n",
    "Tyr_ggnt.add_metabolites({Tyr_ggn_e: -1, Tyr_ggn_c: 1})\n",
    "model.add_reaction(Tyr_ggnt)\n",
    "\n",
    "DM_etha_c.lower_bound = -1\n",
    "Tyr_ggnt.lower_bound = -1000\n",
    "\n",
    "except_EX_names = '''DM_etha_c, EX_peplys_e, EX_Tyr_ggn_e, EX_arg__L_e, EX_asn__L_e, EX_asp__L_e, EX_chol_e, EX_cl_e, EX_glc__D_e, EX_gln__L_e, EX_gly_e, EX_h_e, EX_h2o_e, EX_ile__L_e, EX_k_e, EX_leu__L_e, EX_lys__L_e, EX_na1_e, EX_nh4_e, EX_o2_e, EX_phe__L_e, EX_pi_e, EX_pro__L_e, EX_ser__L_e, EX_thr__L_e, EX_trp__L_e, EX_tyr__L_e, EX_val__L_e'''\n",
    "except_EX_names_split = except_EX_names.split(', ')\n",
    "print except_EX_names_split\n",
    "\n",
    "# Changing all lower bounds to 0 except the given reactions above\n",
    "\n",
    "for a in model.reactions[1188:1591]:\n",
    "    a.lower_bound = 0\n",
    "\n",
    "model.reactions.get_by_id('EX_yvite_e').lower_bound = 0\n",
    "model.reactions.get_by_id('EX_10fthf5glu_e').lower_bound = 0\n",
    "    \n",
    "for b in model.reactions[1188:1591]:\n",
    "    for c in range(len(except_EX_names_split)):  \n",
    "        if b.id  == except_EX_names_split[c]:\n",
    "            b.lower_bound = -1\n",
    "            \n",
    "biomass_NCI60 = Reaction('biomass_NCI60')\n",
    "biomass_NCI60.name = biomass_NCI60\n",
    "\n",
    "ala_L_c = model.metabolites.get_by_id('ala__L_c')\n",
    "arg_L_c = model.metabolites.get_by_id('arg__L_c')\n",
    "asn_L_c = model.metabolites.get_by_id('asn__L_c')\n",
    "asp_L_c = model.metabolites.get_by_id('asp__L_c')\n",
    "atp_c = model.metabolites.get_by_id('atp_c')\n",
    "clpn_hs_c = model.metabolites.get_by_id('clpn_hs_c')\n",
    "ctp_c = model.metabolites.get_by_id('ctp_c')\n",
    "dag_hs_c = model.metabolites.get_by_id('dag_hs_c')\n",
    "datp_c = model.metabolites.get_by_id('datp_c')\n",
    "dctp_c = model.metabolites.get_by_id('dctp_c')\n",
    "dgtp_c = model.metabolites.get_by_id('dgtp_c')\n",
    "dttp_c = model.metabolites.get_by_id('dttp_c')\n",
    "gln_L_c = model.metabolites.get_by_id('gln__L_c')\n",
    "glu_L_c = model.metabolites.get_by_id('glu__L_c')\n",
    "gly_c = model.metabolites.get_by_id('gly_c')\n",
    "glygn2_c = model.metabolites.get_by_id('glygn2_c')\n",
    "gtp_c = model.metabolites.get_by_id('gtp_c')\n",
    "h2o_c = model.metabolites.get_by_id('h2o_c')\n",
    "hdca_c = model.metabolites.get_by_id('hdca_c')\n",
    "hdcea_c = model.metabolites.get_by_id('hdcea_c')\n",
    "ile_L_c = model.metabolites.get_by_id('ile__L_c')\n",
    "leu_L_c = model.metabolites.get_by_id('leu__L_c')\n",
    "lpchol_hs_c = model.metabolites.get_by_id('lpchol_hs_c')\n",
    "lys_L_c = model.metabolites.get_by_id('lys__L_c')\n",
    "mag_hs_c = model.metabolites.get_by_id('mag_hs_c')\n",
    "ocdca_c = model.metabolites.get_by_id('ocdca_c')\n",
    "ocdcea_c = model.metabolites.get_by_id('ocdcea_c')\n",
    "pa_hs_c = model.metabolites.get_by_id('pa_hs_c')\n",
    "pail_hs_c = model.metabolites.get_by_id('pail_hs_c')\n",
    "pchol_hs_c = model.metabolites.get_by_id('pchol_hs_c')\n",
    "pe_hs_c = model.metabolites.get_by_id('pe_hs_c')\n",
    "phe_L_c = model.metabolites.get_by_id('phe__L_c')\n",
    "ps_hs_c = model.metabolites.get_by_id('ps_hs_c')\n",
    "ser_L_c = model.metabolites.get_by_id('ser__L_c')\n",
    "sphmyln_hs_c = model.metabolites.get_by_id('sphmyln_hs_c')\n",
    "thr_L_c = model.metabolites.get_by_id('thr__L_c')\n",
    "trp_L_c = model.metabolites.get_by_id('trp__L_c')\n",
    "tyr_L_c = model.metabolites.get_by_id('tyr__L_c')\n",
    "utp_c = model.metabolites.get_by_id('utp_c')\n",
    "val_L_c = model.metabolites.get_by_id('val__L_c')\n",
    "pro_L_m = model.metabolites.get_by_id('pro__L_m')\n",
    "chsterol_r = model.metabolites.get_by_id('chsterol_r')\n",
    "xolest_hs_r = model.metabolites.get_by_id('xolest_hs_r')\n",
    "adp_c = model.metabolites.get_by_id('adp_c')\n",
    "h_c = model.metabolites.get_by_id('h_c')\n",
    "pi_c = model.metabolites.get_by_id('pi_c')\n",
    "\n",
    "#remove ocdca and ocdcea\n",
    "# added xolest value to cholesterol in biomass and remove xolest\n",
    "\n",
    "biomass_NCI60.add_metabolites({ala_L_c: -0.587929, arg_L_c: -0.380280, asn_L_c: -0.323313, asp_L_c: -0.261396, \n",
    "                               atp_c: -35.033540, clpn_hs_c: -0.000624, ctp_c: -0.033435, dag_hs_c: -0.001032, \n",
    "                               datp_c: -0.014557, dctp_c: -0.009770, dgtp_c: -0.009748, dttp_c: -0.014546,\n",
    "                               gln_L_c: -0.319051, glu_L_c: -0.387401, gly_c: -0.504294, glygn2_c: -0.034479,\n",
    "                               gtp_c: -0.055967, h2o_c: -35.000000, hdca_c: -0.008293, hdcea_c: -0.003315, \n",
    "                               ile_L_c: -0.319813, leu_L_c: -0.548692, lpchol_hs_c: -0.002470, lys_L_c: -0.552717, \n",
    "                               mag_hs_c: -0.001456, pa_hs_c: -0.010645,\n",
    "                               pail_hs_c: -0.005016, pchol_hs_c: -0.022878, pe_hs_c: -0.018211, phe_L_c: -0.170743,\n",
    "                               ps_hs_c: -0.006808, ser_L_c: -0.385852, sphmyln_hs_c: -0.010215, thr_L_c: -0.378004, \n",
    "                               trp_L_c: -0.039847, tyr_L_c: -0.150141, utp_c: -0.063323, val_L_c: -0.385554,\n",
    "                               pro_L_m: -0.237850, chsterol_r: -0.054102,  adp_c: 35.000000, \n",
    "                               h_c: 35.000000, pi_c: 35.000000})\n",
    "\n",
    "model.add_reaction(biomass_NCI60)\n",
    "my_objective = model.reactions.get_by_id('biomass_NCI60')\n",
    "model.change_objective(my_objective)\n",
    "\n",
    "# Adding DM_atp_c reaction\n",
    "\n",
    "DM_atp_c = Reaction('DM_atp_c')\n",
    "DM_atp_c.name = DM_atp_c\n",
    "\n",
    "atp_c = model.metabolites.get_by_id('atp_c')\n",
    "adp_c = model.metabolites.get_by_id('adp_c')\n",
    "h2o_c = model.metabolites.get_by_id('h2o_c')\n",
    "h_c = model.metabolites.get_by_id('h_c')\n",
    "pi_c = model.metabolites.get_by_id('pi_c')\n",
    "\n",
    "\n",
    "DM_atp_c.add_metabolites({atp_c: -1, h2o_c: -1, adp_c: 1, pi_c: 1, h_c: 1})\n",
    "model.add_reaction(DM_atp_c)\n",
    "\n",
    "# Setting lower bounds for DM_atp_c as per Dan\n",
    "\n",
    "model.reactions.get_by_id('DM_atp_c').lower_bound = 0.9*7.9939\n",
    "\n",
    "model.reactions.get_by_id('EX_h_e').lower_bound = -1000\n",
    "model.reactions.get_by_id('EX_o2_e').lower_bound = -1000\n",
    "model.reactions.get_by_id('EX_fe2_e').lower_bound = -1000\n",
    "model.reactions.get_by_id('EX_nh4_e').lower_bound = -1000\n",
    "\n",
    "model.reactions.get_by_id('EX_glc__D_e').lower_bound = -0.4882\n",
    "\n",
    "# constrained as per calculate fluxes \n",
    "model.reactions.get_by_id('biomass_NCI60').lower_bound = 0.0177\n",
    "model.reactions.get_by_id('biomass_NCI60').upper_bound = 0.0177\n",
    "\n",
    "model.reactions.get_by_id('EX_pi_e').lower_bound = -1000\n",
    "\n",
    "# 6/16/16 Changing amino acid uptake constraints\n",
    "# arg__L__e initially was -0.0022\n",
    "model.reactions.get_by_id('EX_arg__L_e').lower_bound = -0.0022\n",
    "\n",
    "model.reactions.get_by_id('EX_asn__L_e').lower_bound = -0.0058\n",
    "model.reactions.get_by_id('EX_asp__L_e').lower_bound = -0.0081\n",
    "model.reactions.get_by_id('EX_chol_e').lower_bound = -0.00062386\n",
    "model.reactions.get_by_id('EX_gln__L_e').lower_bound = -0.1202\n",
    "model.reactions.get_by_id('EX_gly_e').lower_bound = -0.0019\n",
    "model.reactions.get_by_id('EX_ile__L_e').lower_bound = -0.0081\n",
    "model.reactions.get_by_id('EX_leu__L_e').lower_bound = -0.0110\n",
    "model.reactions.get_by_id('EX_lys__L_e').lower_bound = -0.0111\n",
    "model.reactions.get_by_id('EX_phe__L_e').lower_bound = -0.0040\n",
    "\n",
    "model.reactions.get_by_id('EX_pro__L_e').lower_bound = -0.0045\n",
    "\n",
    "model.reactions.get_by_id('EX_ser__L_e').lower_bound = -0.0167\n",
    "model.reactions.get_by_id('EX_trp__L_e').lower_bound = -0.0013\n",
    "model.reactions.get_by_id('EX_tyr__L_e').lower_bound = -0.0068\n",
    "model.reactions.get_by_id('EX_val__L_e').lower_bound = -0.0079\n",
    "\n",
    "#6/24/16 lowerbound changes\n",
    "\n",
    "model.reactions.get_by_id('FTHFLi').lower_bound = 0\n",
    "model.reactions.get_by_id('FTHFLmi').lower_bound = 0\n",
    "\n",
    "model.reactions.get_by_id('FUM').lower_bound = 0\n",
    "model.reactions.get_by_id('FUM').upper_bound = 0\n",
    "\n",
    "model.reactions.get_by_id('BILGLCURte').lower_bound = 0\n",
    "model.reactions.get_by_id('BILDGLCURte').lower_bound = 0\n",
    "\n",
    "h_i = Metabolite('h_i', formula='h', name='h_i', compartment='i')\n",
    "model.add_metabolites(h_i)\n",
    "\n",
    "\n",
    "# delete reaction\n",
    "model.remove_reactions('ATPS4m')\n",
    "\n",
    "# re-add the reaction while replacing h_c with h_i\n",
    "ATPS4m = Reaction('ATPS4m')\n",
    "ATPS4m.name = ATPS4m\n",
    "\n",
    "adp_m = model.metabolites.get_by_id('adp_m')\n",
    "h_i = model.metabolites.get_by_id('h_i')\n",
    "pi_m = model.metabolites.get_by_id('pi_m')\n",
    "h2o_m = model.metabolites.get_by_id('h2o_m')\n",
    "h_m = model.metabolites.get_by_id('h_m')\n",
    "atp_m = model.metabolites.get_by_id('atp_m')\n",
    "\n",
    "ATPS4m.add_metabolites({adp_m: -1, h_i: -4, pi_m: -1, h2o_m: 1, h_m: 3, atp_m: 1})\n",
    "model.add_reaction(ATPS4m)\n",
    "\n",
    "model.remove_reactions('CYOOm3')\n",
    "\n",
    "CYOOm2 = Reaction('CYOOm2')\n",
    "CYOOm2.name = CYOOm2\n",
    "\n",
    "h_m = model.metabolites.get_by_id('h_m')\n",
    "o2_m = model.metabolites.get_by_id('o2_m')\n",
    "focytC_m = model.metabolites.get_by_id('focytC_m')\n",
    "h_i = model.metabolites.get_by_id('h_i')\n",
    "h2o_m = model.metabolites.get_by_id('h2o_m')\n",
    "ficytC_m = model.metabolites.get_by_id('ficytC_m')\n",
    "\n",
    "\n",
    "CYOOm2.add_metabolites({h_m: -8, o2_m: -1, focytC_m: -4, h_i: 4, h2o_m: 2, ficytC_m: 4})\n",
    "model.add_reaction(CYOOm2)\n",
    "\n",
    "# delete reaction\n",
    "model.remove_reactions('NADH2_u10m')\n",
    "\n",
    "# re-add the reaction while replacing h_c with h_i\n",
    "NADH2_u10m = Reaction('NADH2_u10m')\n",
    "NADH2_u10m.name = NADH2_u10m\n",
    "\n",
    "q10_m = model.metabolites.get_by_id('q10_m')\n",
    "h_m = model.metabolites.get_by_id('h_m')\n",
    "nadh_m = model.metabolites.get_by_id('nadh_m')\n",
    "nad_m = model.metabolites.get_by_id('nad_m')\n",
    "h_i = model.metabolites.get_by_id('h_i')\n",
    "q10h2_m = model.metabolites.get_by_id('q10h2_m')\n",
    "\n",
    "\n",
    "\n",
    "NADH2_u10m.add_metabolites({q10_m: -1, h_m: -5, nadh_m: -1, nad_m: 1, h_i: 4, q10h2_m: 1})\n",
    "model.add_reaction(NADH2_u10m)\n",
    "\n",
    "# delete reaction\n",
    "model.remove_reactions('CYOR_u10m')\n",
    "\n",
    "# re-add the reaction while replacing h_c with h_i\n",
    "CYOR_u10m = Reaction('CYOR_u10m')\n",
    "CYOR_u10m.name = NADH2_u10m\n",
    "\n",
    "ficytC_m = model.metabolites.get_by_id('ficytC_m')\n",
    "h_m = model.metabolites.get_by_id('h_m')\n",
    "q10h2_m = model.metabolites.get_by_id('q10h2_m')\n",
    "q10_m = model.metabolites.get_by_id('q10_m')\n",
    "focytC_m = model.metabolites.get_by_id('focytC_m')\n",
    "h_i = model.metabolites.get_by_id('h_i')\n",
    "\n",
    "\n",
    "CYOR_u10m.add_metabolites({ficytC_m: -2, h_m: -2, q10h2_m: -1, q10_m: 1, focytC_m: 2, h_i: 4})\n",
    "model.add_reaction(CYOR_u10m)"
   ]
  },
  {
   "cell_type": "code",
   "execution_count": 16,
   "metadata": {
    "collapsed": true
   },
   "outputs": [],
   "source": [
    "p_solution = cobra.flux_analysis.parsimonious.optimize_minimal_flux(model)"
   ]
  },
  {
   "cell_type": "code",
   "execution_count": 166,
   "metadata": {
    "collapsed": false
   },
   "outputs": [
    {
     "data": {
      "text/plain": [
       "0.004530956000000001"
      ]
     },
     "execution_count": 166,
     "metadata": {},
     "output_type": "execute_result"
    }
   ],
   "source": [
    "p_solution.x_dict['ARGSS']"
   ]
  },
  {
   "cell_type": "code",
   "execution_count": 17,
   "metadata": {
    "collapsed": true
   },
   "outputs": [],
   "source": [
    "gene_name = 'ARGSS'"
   ]
  },
  {
   "cell_type": "code",
   "execution_count": 18,
   "metadata": {
    "collapsed": false
   },
   "outputs": [],
   "source": [
    "# constraining the upper and lower bound of the gene of interest to an optimized value\n",
    "\n",
    "#model.reactions.get_by_id(str(gene_name)).upper_bound = p_solution.x_dict[str(gene_name)]\n",
    "model.reactions.get_by_id(str(gene_name)).lower_bound = p_solution.x_dict[str(gene_name)]"
   ]
  },
  {
   "cell_type": "code",
   "execution_count": 19,
   "metadata": {
    "collapsed": true
   },
   "outputs": [],
   "source": [
    "amp_c = model.metabolites.get_by_id('amp_c')\n",
    "DM_amp_c = Reaction('DM_amp_c')\n",
    "DM_amp_c.name = DM_amp_c\n",
    "DM_amp_c.add_metabolites({amp_c: -1})\n",
    "model.add_reaction(DM_amp_c)\n",
    "\n",
    "argsuc_c = model.metabolites.get_by_id('argsuc_c')\n",
    "DM_argsuc_c = Reaction('DM_argsuc_c')\n",
    "DM_argsuc_c.name = DM_argsuc_c\n",
    "DM_argsuc_c.add_metabolites({argsuc_c: -1})\n",
    "model.add_reaction(DM_argsuc_c)\n",
    "\n",
    "h_c = model.metabolites.get_by_id('h_c')\n",
    "DM_h_c = Reaction('DM_h_c')\n",
    "DM_h_c.name = DM_h_c\n",
    "DM_h_c.add_metabolites({h_c: -1})\n",
    "model.add_reaction(DM_h_c)\n",
    "\n",
    "ppi_c = model.metabolites.get_by_id('ppi_c')\n",
    "DM_ppi_c = Reaction('DM_ppi_c')\n",
    "DM_ppi_c.name = DM_ppi_c\n",
    "DM_ppi_c.add_metabolites({ppi_c: -1})\n",
    "model.add_reaction(DM_ppi_c)"
   ]
  },
  {
   "cell_type": "code",
   "execution_count": 20,
   "metadata": {
    "collapsed": true
   },
   "outputs": [],
   "source": [
    "#model.reactions.get_by_id('DM_amp_c').upper_bound = p_solution.x_dict[str(gene_name)]\n",
    "model.reactions.get_by_id('DM_amp_c').lower_bound = p_solution.x_dict[str(gene_name)]\n",
    "\n",
    "#model.reactions.get_by_id('DM_argsuc_c').upper_bound = p_solution.x_dict[str(gene_name)]\n",
    "model.reactions.get_by_id('DM_argsuc_c').lower_bound = p_solution.x_dict[str(gene_name)]\n",
    "\n",
    "#model.reactions.get_by_id('DM_h_c').upper_bound = p_solution.x_dict[str(gene_name)]\n",
    "model.reactions.get_by_id('DM_h_c').lower_bound = p_solution.x_dict[str(gene_name)]\n",
    "\n",
    "#model.reactions.get_by_id('DM_ppi_c').upper_bound = p_solution.x_dict[str(gene_name)]\n",
    "model.reactions.get_by_id('DM_ppi_c').lower_bound = p_solution.x_dict[str(gene_name)]"
   ]
  },
  {
   "cell_type": "code",
   "execution_count": 22,
   "metadata": {
    "collapsed": true
   },
   "outputs": [],
   "source": [
    "model.reactions.get_by_id('EX_arg__L_e').lower_bound = -0.0068"
   ]
  },
  {
   "cell_type": "code",
   "execution_count": 14,
   "metadata": {
    "collapsed": true
   },
   "outputs": [],
   "source": [
    "model2 = ArrayBasedModel(model)"
   ]
  },
  {
   "cell_type": "code",
   "execution_count": 15,
   "metadata": {
    "collapsed": false
   },
   "outputs": [
    {
     "data": {
      "text/plain": [
       "<Solution 0.02 at 0x11313128>"
      ]
     },
     "execution_count": 15,
     "metadata": {},
     "output_type": "execute_result"
    }
   ],
   "source": [
    "model2.optimize()"
   ]
  },
  {
   "cell_type": "code",
   "execution_count": 21,
   "metadata": {
    "collapsed": false
   },
   "outputs": [],
   "source": [
    "# This creates an array of modified met names\n",
    "\n",
    "newmet_array = [0] * len(model.metabolites)\n",
    "met_count = 0\n",
    "for i in range(len(model.metabolites)):\n",
    "    newmet_array[met_count] = string.replace(model.metabolites[i].id, \" \", \"_\")\n",
    "    met_count = met_count + 1"
   ]
  },
  {
   "cell_type": "code",
   "execution_count": 16,
   "metadata": {
    "collapsed": false
   },
   "outputs": [
    {
     "data": {
      "text/plain": [
       "'h_i'"
      ]
     },
     "execution_count": 16,
     "metadata": {},
     "output_type": "execute_result"
    }
   ],
   "source": [
    "newmet_array[i]"
   ]
  },
  {
   "cell_type": "code",
   "execution_count": 15,
   "metadata": {
    "collapsed": false
   },
   "outputs": [
    {
     "name": "stderr",
     "output_type": "stream",
     "text": [
      "100%|████████████████████████████████████████████████████████████████████████████| 2767/2767 [1:15:37<00:00,  1.21it/s]\n"
     ]
    }
   ],
   "source": [
    "# creates an empty dict to store DM_rxns as keys and the p_solution.f values\n",
    "normal_maxmet_dict = {}\n",
    "norm_turnover = {}\n",
    "\n",
    "for i in tqdm(range(len(model.metabolites))):\n",
    "#for i in range(80):\n",
    "\n",
    "    #  switch toggle\n",
    "    switch = True\n",
    "\n",
    "    # this part creates a demand reaction for each metabolite\n",
    "    temp_DM = 'DM_' + str(newmet_array[i])\n",
    "    \n",
    "    # this nested for loop tries to catch if a demand reaction already exists in the model\n",
    "    for ii in model.reactions:\n",
    "        if temp_DM == str(ii):\n",
    "            # this part sets the newly created demand as the objective\n",
    "            my_objective = model.reactions.get_by_id(str(temp_DM))\n",
    "            model.change_objective(my_objective)\n",
    "\n",
    "            # this part runs FBA on the new demand\n",
    "            p_solution = model.optimize()\n",
    "\n",
    "            # this stores the demand flux into a dictionary where its demand rxn is the key\n",
    "            normal_maxmet_dict[str(temp_DM)] = p_solution.f\n",
    "            \n",
    "            # a toggle to see if the reaction is to be deleted or not\n",
    "            switch = False\n",
    "            \n",
    "    if switch is True:\n",
    "        temp_DM = Reaction(str(temp_DM))\n",
    "        newmet_array[i] = model.metabolites.get_by_id(model.metabolites[i].id)\n",
    "        temp_DM.add_metabolites({newmet_array[i]: -1})\n",
    "        model.add_reaction(temp_DM)\n",
    "\n",
    "        # this part sets the newly created demand as the objective\n",
    "        my_objective = model.reactions.get_by_id(str(temp_DM))\n",
    "        model.change_objective(my_objective)\n",
    "\n",
    "        # this part runs FBA on the new demand\n",
    "        p_solution = model.optimize()\n",
    "\n",
    "        # this stores the demand flux into a dictionary where its demand rxn is the key\n",
    "        normal_maxmet_dict[str(temp_DM)] = p_solution.f\n",
    "    \n",
    "    model = ArrayBasedModel(model)\n",
    "    S = model.S\n",
    "    \n",
    "    turnover_vals = []\n",
    "    for rxnind,rxn in enumerate(model.reactions):\n",
    "        S_met = S[i,rxnind]\n",
    "        if S_met > 0:\n",
    "            turnover_vals.append(S_met*p_solution.x_dict[str(rxn)])\n",
    "    norm_turnover[str(newmet_array[i])] = sum(turnover_vals)\n",
    "    \n",
    "    if switch is True:\n",
    "        # this deletes the demand at the end of each iteration\n",
    "        model.reactions.get_by_id(str(temp_DM)).delete()"
   ]
  },
  {
   "cell_type": "code",
   "execution_count": 23,
   "metadata": {
    "collapsed": true
   },
   "outputs": [],
   "source": [
    "model = ArrayBasedModel(model)\n",
    "S = model.S"
   ]
  },
  {
   "cell_type": "code",
   "execution_count": 168,
   "metadata": {
    "collapsed": false
   },
   "outputs": [
    {
     "name": "stdout",
     "output_type": "stream",
     "text": [
      "10fthf5glu_c\n",
      "10FTHF5GLUtl\n",
      "FPGS8\n",
      "FPGS7\n",
      "10FTHF5GLUtm\n"
     ]
    }
   ],
   "source": [
    "print model.metabolites[0]\n",
    "for i in model.metabolites[0].reactions:\n",
    "    print i"
   ]
  },
  {
   "cell_type": "code",
   "execution_count": 169,
   "metadata": {
    "collapsed": false
   },
   "outputs": [
    {
     "data": {
      "text/plain": [
       "list"
      ]
     },
     "execution_count": 169,
     "metadata": {},
     "output_type": "execute_result"
    }
   ],
   "source": [
    "type(p_solution.x)"
   ]
  },
  {
   "cell_type": "code",
   "execution_count": 24,
   "metadata": {
    "collapsed": true
   },
   "outputs": [],
   "source": [
    "import numpy as np"
   ]
  },
  {
   "cell_type": "code",
   "execution_count": null,
   "metadata": {
    "collapsed": true
   },
   "outputs": [],
   "source": [
    "p_solution.x_dict['RNDR2']"
   ]
  },
  {
   "cell_type": "code",
   "execution_count": 171,
   "metadata": {
    "collapsed": false
   },
   "outputs": [],
   "source": [
    "check = np.array([p_solution.x_dict['RNDR1'], p_solution.x_dict['RNDR2']])"
   ]
  },
  {
   "cell_type": "code",
   "execution_count": 27,
   "metadata": {
    "collapsed": false
   },
   "outputs": [],
   "source": [
    "unique = ['RNDR1','RNDR2','RNDR3','RNDR4']"
   ]
  },
  {
   "cell_type": "code",
   "execution_count": 28,
   "metadata": {
    "collapsed": false
   },
   "outputs": [
    {
     "name": "stdout",
     "output_type": "stream",
     "text": [
      "3208\n",
      "3209\n",
      "3210\n",
      "3211\n"
     ]
    }
   ],
   "source": [
    "check = [0]\n",
    "cgh = np.zeros(len(model.metabolites))\n",
    "cgh = np.matrix(cgh)\n",
    "# for each reaction mapped by the gene\n",
    "for j in range(len(unique)):\n",
    "    for i,x in enumerate(model.reactions):\n",
    "        # get index of reaction in model.reactions and get reaction column*pFBA solution\n",
    "        if str(x) == unique[j]:\n",
    "            print i\n",
    "            check.append((p_solution.x_dict[unique[j]]))\n",
    "            #new = S[:,i]*check\n",
    "            #for i1 in range(len(new.nonzero()[0])):\n",
    "                #val = new.nonzero()[0][i1]\n",
    "                #vals = new[val,0]\n",
    "                #if vals > 0:\n",
    "                    #print val,vals\n",
    "            sva = []\n",
    "            for h in range(len(model.metabolites)):\n",
    "                sva.append(S[h,i])\n",
    "            sva = np.array(sva)    \n",
    "            sva=np.matrix(sva.T)\n",
    "            cgh = np.concatenate((cgh,sva))\n",
    "\n",
    "cgh = cgh.T\n",
    "check = np.matrix(check)\n",
    "check = check.T"
   ]
  },
  {
   "cell_type": "code",
   "execution_count": 29,
   "metadata": {
    "collapsed": false
   },
   "outputs": [
    {
     "data": {
      "text/plain": [
       "(5L, 1L)"
      ]
     },
     "execution_count": 29,
     "metadata": {},
     "output_type": "execute_result"
    }
   ],
   "source": [
    "check.shape"
   ]
  },
  {
   "cell_type": "code",
   "execution_count": 30,
   "metadata": {
    "collapsed": false
   },
   "outputs": [
    {
     "data": {
      "text/plain": [
       "(2767L, 5L)"
      ]
     },
     "execution_count": 30,
     "metadata": {},
     "output_type": "execute_result"
    }
   ],
   "source": [
    "cgh.shape"
   ]
  },
  {
   "cell_type": "code",
   "execution_count": 31,
   "metadata": {
    "collapsed": false
   },
   "outputs": [],
   "source": [
    "# matrix multiplication\n",
    "new = cgh*check"
   ]
  },
  {
   "cell_type": "code",
   "execution_count": 35,
   "metadata": {
    "collapsed": false
   },
   "outputs": [],
   "source": [
    "#should be elementwise mult\n",
    "thingy = np.multiply(cgh,check.T)"
   ]
  },
  {
   "cell_type": "code",
   "execution_count": 55,
   "metadata": {
    "collapsed": false
   },
   "outputs": [
    {
     "data": {
      "text/plain": [
       "(2767L, 5L)"
      ]
     },
     "execution_count": 55,
     "metadata": {},
     "output_type": "execute_result"
    }
   ],
   "source": [
    "thingy.shape"
   ]
  },
  {
   "cell_type": "code",
   "execution_count": 1,
   "metadata": {
    "collapsed": false
   },
   "outputs": [
    {
     "name": "stdout",
     "output_type": "stream",
     "text": [
      "{'cglpk': <module 'cobra.solvers.cglpk' from 'C:\\Users\\Omar\\Anaconda2\\lib\\site-packages\\cobra\\solvers\\cglpk.pyd'>, 'gurobipy': <module 'cobra.solvers.gurobipy' from 'C:\\Users\\Omar\\Anaconda2\\lib\\site-packages\\cobra\\solvers\\gurobipy.pyd'>, 'gurobi': <module 'cobra.solvers.gurobi_solver' from 'C:\\Users\\Omar\\Anaconda2\\lib\\site-packages\\cobra\\solvers\\gurobi_solver.pyc'>}\n"
     ]
    }
   ],
   "source": [
    "import cobra\n",
    "print cobra.solvers.solver_dict"
   ]
  },
  {
   "cell_type": "code",
   "execution_count": 62,
   "metadata": {
    "collapsed": false
   },
   "outputs": [
    {
     "name": "stdout",
     "output_type": "stream",
     "text": [
      "18 0.0002576589\n",
      "18 0.0001725396\n",
      "18 0.0004303932\n",
      "26 -0.0002576589\n",
      "430 -0.0001725396\n",
      "434 0.0002576589\n",
      "1101 -0.0004303932\n",
      "1102 0.0001725396\n",
      "1108 0.0004303932\n",
      "2596 0.0002576589\n",
      "2596 0.0001725396\n",
      "2596 0.0004303932\n",
      "2597 -0.0002576589\n",
      "2597 -0.0001725396\n",
      "2597 -0.0004303932\n"
     ]
    }
   ],
   "source": [
    "for i in range(len(model.metabolites)):\n",
    "    for j in range(len(unique)):\n",
    "        if thingy[i,j] !=0:\n",
    "            print i, thingy[i,j]"
   ]
  },
  {
   "cell_type": "code",
   "execution_count": 59,
   "metadata": {
    "collapsed": false
   },
   "outputs": [
    {
     "data": {
      "text/plain": [
       "3750"
      ]
     },
     "execution_count": 59,
     "metadata": {},
     "output_type": "execute_result"
    }
   ],
   "source": [
    "len(model.reactions)"
   ]
  },
  {
   "cell_type": "code",
   "execution_count": 40,
   "metadata": {
    "collapsed": false
   },
   "outputs": [],
   "source": [
    "x,y = thingy.shape"
   ]
  },
  {
   "cell_type": "code",
   "execution_count": null,
   "metadata": {
    "collapsed": false
   },
   "outputs": [],
   "source": []
  },
  {
   "cell_type": "code",
   "execution_count": 270,
   "metadata": {
    "collapsed": false
   },
   "outputs": [
    {
     "data": {
      "text/plain": [
       "0.0"
      ]
     },
     "execution_count": 270,
     "metadata": {},
     "output_type": "execute_result"
    }
   ],
   "source": [
    "new[0,0]"
   ]
  },
  {
   "cell_type": "code",
   "execution_count": 33,
   "metadata": {
    "collapsed": false
   },
   "outputs": [
    {
     "name": "stdout",
     "output_type": "stream",
     "text": [
      "18 0.0008605917\n",
      "26 -0.0002576589\n",
      "430 -0.0001725396\n",
      "434 0.0002576589\n",
      "1101 -0.0004303932\n",
      "1102 0.0001725396\n",
      "1108 0.0004303932\n",
      "2596 0.0008605917\n",
      "2597 -0.0008605917\n"
     ]
    }
   ],
   "source": [
    "for i in range(len(new)):\n",
    "    if new[i,0] != 0:\n",
    "        print i,new[i,0]"
   ]
  },
  {
   "cell_type": "code",
   "execution_count": 243,
   "metadata": {
    "collapsed": false
   },
   "outputs": [
    {
     "name": "stdout",
     "output_type": "stream",
     "text": [
      "h2o_c\n",
      "adp_c\n",
      "dadp_c\n",
      "dgdp_c\n",
      "dcdp_c\n",
      "trdox_c\n"
     ]
    }
   ],
   "source": [
    "print model.metabolites[18]\n",
    "print model.metabolites[26]\n",
    "print model.metabolites[434]\n",
    "print model.metabolites[1102]\n",
    "print model.metabolites[1108]\n",
    "print model.metabolites[2596]"
   ]
  },
  {
   "cell_type": "code",
   "execution_count": 240,
   "metadata": {
    "collapsed": false
   },
   "outputs": [
    {
     "name": "stdout",
     "output_type": "stream",
     "text": [
      "18 1 1.0\n",
      "26 1 -1.0\n",
      "434 1 1.0\n",
      "2596 1 1.0\n",
      "2597 1 -1.0\n",
      "18 2 1.0\n",
      "430 2 -1.0\n",
      "1102 2 1.0\n",
      "2596 2 1.0\n",
      "2597 2 -1.0\n"
     ]
    }
   ],
   "source": [
    "for j in range(len(unique)):\n",
    "    for i in range(len(model.metabolites)):\n",
    "        if cgh[i,j+1] != 0:\n",
    "            print i,j+1, cgh[i,j+1]"
   ]
  },
  {
   "cell_type": "code",
   "execution_count": 244,
   "metadata": {
    "collapsed": false
   },
   "outputs": [
    {
     "data": {
      "text/plain": [
       "[0.0002576589, 0.0001725396]"
      ]
     },
     "execution_count": 244,
     "metadata": {},
     "output_type": "execute_result"
    }
   ],
   "source": [
    "check"
   ]
  },
  {
   "cell_type": "code",
   "execution_count": 236,
   "metadata": {
    "collapsed": true
   },
   "outputs": [],
   "source": [
    "cgh = cgh.T"
   ]
  },
  {
   "cell_type": "code",
   "execution_count": 237,
   "metadata": {
    "collapsed": false
   },
   "outputs": [
    {
     "data": {
      "text/plain": [
       "(2767L, 3L)"
      ]
     },
     "execution_count": 237,
     "metadata": {},
     "output_type": "execute_result"
    }
   ],
   "source": [
    "cgh.shape"
   ]
  },
  {
   "cell_type": "code",
   "execution_count": 141,
   "metadata": {
    "collapsed": false
   },
   "outputs": [
    {
     "ename": "ValueError",
     "evalue": "zero-dimensional arrays cannot be concatenated",
     "output_type": "error",
     "traceback": [
      "\u001b[1;31m---------------------------------------------------------------------------\u001b[0m",
      "\u001b[1;31mValueError\u001b[0m                                Traceback (most recent call last)",
      "\u001b[1;32m<ipython-input-141-23cbae310886>\u001b[0m in \u001b[0;36m<module>\u001b[1;34m()\u001b[0m\n\u001b[1;32m----> 1\u001b[1;33m \u001b[0mnp\u001b[0m\u001b[1;33m.\u001b[0m\u001b[0mconcatenate\u001b[0m\u001b[1;33m(\u001b[0m\u001b[1;33m(\u001b[0m\u001b[0mS\u001b[0m\u001b[1;33m[\u001b[0m\u001b[1;33m:\u001b[0m\u001b[1;33m,\u001b[0m\u001b[1;36m3208\u001b[0m\u001b[1;33m]\u001b[0m\u001b[1;33m,\u001b[0m \u001b[0mS\u001b[0m\u001b[1;33m[\u001b[0m\u001b[1;33m:\u001b[0m\u001b[1;33m,\u001b[0m\u001b[1;36m3209\u001b[0m\u001b[1;33m]\u001b[0m\u001b[1;33m)\u001b[0m\u001b[1;33m)\u001b[0m\u001b[1;33m\u001b[0m\u001b[0m\n\u001b[0m",
      "\u001b[1;31mValueError\u001b[0m: zero-dimensional arrays cannot be concatenated"
     ]
    }
   ],
   "source": [
    "np.concatenate((S[:,3208], S[:,3209]))"
   ]
  },
  {
   "cell_type": "code",
   "execution_count": 225,
   "metadata": {
    "collapsed": false
   },
   "outputs": [],
   "source": [
    "svals = []\n",
    "for h in range(len(model.metabolites)):\n",
    "    svals.append(S[h,3208])"
   ]
  },
  {
   "cell_type": "code",
   "execution_count": 226,
   "metadata": {
    "collapsed": false
   },
   "outputs": [],
   "source": [
    "svals = np.matrix(svals)"
   ]
  },
  {
   "cell_type": "code",
   "execution_count": 228,
   "metadata": {
    "collapsed": false
   },
   "outputs": [
    {
     "data": {
      "text/plain": [
       "(2767L, 1L)"
      ]
     },
     "execution_count": 228,
     "metadata": {},
     "output_type": "execute_result"
    }
   ],
   "source": [
    "svals.T.shape"
   ]
  },
  {
   "cell_type": "code",
   "execution_count": 229,
   "metadata": {
    "collapsed": false
   },
   "outputs": [],
   "source": [
    "cgh = np.concatenate((svals,svals))"
   ]
  },
  {
   "cell_type": "code",
   "execution_count": 230,
   "metadata": {
    "collapsed": false
   },
   "outputs": [
    {
     "data": {
      "text/plain": [
       "(2L, 2767L)"
      ]
     },
     "execution_count": 230,
     "metadata": {},
     "output_type": "execute_result"
    }
   ],
   "source": [
    "cgh.shape"
   ]
  },
  {
   "cell_type": "code",
   "execution_count": 56,
   "metadata": {
    "collapsed": false
   },
   "outputs": [],
   "source": [
    "new = S[:,3209]*(check)"
   ]
  },
  {
   "cell_type": "code",
   "execution_count": 72,
   "metadata": {
    "collapsed": false
   },
   "outputs": [
    {
     "data": {
      "text/plain": [
       "0.0002576589"
      ]
     },
     "execution_count": 72,
     "metadata": {},
     "output_type": "execute_result"
    }
   ],
   "source": [
    "new[434,0]"
   ]
  },
  {
   "cell_type": "code",
   "execution_count": 93,
   "metadata": {
    "collapsed": false
   },
   "outputs": [
    {
     "name": "stdout",
     "output_type": "stream",
     "text": [
      "18 0.0002576589\n",
      "26 -0.0002576589\n",
      "434 0.0002576589\n",
      "2596 0.0002576589\n",
      "2597 -0.0002576589\n"
     ]
    }
   ],
   "source": [
    "for i in range(len(new.nonzero()[0])):\n",
    "    val = new.nonzero()[0][i]\n",
    "    vals = new[val,0]\n",
    "    print val, vals"
   ]
  },
  {
   "cell_type": "code",
   "execution_count": 64,
   "metadata": {
    "collapsed": false
   },
   "outputs": [
    {
     "data": {
      "text/plain": [
       "(array([  18,   26,  434, 2596, 2597]), array([0, 0, 0, 0, 0]))"
      ]
     },
     "execution_count": 64,
     "metadata": {},
     "output_type": "execute_result"
    }
   ],
   "source": [
    "new.nonzero()"
   ]
  },
  {
   "cell_type": "code",
   "execution_count": 28,
   "metadata": {
    "collapsed": false
   },
   "outputs": [
    {
     "name": "stdout",
     "output_type": "stream",
     "text": [
      "  (18, 0L)\t1.0\n",
      "  (26, 0L)\t-1.0\n",
      "  (434, 0L)\t1.0\n",
      "  (2596, 0L)\t1.0\n",
      "  (2597, 0L)\t-1.0\n"
     ]
    }
   ],
   "source": [
    "print S[:,3208]"
   ]
  },
  {
   "cell_type": "code",
   "execution_count": 26,
   "metadata": {
    "collapsed": false
   },
   "outputs": [
    {
     "ename": "ValueError",
     "evalue": "The truth value of an array with more than one element is ambiguous. Use a.any() or a.all().",
     "output_type": "error",
     "traceback": [
      "\u001b[1;31m---------------------------------------------------------------------------\u001b[0m",
      "\u001b[1;31mValueError\u001b[0m                                Traceback (most recent call last)",
      "\u001b[1;32m<ipython-input-26-caf19621a9e1>\u001b[0m in \u001b[0;36m<module>\u001b[1;34m()\u001b[0m\n\u001b[0;32m      1\u001b[0m \u001b[1;32mfor\u001b[0m \u001b[0mind\u001b[0m\u001b[1;33m,\u001b[0m\u001b[0mx\u001b[0m \u001b[1;32min\u001b[0m \u001b[0menumerate\u001b[0m\u001b[1;33m(\u001b[0m\u001b[0mnew\u001b[0m\u001b[1;33m)\u001b[0m\u001b[1;33m:\u001b[0m\u001b[1;33m\u001b[0m\u001b[0m\n\u001b[1;32m----> 2\u001b[1;33m     \u001b[1;32mif\u001b[0m \u001b[0mx\u001b[0m \u001b[1;33m>\u001b[0m\u001b[1;36m0\u001b[0m\u001b[1;33m:\u001b[0m\u001b[1;33m\u001b[0m\u001b[0m\n\u001b[0m\u001b[0;32m      3\u001b[0m         \u001b[1;32mprint\u001b[0m \u001b[0mx\u001b[0m\u001b[1;33m\u001b[0m\u001b[0m\n",
      "\u001b[1;32mC:\\Users\\Omar\\Anaconda2\\lib\\site-packages\\scipy\\sparse\\base.pyc\u001b[0m in \u001b[0;36m__bool__\u001b[1;34m(self)\u001b[0m\n\u001b[0;32m    188\u001b[0m             \u001b[1;32mreturn\u001b[0m \u001b[0mTrue\u001b[0m \u001b[1;32mif\u001b[0m \u001b[0mself\u001b[0m\u001b[1;33m.\u001b[0m\u001b[0mnnz\u001b[0m \u001b[1;33m==\u001b[0m \u001b[1;36m1\u001b[0m \u001b[1;32melse\u001b[0m \u001b[0mFalse\u001b[0m\u001b[1;33m\u001b[0m\u001b[0m\n\u001b[0;32m    189\u001b[0m         \u001b[1;32melse\u001b[0m\u001b[1;33m:\u001b[0m\u001b[1;33m\u001b[0m\u001b[0m\n\u001b[1;32m--> 190\u001b[1;33m             raise ValueError(\"The truth value of an array with more than one \"\n\u001b[0m\u001b[0;32m    191\u001b[0m                              \"element is ambiguous. Use a.any() or a.all().\")\n\u001b[0;32m    192\u001b[0m     \u001b[0m__nonzero__\u001b[0m \u001b[1;33m=\u001b[0m \u001b[0m__bool__\u001b[0m\u001b[1;33m\u001b[0m\u001b[0m\n",
      "\u001b[1;31mValueError\u001b[0m: The truth value of an array with more than one element is ambiguous. Use a.any() or a.all()."
     ]
    }
   ],
   "source": [
    "for ind,x in enumerate(new):\n",
    "    if x >0:\n",
    "        print x"
   ]
  },
  {
   "cell_type": "code",
   "execution_count": 84,
   "metadata": {
    "collapsed": false
   },
   "outputs": [],
   "source": [
    "check_sols = []\n",
    "for rxn in model.reactions:\n",
    "    thing = p_solution.x_dict[str(rxn)]\n",
    "    if thing != 0:\n",
    "        check_sols.append(thing)"
   ]
  },
  {
   "cell_type": "code",
   "execution_count": null,
   "metadata": {
    "collapsed": false
   },
   "outputs": [],
   "source": []
  },
  {
   "cell_type": "code",
   "execution_count": 89,
   "metadata": {
    "collapsed": false
   },
   "outputs": [],
   "source": [
    "S_new = np.multiply(S,p_solution.x)"
   ]
  },
  {
   "cell_type": "code",
   "execution_count": null,
   "metadata": {
    "collapsed": false
   },
   "outputs": [],
   "source": []
  },
  {
   "cell_type": "code",
   "execution_count": 86,
   "metadata": {
    "collapsed": false
   },
   "outputs": [],
   "source": [
    "check_sols2 = []\n",
    "for item in p_solution.x:\n",
    "    if item != 0:\n",
    "        check_sols2.append(item)"
   ]
  },
  {
   "cell_type": "code",
   "execution_count": 24,
   "metadata": {
    "collapsed": false
   },
   "outputs": [
    {
     "data": {
      "text/plain": [
       "2.3033495444872565"
      ]
     },
     "execution_count": 24,
     "metadata": {},
     "output_type": "execute_result"
    }
   ],
   "source": [
    "norm_turnover['malcoa_c']"
   ]
  },
  {
   "cell_type": "code",
   "execution_count": 18,
   "metadata": {
    "collapsed": false
   },
   "outputs": [
    {
     "data": {
      "text/plain": [
       "{'DM_vitd3_e': 0.0360650689536972,\n",
       " 'DM_3mox4hoxm_c': 0.005120353191159666,\n",
       " 'DM_malcoa_m': 0.25958384120199113,\n",
       " 'DM_vitd3_c': 0.03606506864295586,\n",
       " 'DM_vitd3_m': 0.036065068083842265,\n",
       " 'DM_fald_x': 0.8213046451564878,\n",
       " 'DM_malcoa_c': 0.25592772601403263,\n",
       " 'DM_R1coa_hs_c': 0.0684416660509562,\n",
       " 'DM_m3mpdol_U_c': 0.0,\n",
       " 'DM_adprib_m': 0.0,\n",
       " 'DM_adprib_c': 0.11488506010066296,\n",
       " 'DM_f1p_c': 0.27376665305528464,\n",
       " 'DM_R1coa_hs_r': 0.0,\n",
       " 'DM_for_n': 1.3667670388240367,\n",
       " 'DM_gdpddman_c': 0.11028044991526786,\n",
       " 'DM_adprib_e': 0.0,\n",
       " 'DM_3mob_c': 0.0010756943374872208,\n",
       " 'DM_3mob_m': 0.0010756943374872208,\n",
       " 'DM_m_em_3gacpail_hs_r': 0.014822476859725615,\n",
       " 'DM_od2coa_m': 0.059829798738277165,\n",
       " 'DM_ksii_core2_deg3_l': 0.0,\n",
       " 'DM_od2coa_c': 0.05982979845023257,\n",
       " 'DM_quln_c': 0.0005947081372141838,\n",
       " 'DM_5mthf_e': 0.0,\n",
       " 'DM_ksii_core2_deg1_l': 0.0,\n",
       " 'DM_5mthf_c': 0.0,\n",
       " 'DM_b2coa_m': 0.19538569275755435,\n",
       " 'DM_b2coa_x': 0.18541702174115926,\n",
       " 'DM_ksii_core2_deg7_l': 0.0,\n",
       " 'DM_m5mpdol__L_r': 0.0,\n",
       " 'DM_q10_c': 0.0,\n",
       " 'DM_pail4p_hs_r': 0.0,\n",
       " 'DM_acgam6p_c': 0.20522370911203325,\n",
       " 'DM_dedol__L_c': 0.0,\n",
       " 'DM_3dpdhb_me_m': 0.0,\n",
       " 'DM_prostgi2_r': 0.0,\n",
       " 'DM_acglcgalacglcgal14acglcgalgluside_hs_g': -5.820766091346743e-11,\n",
       " 'DM_3hbcoa_m': 0.19538568901005565,\n",
       " 'DM_5mdr1p_c': 0.0,\n",
       " 'DM_3mop_m': 0.0024393098428845406,\n",
       " 'DM_xoltri27_e': 0.03501666511874646,\n",
       " 'DM_3mop_c': 0.0024393098428845406,\n",
       " 'DM_3hbcoa_x': 0.18541702977381647,\n",
       " 'DM_oagt3_hs_g': 0.0,\n",
       " 'DM_air_c': 0.20306253174754915,\n",
       " 'DM_pydxn_c': -2.7664903429866894e-25,\n",
       " 'DM_malttr_l': 0.0,\n",
       " 'DM_ksii_core2_deg4_l': 0.0,\n",
       " 'DM_whttdca_c': 0.0,\n",
       " 'DM_glx_x': 1.198735173325997,\n",
       " 'DM_mhista_c': 0.0,\n",
       " 'DM_ksii_core2_deg8_l': 0.0,\n",
       " 'DM_glx_c': 1.1987352080538693,\n",
       " 'DM_hspg_e': 0.0,\n",
       " 'DM_glx_m': 1.1987352125579491,\n",
       " 'DM_hspg_g': 0.0,\n",
       " 'DM_lneldccoa_c': 0.05885537201538682,\n",
       " 'DM_Nmelys_n': 0.8213045895236973,\n",
       " 'DM_lneldccoa_m': 0.058855372248217463,\n",
       " 'DM_dgsn_l': 0.0,\n",
       " 'DM_dgsn_m': 0.17751595508630502,\n",
       " 'DM_oh1_m': 0.0,\n",
       " 'DM_oh1_c': 0.0,\n",
       " 'DM_dgsn_c': 0.17751595508630502,\n",
       " 'DM_dgsn_e': 0.17751593145685474,\n",
       " 'DM_oh1_e': 0.0,\n",
       " 'DM_3odcoa_x': 0.0,\n",
       " 'DM_malttr_c': 0.0,\n",
       " 'DM_Sfglutth_c': 0.0,\n",
       " 'DM_aldstrn_c': 0.0,\n",
       " 'DM_s2l2n2m2mn_l': 0.0,\n",
       " 'DM_aldstrn_e': 0.0,\n",
       " 'DM_pydx5p_m': 0.0,\n",
       " 'DM_leuktrB4wcooh_r': 0.0,\n",
       " 'DM_ksi_pre27_g': 0.0,\n",
       " 'DM_pydx5p_c': 0.0,\n",
       " 'DM_aldstrn_m': 0.0,\n",
       " 'DM_dmnoncoa_c': 0.0,\n",
       " 'DM_prostgf2_e': 0.0,\n",
       " 'DM_prostgf2_c': 0.0,\n",
       " 'DM_emem2gacpail_hs_r': 0.01575291915765258,\n",
       " 'DM_tolbutamide_c': 0.0,\n",
       " 'DM_acmana_c': 0.2007133027272575,\n",
       " 'DM_adp_r': 0.18282373482361436,\n",
       " 'DM_adp_m': 0.18282372640819358,\n",
       " 'DM_adp_n': 0.18282373730714122,\n",
       " 'DM_m4masn_g': 0.0,\n",
       " 'DM_ksi_pre25_g': 0.0,\n",
       " 'DM_adp_e': 0.0,\n",
       " 'DM_3hpcoa_m': 0.22431488121678297,\n",
       " 'DM_adp_c': 0.182823742115467,\n",
       " 'DM_ksii_core2_pre9_g': 0.0,\n",
       " 'DM_dedoldp_U_c': 0.0,\n",
       " 'DM_dmpp_x': 0.23774472658987697,\n",
       " 'DM_ksii_core4_pre1_g': 0.0,\n",
       " 'DM_thyox__L_c': 0.0,\n",
       " 'DM_thyox__L_e': 0.0,\n",
       " 'DM_aflatoxin_e': 0.0,\n",
       " 'DM_aflatoxin_c': 0.0,\n",
       " 'DM_mi14p_n': 0.24417026236187667,\n",
       " 'DM_prist_c': 0.0,\n",
       " 'DM_glc2man_g': 3.3526314328009875e-11,\n",
       " 'DM_lald__D_m': 0.0,\n",
       " 'DM_cdp_n': 0.1906991796568036,\n",
       " 'DM_cdp_m': 0.18685960632685683,\n",
       " 'DM_cdp_c': 0.1906991871073842,\n",
       " 'DM_lald__D_c': 0.463297415859859,\n",
       " 'DM_l2xser_g': 0.0,\n",
       " 'DM_ca2_e': 0.0,\n",
       " 'DM_ca2_c': 0.0,\n",
       " 'DM_11docrtstrn_m': 0.0,\n",
       " 'DM_g1m7masnC_g': 0.0,\n",
       " 'DM_11docrtstrn_c': 0.0,\n",
       " 'DM_na1_c': 1.0000000037252903,\n",
       " 'DM_na1_e': 0.9999999962747097,\n",
       " 'DM_na1_g': 1.0,\n",
       " 'DM_cs_c_deg3_l': -1.7923602632234452e-19,\n",
       " 'DM_4izp_c': 0.0,\n",
       " 'DM_val__L_m': 0.0010756943374872208,\n",
       " 'DM_11docrtstrn_r': 0.0,\n",
       " 'DM_ppmi1346p_c': 0.0,\n",
       " 'DM_g1m7masnC_r': 0.0,\n",
       " 'DM_val__L_e': 0.0010756943374872208,\n",
       " 'DM_hs_deg7_l': 0.0,\n",
       " 'DM_9_cis_retfa_c': 0.0,\n",
       " 'DM_dak2gpe_hs_c': 0.0,\n",
       " 'DM_dhap_x': 0.0,\n",
       " 'DM_retinol_9_cis_e': 0.0,\n",
       " 'DM_dhap_c': 0.5314293829724193,\n",
       " 'DM_mi13p_c': 0.2316487174970906,\n",
       " 'DM_gt1c_hs_g': 0.0,\n",
       " 'DM_ksii_core2_pre2_g': 0.0,\n",
       " 'DM_malttr_e': 0.0,\n",
       " 'DM_cs_c_deg1_l': -9.083633846559528e-11,\n",
       " 'DM_trypta_c': 0.0005947081372141838,\n",
       " 'DM_but_m': 0.0,\n",
       " 'DM_sphs1p_r': 0.06384663953343156,\n",
       " 'DM_but_e': 0.0,\n",
       " 'DM_6pgc_r': 0.29620653537235037,\n",
       " 'DM_but_c': 0.0,\n",
       " 'DM_sphs1p_e': 0.06384663860080758,\n",
       " 'DM_pppi_m': 0.0,\n",
       " 'DM_pppi_n': 0.0,\n",
       " 'DM_taxol_e': 0.0,\n",
       " 'DM_pppi_c': 0.0,\n",
       " 'DM_6pgc_c': 0.296206547666423,\n",
       " 'DM_taxol_c': 0.0,\n",
       " 'DM_lac__L_m': 0.6022866388084367,\n",
       " 'DM_apoC_Lys_c': 0.0,\n",
       " 'DM_apoC_Lys_m': 0.0,\n",
       " 'DM_asp__L_e': 0.0081,\n",
       " 'DM_asp__L_c': 0.5924218087684363,\n",
       " 'DM_eaflatoxin_e': 0.0,\n",
       " 'DM_asp__L_m': 0.5924217863939703,\n",
       " 'DM_gd1b2_hs_e': 0.0,\n",
       " 'DM_ksii_core2_pre4_g': 0.0,\n",
       " 'DM_succoa_m': 0.21634047757834196,\n",
       " 'DM_eaflatoxin_c': 0.0,\n",
       " 'DM_pail45p_hs_n': 0.02928460018786835,\n",
       " 'DM_hco3_c': 5.306772272102535,\n",
       " 'DM_44mzym_r': 0.03756465565212511,\n",
       " 'DM_hco3_e': 5.306772267680686,\n",
       " 'DM_caro_c': 0.0,\n",
       " 'DM_caro_e': 0.0,\n",
       " 'DM_2mcacn_c': 0.0,\n",
       " 'DM_tag_hs_e': 0.0,\n",
       " 'DM_tag_hs_c': 0.02278511901386082,\n",
       " 'DM_6pthp_c': 0.1884587107201457,\n",
       " 'DM_3hibutcoa_m': 0.0010756943374872208,\n",
       " 'DM_6pthp_n': 0.18845871167273778,\n",
       " 'DM_cs_e_pre5b_g': 0.0,\n",
       " 'DM_3ohodcoa_x': -1.550963667796227e-25,\n",
       " 'DM_fuc__L_l': 0.0,\n",
       " 'DM_ksi_pre22_g': 0.0,\n",
       " 'DM_g1m8masn_r': 0.0,\n",
       " 'DM_gd1b_hs_g': 0.0,\n",
       " 'DM_fuc__L_e': 0.0,\n",
       " 'DM_fuc__L_c': 0.0,\n",
       " 'DM_cspg_e_l': -8.968240253186447e-37,\n",
       " 'DM_pepslys_r': 0.296208240557462,\n",
       " 'DM_cspg_e_g': -8.968240253186447e-37,\n",
       " 'DM_cspg_e_e': 0.0,\n",
       " 'DM_T_antigen_g': 0.0,\n",
       " 'DM_g1m8masn_g': 0.0,\n",
       " 'DM_fol_c': 0.0,\n",
       " 'DM_2425dhvitd3_m': 0.03535929468487223,\n",
       " 'DM_sucr_e': 0.0,\n",
       " 'DM_2425dhvitd3_e': 0.03535929355353657,\n",
       " 'DM_cpppg3_c': 0.04414681623711367,\n",
       " 'DM_2425dhvitd3_c': 0.03535929468487223,\n",
       " 'DM_bildglcur_c': 0.03303071088157594,\n",
       " 'DM_tmlys_c': 0.0,\n",
       " 'DM_lyxnt_c': 0.0,\n",
       " 'DM_bildglcur_e': 0.033030711216657786,\n",
       " 'DM_cspg_a_l': -1.8344232530304882e-11,\n",
       " 'DM_cspg_a_g': 0.0,\n",
       " 'DM_xylt_c': 0.28680316847749054,\n",
       " 'DM_cspg_a_e': 0.0,\n",
       " 'DM_fadh2_x': 1.1641532182693481e-10,\n",
       " 'DM_xylt_e': 0.2868031590478495,\n",
       " 'DM_fadh2_r': 6.898685735081539e-11,\n",
       " 'DM_cspg_c_e': 0.0,\n",
       " 'DM_cspg_c_g': 0.0,\n",
       " 'DM_btn_m': 0.0,\n",
       " 'DM_fadh2_m': 1.622586127866191e-10,\n",
       " 'DM_btn_n': 0.0,\n",
       " 'DM_1a25dhvitd3_m': 0.035359293353860385,\n",
       " 'DM_btn_c': 0.0,\n",
       " 'DM_fadh2_c': 6.898685735081539e-11,\n",
       " 'DM_btn_e': 0.0,\n",
       " 'DM_forglu_c': 0.0,\n",
       " 'DM_ade_c': 0.43154469072330287,\n",
       " 'DM_ade_e': 0.4315446706986726,\n",
       " 'DM_glygn5_e': 0.0,\n",
       " 'DM_mem2emgacpail_prot_hs_r': 0.0,\n",
       " 'DM_ade_l': 0.4315446489786794,\n",
       " 'DM_fucfucfucgalacglcgal14acglcgalgluside_hs_c': 0.0,\n",
       " 'DM_inost_e': 0.2737666558949957,\n",
       " 'DM_sph1p_e': 0.06362182833254337,\n",
       " 'DM_dnad_m': 0.0,\n",
       " 'DM_dnad_n': 0.0005947081372141838,\n",
       " 'DM_dnad_c': 0.0005947081372141838,\n",
       " 'DM_tchola_x': 0.0,\n",
       " 'DM_gd3_hs_g': 1.8121902801142155e-14,\n",
       " 'DM_tchola_e': 0.0,\n",
       " 'DM_tchola_c': 0.0,\n",
       " 'DM_gd3_hs_c': 0.0,\n",
       " 'DM_acorn_c': 0.0,\n",
       " 'DM_leuktrE4_c': 0.0,\n",
       " 'DM_ksii_core2_pre5_g': 7.761021455128987e-11,\n",
       " 'DM_akg_c': 0.4353969238657078,\n",
       " 'DM_dhea_c': 0.0,\n",
       " 'DM_s2l2n2m2masn_l': 0.0,\n",
       " 'DM_m8mpdol__L_r': 0.0,\n",
       " 'DM_s2l2n2m2masn_e': 0.0,\n",
       " 'DM_fucgal14acglcgalgluside_hs_c': 0.0,\n",
       " 'DM_dhea_r': 0.0,\n",
       " 'DM_fucgal14acglcgalgluside_hs_g': 0.0,\n",
       " 'DM_fucgal14acglcgalgluside_hs_e': 0.0,\n",
       " 'DM_5fthf_c': 0.0,\n",
       " 'DM_glu5sa_c': 0.0,\n",
       " 'DM_5fthf_e': 0.0,\n",
       " 'DM_glu5sa_m': 0.3465108456303272,\n",
       " 'DM_34dhpac_c': 0.005120353191159666,\n",
       " 'DM_dolichol_U_r': 0.0,\n",
       " 'DM_ksi_pre28_g': 0.0,\n",
       " 'DM_cysam_c': 0.0,\n",
       " 'DM_acglcgalgbside_hs_g': 0.0,\n",
       " 'DM_im4ac_c': 0.0,\n",
       " 'DM_cs_e_pre3_g': 0.0,\n",
       " 'DM_im4ac_m': 0.0,\n",
       " 'DM_dolichol_U_c': 0.0,\n",
       " 'DM_xoltetrol_m': 0.0343509474837567,\n",
       " 'DM_dsT_antigen_g': 0.0,\n",
       " 'DM_ttdcea_c': 0.0,\n",
       " 'DM_4nph_e': 0.0,\n",
       " 'DM_dctp_c': 0.17790467292070392,\n",
       " 'DM_Rtotal2_e': 0.07170079109021006,\n",
       " 'DM_ptdca_e': 0.0,\n",
       " 'DM_crtstrn_r': 0.0,\n",
       " 'DM_dctp_n': 0.17790466776516828,\n",
       " 'DM_dctp_m': 0.17790466746581463,\n",
       " 'DM_ppmi12346p_c': 0.0,\n",
       " 'DM_4h2oglt_c': 0.0,\n",
       " 'DM_4h2oglt_m': 0.4536750834668055,\n",
       " 'DM_3hpcoa_c': 0.0,\n",
       " 'DM_5g2oxpt_x': 0.0,\n",
       " 'DM_cit_e': 0.38907812803352254,\n",
       " 'DM_fuc14galacglcgalgluside_hs_e': 0.0,\n",
       " 'DM_adn_l': 0.1904150383779779,\n",
       " 'DM_chol_c': 0.2737682221948108,\n",
       " 'DM_chol_e': 0.2737682219594717,\n",
       " 'DM_cit_c': 0.3890781211666763,\n",
       " 'DM_chol_g': 0.27376822100814413,\n",
       " 'DM_cit_m': 0.3890781225164753,\n",
       " 'DM_adn_e': 0.19041503313928843,\n",
       " 'DM_adn_c': 0.1904150383779779,\n",
       " 'DM_chol_n': 0.2737682182341814,\n",
       " 'DM_pail_hs_r': 0.0,\n",
       " 'DM_chol_r': 0.2737682148193327,\n",
       " 'DM_pre_prot_r': 0.0,\n",
       " 'DM_apoC_m': 0.0,\n",
       " 'DM_3hpcoa_x': 0.0,\n",
       " 'DM_apoC_c': 0.0,\n",
       " 'DM_4hdebrisoquine_e': 0.0,\n",
       " 'DM_4hdebrisoquine_c': 0.0,\n",
       " 'DM_g6p_r': 0.27376664630523395,\n",
       " 'DM_pro__L_l': 0.27547613059154746,\n",
       " 'DM_mmcoa__S_x': 0.0,\n",
       " 'DM_uppg3_c': 0.044146815522845745,\n",
       " 'DM_4hbzcoa_m': 0.0,\n",
       " 'DM_gln__L_c': 0.3866955683333799,\n",
       " 'DM_4nphsf_c': 0.0,\n",
       " 'DM_g6p_c': 0.2737666546224812,\n",
       " 'DM_gln__L_e': 0.3866955592784386,\n",
       " 'DM_tsul_e': 0.0,\n",
       " 'DM_gncore2_g': 0.0,\n",
       " 'DM_co2_c': 5.306772353127599,\n",
       " 'DM_3pg_c': 0.6692073603997857,\n",
       " 'DM_mmcoa__S_m': 0.21634047757834196,\n",
       " 'DM_glygn1_c': 0.02415588080104966,\n",
       " 'DM_xoldiolone_c': 0.03535929252393544,\n",
       " 'DM_xoldiolone_m': 0.035359292291104794,\n",
       " 'DM_m1mpdol__L_c': 0.0,\n",
       " 'DM_glygn3_c': 0.03717818739117118,\n",
       " 'DM_xoldiolone_r': 0.035359292989596725,\n",
       " 'DM_ksii_core4_deg1_l': 0.0,\n",
       " 'DM_gm1a_hs_g': 0.0,\n",
       " 'DM_m8mpdol_U_r': 0.0,\n",
       " 'DM_cs_c_deg4_l': -8.933550615572686e-26,\n",
       " 'DM_m7masnC_g': 0.0,\n",
       " 'DM_lcts_c': 0.0,\n",
       " 'DM_lac__L_c': 0.6022866426668825,\n",
       " 'DM_lnlncacrn_c': 5.945360652724899e-25,\n",
       " 'DM_lnlncacrn_m': 1.3542754574680523e-24,\n",
       " 'DM_lxser_g': 0.0,\n",
       " 'DM_13_cis_oretn_n': 0.0,\n",
       " 'DM_ksi_deg39_l': 1.887816029625963e-12,\n",
       " 'DM_ctp_n': 0.18685959141720015,\n",
       " 'DM_ctp_m': 0.18317158147573875,\n",
       " 'DM_ctp_c': 0.18685959718231532,\n",
       " 'DM_dolichol__L_r': 0.0,\n",
       " 'DM_biliverd_c': 0.04261038247549398,\n",
       " 'DM_s2l2n2m2m_c': 0.0,\n",
       " 'DM_fuc1p__L_c': 0.2607760955579579,\n",
       " 'DM_cs_d_pre2_g': 0.0,\n",
       " 'DM_m7masnA_g': 0.0,\n",
       " 'DM_s2l2n2m2m_l': 0.0,\n",
       " 'DM_ppcoa_m': 0.2163978850003332,\n",
       " 'DM_urate_c': 0.4957652607699856,\n",
       " 'DM_no_e': 1.598374966881238,\n",
       " 'DM_pgp_hs_c': 0.030833787429088558,\n",
       " 'DM_cs_d_deg4_l': 0.0,\n",
       " 'DM_lcts_e': 2.3260653000695046e-18,\n",
       " 'DM_ficytC_m': 0.0,\n",
       " 'DM_ksi_deg17_l': 0.0,\n",
       " 'DM_phom_c': 0.0,\n",
       " 'DM_ppcoa_x': 0.03041149524611043,\n",
       " 'DM_cs_d_deg6_l': -5.105621232288978e-10,\n",
       " 'DM_acngalacglcgal14acglcgalgluside_hs_c': 0.0,\n",
       " 'DM_cca_d3_m': 0.0,\n",
       " 'DM_acngalacglcgal14acglcgalgluside_hs_g': 0.0,\n",
       " 'DM_glyb_c': 0.3115293513983488,\n",
       " 'DM_glyb_m': 0.3115293484414627,\n",
       " 'DM_cca_d3_e': 0.0,\n",
       " 'DM_R3coa_hs_c': 0.06844166175060802,\n",
       " 'DM_dolglcp__L_c': 0.0,\n",
       " 'DM_hs_deg13_l': 0.0,\n",
       " 'DM_pail5p_hs_c': 0.029379836359545854,\n",
       " 'DM_4hoxpacd_c': 0.005120353191159666,\n",
       " 'DM_pylald_m': 0.0,\n",
       " 'DM_h2co3_c': 5.306772180367261,\n",
       " 'DM_tststerones_e': 0.0,\n",
       " 'DM_kdn_c': 0.19428601511754104,\n",
       " 'DM_tststerones_c': 0.0,\n",
       " 'DM_dolglcp__L_r': 0.0,\n",
       " 'DM_hpdca_e': 0.0,\n",
       " 'DM_ser__L_e': 0.6979616697644815,\n",
       " 'DM_hpdca_c': 0.0,\n",
       " 'DM_hdcoa_m': 0.06716951519566813,\n",
       " 'DM_ttdcrn_c': 3.053110264604293e-10,\n",
       " 'DM_3mox4hpac_c': 0.005120353191159666,\n",
       " 'DM_ttdcrn_m': 3.053110264604293e-10,\n",
       " 'DM_hdcoa_c': 0.06716951599983399,\n",
       " 'DM_emgacpail_hs_r': 0.01790743065480362,\n",
       " 'DM_pail3p_hs_r': 0.0,\n",
       " 'DM_ser__L_x': 0.697961668517702,\n",
       " 'DM_fucgalacgalfuc12gal14acglcgalgluside_hs_g': 0.0,\n",
       " 'DM_dag_hs_e': 0.0,\n",
       " 'DM_acglu_m': 0.27825872009522595,\n",
       " 'DM_dag_hs_c': 0.03339852166871189,\n",
       " 'DM_dag_hs_n': 0.033277090173214674,\n",
       " 'DM_xol7ah3_m': 0.03468061346689403,\n",
       " 'DM_dag_hs_r': 0.0,\n",
       " 'DM_acgalfucgalacgalfuc12gal14acglcgalgluside_hs_e': 0.0,\n",
       " 'DM_acgalfucgalacgalfuc12gal14acglcgalgluside_hs_g': 0.0,\n",
       " 'DM_acgalfucgalacgalfuc12gal14acglcgalgluside_hs_c': 0.0,\n",
       " 'DM_dad_5_e': 0.0,\n",
       " 'DM_zym_int2_r': 0.03717818700221431,\n",
       " 'DM_bvite_c': 0.0,\n",
       " 'DM_pro__L_c': 0.31663923232678104,\n",
       " 'DM_bvite_e': 0.0,\n",
       " 'DM_ksi_pre18_g': 0.0,\n",
       " 'DM_co_e': 0.0421217322582379,\n",
       " 'DM_ksii_core2_deg9_l': 8.616464714094031e-26,\n",
       " 'DM_n2m2nm_c': 0.0,\n",
       " 'DM_9_cis_retfa_e': 0.0,\n",
       " 'DM_co_c': 0.04212173236610878,\n",
       " 'DM_thcholst_m': 0.034680613244394684,\n",
       " 'DM_n2m2nm_l': 0.0,\n",
       " 'DM_3dsphgn_c': 0.0652295997970386,\n",
       " 'DM_galgalgalthcrm_hs_c': 0.0,\n",
       " 'DM_prostge2_e': 0.0,\n",
       " 'DM_galgalgalthcrm_hs_g': 0.0,\n",
       " 'DM_prostge2_c': 0.0,\n",
       " 'DM_galgalgalthcrm_hs_e': 0.0,\n",
       " 'DM_hdca_e': 0.07170079105142702,\n",
       " 'DM_tymsf_c': 0.0,\n",
       " 'DM_tymsf_e': 0.0,\n",
       " 'DM_ptrc_c': 0.3221943195284151,\n",
       " 'DM_ptrc_m': 0.2902029714390999,\n",
       " 'DM_pail3p_hs_n': 0.02937983598578533,\n",
       " 'DM_hs_deg17_l': 0.0,\n",
       " 'DM_pro__D_l': 0.0,\n",
       " 'DM_glyc__R_c': 0.5853872050941404,\n",
       " 'DM_ha_deg1_l': 0.07449997656486945,\n",
       " 'DM_cs_pre_g': 0.0,\n",
       " 'DM_melatn_c': 0.0005947081372141838,\n",
       " 'DM_hs_pre13_g': 0.0,\n",
       " 'DM_dtdp_m': 0.15685679131486122,\n",
       " 'DM_dtdp_n': 0.15685679063514096,\n",
       " 'DM_dtdp_c': 0.15685679079535145,\n",
       " 'DM_xser_r': 0.0,\n",
       " 'DM_pa_hs_c': 0.033275505527853966,\n",
       " 'DM_13_cis_oretn_c': 0.0,\n",
       " 'DM_galfuc12gal14acglcgalgluside_hs_c': 0.0,\n",
       " 'DM_dlnlcgcrn_c': 0.0,\n",
       " 'DM_galfuc12gal14acglcgalgluside_hs_g': 0.0,\n",
       " 'DM_acgam_l': 0.18992974264288984,\n",
       " 'DM_galfuc12gal14acglcgalgluside_hs_e': 0.0,\n",
       " 'DM_hs_pre11_g': 1.3552527156068802e-20,\n",
       " 'DM_acgam_c': 0.20071329633656615,\n",
       " 'DM_2hb_c': 0.993309329263866,\n",
       " 'DM_2hb_e': 0.9933093290310353,\n",
       " 'DM_dlnlcgcrn_m': 6.288368819018026e-20,\n",
       " 'DM_acgam_e': 0.0,\n",
       " 'DM_man_e': 0.0,\n",
       " 'DM_ksii_core2_g': -1.4180239072337615e-25,\n",
       " 'DM_man_g': 0.0,\n",
       " 'DM_ksii_core2_e': 1.0738764375094519e-18,\n",
       " 'DM_cdpchol_c': 0.11092462089418435,\n",
       " 'DM_man_c': 0.0,\n",
       " 'DM_lys__L_e': 0.0013169089797884226,\n",
       " 'DM_man_l': 0.0,\n",
       " 'DM_ksii_core2_l': -1.7232929428188084e-26,\n",
       " 'DM_oagd3_hs_g': 0.0,\n",
       " 'DM_2mp2coa_m': 0.0010756943374872208,\n",
       " 'DM_mi34p_c': 0.23164871053219435,\n",
       " 'DM_oagd3_hs_c': 0.0,\n",
       " 'DM_ksii_core4_e': -1.3026094038579088e-20,\n",
       " 'DM_g1m6masnB1_r': 0.0,\n",
       " 'DM_pecgoncoa_r': 0.0,\n",
       " 'DM_pydam_e': 0.0,\n",
       " 'DM_ksii_core4_l': 0.0,\n",
       " 'DM_17ahprgstrn_r': 0.0,\n",
       " 'DM_ksi_deg28_l': 3.6310493236496346e-10,\n",
       " 'DM_dolmanp__L_c': 0.0,\n",
       " 'DM_ksi_deg26_l': 0.0,\n",
       " 'DM_hs_pre8_g': 2.553626414268247e-11,\n",
       " 'DM_pail_hs_n': 0.02947569189089994,\n",
       " 'DM_ak2lgchol_hs_c': 0.0,\n",
       " 'DM_dolmanp__L_r': 0.0,\n",
       " 'DM_ak2lgchol_hs_e': 0.0,\n",
       " 'DM_ksi_deg24_l': 0.0,\n",
       " 'DM_34dhoxpeg_c': 0.005120353191159666,\n",
       " 'DM_34dhoxpeg_e': 0.005120353191159666,\n",
       " 'DM_fald_m': 1.1869292994961143,\n",
       " 'DM_fald_l': 1.1869292932096867,\n",
       " 'DM_for_r': 1.3667670388240367,\n",
       " 'DM_dgpi_prot_hs_r': 0.0,\n",
       " 'DM_nrpphr_e': 0.005120353307574987,\n",
       " 'DM_R6coa_hs_c': 0.06767265812959522,\n",
       " 'DM_fald_c': 1.1869292912025744,\n",
       " 'DM_nrpphr_c': 0.005120353191159666,\n",
       " 'DM_prgnlone_m': 0.0,\n",
       " 'DM_for_e': 1.36676707715562,\n",
       " 'DM_for_c': 1.3667670388240367,\n",
       " 'DM_pglyc_hs_c': 0.030833787583942462,\n",
       " 'DM_for_m': 1.3667670388240367,\n",
       " 'DM_carveol_c': 0.0,\n",
       " 'DM_carveol_e': 0.0,\n",
       " 'DM_pglyc_hs_e': 0.0,\n",
       " 'DM_dedoldp__L_c': 0.0,\n",
       " 'DM_3amp_l': 0.0,\n",
       " 'DM_g2m8mpdol_U_r': 0.0,\n",
       " 'DM_formcoa_c': -1.7096615450036083e-21,\n",
       " 'DM_hspg_l': -1.921423083422911e-12,\n",
       " 'DM_m5masnB2_g': 0.0,\n",
       " 'DM_formcoa_x': -1.7096615450036083e-21,\n",
       " 'DM_4tmeabut_m': 0.0,\n",
       " 'DM_apnnox_e': 0.0,\n",
       " 'DM_4tmeabut_c': 0.0,\n",
       " 'DM_apnnox_c': 0.0,\n",
       " 'DM_phe__L_m': 0.0,\n",
       " 'DM_3padsel_c': 0.0,\n",
       " 'DM_phe__L_e': 0.0009778488893061876,\n",
       " 'DM_ksi_deg15_l': -4.972593051922195e-10,\n",
       " 'DM_btcoa_m': 8.471734740608144e-25,\n",
       " 'DM_tdchola_c': 4.656612873077393e-10,\n",
       " 'DM_2dr1p_c': 0.28987057779031977,\n",
       " 'DM_hmgcoa_x': 0.1682487851686666,\n",
       " 'DM_andrstndn_r': 0.0,\n",
       " 'DM_lnlnca_c': 2.4815418376590585e-26,\n",
       " 'DM_ksi_deg11_l': 0.0,\n",
       " 'DM_lnlnca_e': -1.7937869660210108e-11,\n",
       " 'DM_12HPET_c': -1.0393987155113258e-28,\n",
       " 'DM_coucoa_m': 0.0,\n",
       " 'DM_mma_c': 0.005120353191159666,\n",
       " 'DM_pser__L_c': 0.6979616343414026,\n",
       " 'DM_lnlncg_c': 0.0,\n",
       " 'DM_lnlncg_e': -7.352716556025684e-25,\n",
       " 'DM_whhdca_c': 0.0703058330109343,\n",
       " 'DM_ksi_pre13_g': 0.0,\n",
       " 'DM_omeprazole_c': 0.0,\n",
       " 'DM_omeprazole_e': 0.0,\n",
       " 'DM_Rtotal2_c': 0.07170078949825083,\n",
       " 'DM_ksi_pre15_g': 0.0,\n",
       " 'DM_1mncam_e': 0.0005947102326899767,\n",
       " 'DM_galt_c': 0.0,\n",
       " 'DM_mem2emgacpail_hs_r': 0.014895794994377641,\n",
       " 'DM_estriolglc_c': 0.0,\n",
       " 'DM_urate_e': 0.49576524815475953,\n",
       " 'DM_Lcystin_e': 0.0,\n",
       " 'DM_triodthysuf_e': 0.0,\n",
       " 'DM_Lcystin_c': 0.0,\n",
       " 'DM_thym_e': 0.3314533341303193,\n",
       " 'DM_thym_c': 0.3314533416062593,\n",
       " 'DM_glc__D_g': 0.28232185304996116,\n",
       " 'DM_cs_c_deg5_l': 0.0,\n",
       " 'DM_ksi_pre11_g': -9.676078697303671e-11,\n",
       " 'DM_arach_c': 1.4756344475857684e-10,\n",
       " 'DM_arach_e': 0.0,\n",
       " 'DM_ditp_m': 0.0,\n",
       " 'DM_pro__D_x': 0.0,\n",
       " 'DM_pro__D_e': 0.0,\n",
       " 'DM_pro__D_c': 0.0,\n",
       " 'DM_hs_deg11_l': 0.0,\n",
       " 'DM_arg__D_x': 0.0,\n",
       " 'DM_hs_pre6_g': 0.0,\n",
       " 'DM_cmpntm2amep_c': 0.0,\n",
       " 'DM_tdchola_x': 4.656612873077393e-10,\n",
       " 'DM_hretn_c': 0.0,\n",
       " 'DM_dgdp_n': 0.17414539540186524,\n",
       " 'DM_dgdp_m': 0.17414539191594056,\n",
       " 'DM_dgdp_c': 0.17414539282060104,\n",
       " 'DM_tdchola_e': -6.6356733441352844e-09,\n",
       " 'DM_hretn_n': 0.0,\n",
       " 'DM_cbp_m': 3.596205689009398,\n",
       " 'DM_arg__L_m': 0.29020298199383354,\n",
       " 'DM_Ser_Gly_Ala_X_Gly_r': 0.0,\n",
       " 'DM_arg__L_c': 0.29020297374894105,\n",
       " 'DM_arg__L_e': 0.0068,\n",
       " 'DM_estradiolglc_r': 0.0,\n",
       " 'DM_hmgcoa_m': 0.168248788985166,\n",
       " 'DM_cbasp_c': 0.5016591103558063,\n",
       " 'DM_adrn_e': 0.0,\n",
       " 'DM_adrn_c': -5.648564536364636e-11,\n",
       " 'DM_sl__L_c': -6.7623660600543056e-09,\n",
       " 'DM_estradiolglc_e': 0.0,\n",
       " 'DM_Ser_Gly_Ala_X_Gly_l': 0.0,\n",
       " 'DM_gm2_hs_g': 0.0,\n",
       " 'DM_ak2g_hs_c': 0.0,\n",
       " 'DM_2mb2coa_m': 0.16721654187809468,\n",
       " 'DM_acald_r': 0.0,\n",
       " 'DM_itaccoa_m': -1.825658999765947e-17,\n",
       " 'DM_3htmelys_m': 0.0,\n",
       " 'DM_acald_x': 0.5956681182734713,\n",
       " 'DM_acald_c': 0.5956681194541608,\n",
       " 'DM_acald_e': 0.595668089915103,\n",
       " 'DM_aprut_c': 0.23544968823080295,\n",
       " 'DM_acald_m': 0.5956681194541608,\n",
       " 'DM_dolglcp_U_r': 0.0,\n",
       " 'DM_ggdp_c': 0.0,\n",
       " 'DM_mi13456p_c': 0.2258574899751693,\n",
       " 'DM_dolglcp_U_c': 0.0,\n",
       " 'DM_gpi_prot_hs_r': 0.0,\n",
       " 'DM_mmcoa__S_c': 0.0,\n",
       " 'DM_m6masnB1_g': 0.0,\n",
       " 'DM_sbt__D_c': 0.2618637542712373,\n",
       " 'DM_s2l2n2m2mn_c': 0.0,\n",
       " 'DM_thcholoylcoa_x': 0.03090283843394041,\n",
       " 'DM_g1m8mpdol__L_r': 0.0,\n",
       " 'DM_dd2coa_m': 0.0,\n",
       " 'DM_m6mpdol_U_r': 0.0,\n",
       " 'DM_dcyt_c': 0.18499721039552242,\n",
       " 'DM_dcyt_e': 0.18499721074476835,\n",
       " 'DM_cdpdag_hs_c': 0.02835031541062669,\n",
       " 'DM_cdpdag_hs_m': 0.02835031541062669,\n",
       " 'DM_dcyt_l': 0.0,\n",
       " 'DM_dcyt_m': 0.0,\n",
       " 'DM_dcyt_n': 0.18685959000140429,\n",
       " 'DM_ura_c': 0.4884575516827404,\n",
       " 'DM_ecgon_r': 0.0,\n",
       " 'DM_ura_e': 0.48845755464464763,\n",
       " 'DM_dcsptn1coa_m': -1.9851193441800927e-10,\n",
       " 'DM_cys__L_e': 2.3283061696410822e-10,\n",
       " 'DM_dcsptn1coa_c': 0.0,\n",
       " 'DM_etha_c': 0.5989627405118993,\n",
       " 'DM_cys__L_c': 0.0,\n",
       " 'DM_glc1man_g': 0.0,\n",
       " 'DM_amet_c': 0.0,\n",
       " 'DM_ksi_pre14_g': 0.0,\n",
       " 'DM_amet_m': 0.0,\n",
       " 'DM_amet_n': 0.0,\n",
       " 'DM_amet_r': 0.0,\n",
       " 'DM_acngalacglcgalgluside_hs_g': 0.0,\n",
       " 'DM_itp_c': 0.0,\n",
       " 'DM_appnn_c': 0.0,\n",
       " 'DM_itp_n': 0.0,\n",
       " 'DM_ksi_pre16_g': 0.0,\n",
       " 'DM_appnn_e': 0.0,\n",
       " 'DM_fucacgalfucgalacglcgalgluside_hs_e': 0.0,\n",
       " 'DM_galfucgalacglcgalgluside_hs_g': 0.0,\n",
       " 'DM_fucacgalfucgalacglcgalgluside_hs_g': 0.0,\n",
       " 'DM_k_c': 1.0,\n",
       " 'DM_k_e': 1.0000000000227243,\n",
       " 'DM_fucacgalfucgalacglcgalgluside_hs_c': 0.0,\n",
       " 'DM_k_g': 1.0,\n",
       " 'DM_tolbutamide_e': 0.0,\n",
       " 'DM_ksi_deg21_l': 0.0,\n",
       " 'DM_o2s_e': 0.0,\n",
       " 'DM_dedolp__L_c': 0.0,\n",
       " 'DM_ksi_deg27_l': 0.0,\n",
       " 'DM_i_e': 0.0,\n",
       " 'DM_i_c': 0.0,\n",
       " 'DM_dhcholestanate_m': 0.03402749402852386,\n",
       " 'DM_pcrn_x': 9.393955827134446e-19,\n",
       " 'DM_fucfuc132galacglcgal14acglcgalgluside_hs_e': 0.0,\n",
       " 'DM_gp1calpha_hs_c': 0.0,\n",
       " 'DM_fucfuc132galacglcgal14acglcgalgluside_hs_g': 0.0,\n",
       " 'DM_gp1calpha_hs_e': 0.0,\n",
       " 'DM_gp1calpha_hs_g': 0.0,\n",
       " 'DM_fucfuc132galacglcgal14acglcgalgluside_hs_c': 0.0,\n",
       " 'DM_cgly_e': 0.0,\n",
       " 'DM_cgly_c': 0.0,\n",
       " 'DM_dhcholestanate_x': 0.03402749402852386,\n",
       " 'DM_pcrn_m': 1.033975765691282e-24,\n",
       " 'DM_r1p_c': 0.3265409479884648,\n",
       " 'DM_pcrn_c': 1.033975765691282e-24,\n",
       " 'DM_dhcholestanate_r': 0.0,\n",
       " 'DM_34hpp_m': 0.0,\n",
       " 'DM_5htrp_e': 0.0005947081372141838,\n",
       " 'DM_34hpp_c': 0.005120353191159666,\n",
       " 'DM_7dhf_c': -7.320994765436366e-12,\n",
       " 'DM_nrvnc_c': 0.0,\n",
       " 'DM_7dhf_e': 0.0,\n",
       " 'DM_nrpphrsf_e': 0.0,\n",
       " 'DM_dlnlcg_e': 1.503964750096414e-25,\n",
       " 'DM_dlnlcg_c': -1.3786343542550472e-25,\n",
       " 'DM_7dhf_m': 0.0,\n",
       " 'DM_7dhf_l': 1.1641532182693484e-10,\n",
       " 'DM_crn_r': 0.0,\n",
       " 'DM_sgalside_hs_c': -9.313225746154784e-10,\n",
       " 'DM_Rtotalcoa_c': 0.06844166424548713,\n",
       " 'DM_lys__L_m': 0.0013169089797884226,\n",
       " 'DM_lys__L_n': 0.0013169089797884226,\n",
       " 'DM_cortsn_r': 0.0,\n",
       " 'DM_em2emgacpail_prot_hs_r': 0.0,\n",
       " 'DM_crn_x': 0.0,\n",
       " 'DM_lys__L_c': 0.0013169089797884226,\n",
       " 'DM_Rtotalcoa_m': 0.06844166340306401,\n",
       " 'DM_lys__L_x': 0.0013169089797884226,\n",
       " 'DM_crn_c': -1.8489518341437793e-10,\n",
       " 'DM_3dphb_m': 0.0,\n",
       " 'DM_crn_e': 0.0,\n",
       " 'DM_Rtotalcoa_x': 0.0,\n",
       " 'DM_crn_m': 5.514537414291784e-25,\n",
       " 'DM_10fthf6glu_m': 0.0,\n",
       " 'DM_10fthf6glu_l': 0.0,\n",
       " 'DM_2hyoxplac_c': 0.0009778488893061876,\n",
       " 'DM_gam6p_c': 0.26860163136133225,\n",
       " 'DM_Ser_Thr_l': 0.0,\n",
       " 'DM_retinal_cis_9_c': 0.0,\n",
       " 'DM_ddca_c': 0.0,\n",
       " 'DM_ksi_deg12_l': 0.0,\n",
       " 'DM_10fthf6glu_c': 0.0,\n",
       " 'DM_acgal1p_c': 0.0,\n",
       " 'DM_man1p_c': 0.27376665896736085,\n",
       " 'DM_acac_m': 0.4754894590594674,\n",
       " 'DM_ocdca_e': -7.75481824268463e-26,\n",
       " 'DM_hpyr_c': 0.6979616681326546,\n",
       " 'DM_ocdca_c': 0.0,\n",
       " 'DM_hpyr_m': 0.0,\n",
       " 'DM_3mlda_e': 0.0,\n",
       " 'DM_3mlda_c': 0.0,\n",
       " 'DM_4pyrdx_c': 0.0,\n",
       " 'DM_hpyr_x': 0.6979616681326546,\n",
       " 'DM_cholcoads_x': 0.03116787143531318,\n",
       " 'DM_4pyrdx_e': 0.0,\n",
       " 'DM_L2aadp_m': 0.001316908746957779,\n",
       " 'DM_q10h2_c': 0.0,\n",
       " 'DM_dkmpp_c': 0.0,\n",
       " 'DM_q10h2_m': 0.0,\n",
       " 'DM_acg5p_m': 0.0,\n",
       " 'DM_5thf_m': 0.0,\n",
       " 'DM_5thf_l': 0.0,\n",
       " 'DM_seasmet_c': 0.0,\n",
       " 'DM_em2emgacpail_hs_r': 0.015752919250947094,\n",
       " 'DM_5thf_e': 0.0,\n",
       " 'DM_seasmet_n': 0.0,\n",
       " 'DM_ksi_deg18_l': 0.0,\n",
       " 'DM_eicostetcoa_c': 0.0,\n",
       " 'DM_core5_g': 0.0,\n",
       " 'DM_5thf_c': 0.0,\n",
       " 'DM_o2_e': 998.6680094455369,\n",
       " 'DM_13dampp_c': 0.2765324034642672,\n",
       " 'DM_ahandrostanglc_e': 0.0,\n",
       " 'DM_zymst_r': 0.03679959104005079,\n",
       " 'DM_o2_c': 998.6680094879121,\n",
       " 'DM_2kmb_c': 0.0,\n",
       " 'DM_o2_m': 998.6680094939657,\n",
       " 'DM_im4act_m': 0.0,\n",
       " 'DM_o2_n': 998.6680094427429,\n",
       " 'DM_ksi_deg31_l': 0.0,\n",
       " 'DM_25hvitd3_e': 0.035708693591657445,\n",
       " 'DM_ahandrostanglc_r': 0.0,\n",
       " 'DM_25hvitd3_c': 0.035708694534119345,\n",
       " 'DM_o2_r': 998.668009502464,\n",
       " 'DM_25hvitd3_m': 0.035708694637141755,\n",
       " 'DM_bamppald_c': 0.2765323940701963,\n",
       " 'DM_o2_x': 998.6680094838375,\n",
       " 'DM_vacc_c': 0.06317692168522626,\n",
       " 'DM_m3emgacpail_hs_r': 0.014969841766119707,\n",
       " 'DM_rbl__D_c': 0.0,\n",
       " 'DM_prostgd2_c': 0.0,\n",
       " 'DM_prostgd2_e': 3.4924596548080444e-10,\n",
       " 'DM_1glyc_hs_e': 0.0,\n",
       " 'DM_ppmi1346p_n': 0.0,\n",
       " 'DM_bdg2hc_c': 0.0,\n",
       " 'DM_hmbil_c': 0.044146814398118295,\n",
       " 'DM_prostgd2_r': 0.0,\n",
       " 'DM_cs_hs_linkage_g': 0.0,\n",
       " 'DM_xol27oh_m': 0.0353592939209193,\n",
       " 'DM_sphgn_c': 0.06407304563777315,\n",
       " 'DM_pd3_c': 0.03606507045605064,\n",
       " 'DM_xol27oh_r': 0.03535929345525801,\n",
       " 'DM_sphgn_r': 0.06407304563777315,\n",
       " 'DM_galfucgalacglcgal14acglcgalgluside_hs_c': 0.0,\n",
       " 'DM_gd1b2_hs_g': 0.0,\n",
       " 'DM_adocbl_m': 0.0,\n",
       " 'DM_galthcrm_hs_g': 0.0,\n",
       " 'DM_mi145p_n': 0.23774473133392032,\n",
       " 'DM_hmgcoa_r': 0.0,\n",
       " 'DM_3hpp_c': 0.0,\n",
       " 'DM_tettet6crn_c': 7.896794120115402e-20,\n",
       " 'DM_galgalthcrm_hs_g': 0.0,\n",
       " 'DM_m1mpdol_U_c': 0.0,\n",
       " 'DM_tettet6crn_m': 9.48150126467563e-34,\n",
       " 'DM_mi1456p_n': 0.23164870091457787,\n",
       " 'DM_sphings_r': 0.06430106410507913,\n",
       " 'DM_dcsptn1coa_x': 0.0,\n",
       " 'DM_dcamp_c': 0.1424147329097265,\n",
       " 'DM_10fthf5glu_l': 0.0,\n",
       " 'DM_10fthf5glu_m': 0.0,\n",
       " 'DM_cs_a_l': 0.0,\n",
       " 'DM_sphmyln_hs_c': 0.030064395020746617,\n",
       " 'DM_sphings_l': 0.06430106520377984,\n",
       " 'DM_mag_hs_e': 0.0,\n",
       " 'DM_10fthf5glu_e': 0.0,\n",
       " 'DM_sphings_c': 0.06430106520377984,\n",
       " 'DM_sphmyln_hs_l': 0.03006439759461419,\n",
       " 'DM_mag_hs_c': 0.06252110290708074,\n",
       " 'DM_10fthf5glu_c': 0.0,\n",
       " 'DM_hestratriol_r': 0.0,\n",
       " 'DM_peplys_e': 1.0,\n",
       " 'DM_arachdcoa_x': 0.0,\n",
       " 'DM_hdca_r': 0.06384664129735769,\n",
       " 'DM_prist_x': 0.0,\n",
       " 'DM_peplys_n': 1.0,\n",
       " 'DM_tym_c': 0.005120353191159666,\n",
       " 'DM_2dr5p_c': 0.28085905220359564,\n",
       " 'DM_hestratriol_c': 0.0,\n",
       " 'DM_g3p_c': 0.5314293790142983,\n",
       " 'DM_hestratriol_e': 0.0,\n",
       " 'DM_acgalfucgalacgalfucgalacglcgal14acglcgalgluside_hs_c': 1.1641532182693481e-10,\n",
       " 'DM_acgalfucgalacgalfucgalacglcgal14acglcgalgluside_hs_e': 0.0,\n",
       " 'DM_acgalfucgalacgalfucgalacglcgal14acglcgalgluside_hs_g': 0.0,\n",
       " 'DM_xoltriol_c': 0.0346806125409085,\n",
       " 'DM_avite2_e': 0.0,\n",
       " 'DM_lpchol_hs_e': 0.029380003321228403,\n",
       " 'DM_ksii_core4_deg3_l': 0.0,\n",
       " 'DM_lpchol_hs_c': 0.05005180664981405,\n",
       " 'DM_pheme_e': 0.0,\n",
       " 'DM_xoltriol_r': 0.0346806125409085,\n",
       " 'DM_n2m2nmn_l': 2.5223319729169213e-10,\n",
       " 'DM_cbl2_c': 0.0,\n",
       " 'DM_pheme_c': 0.04414681508205831,\n",
       " 'DM_cbl2_m': 0.0,\n",
       " 'DM_pheme_m': 0.04414681508205831,\n",
       " 'DM_n2m2nmn_c': 0.0,\n",
       " 'DM_thbpt_n': 0.0,\n",
       " 'DM_Lkynr_c': 0.0005947081372141838,\n",
       " 'DM_cys__L_m': 0.0,\n",
       " 'DM_oagd3_hs_e': 0.0,\n",
       " 'DM_phyt_x': 0.0,\n",
       " 'DM_phyt_c': 0.0,\n",
       " 'DM_hdcecrn_c': 0.0,\n",
       " 'DM_phyt_e': 0.0,\n",
       " 'DM_hdcecrn_m': 0.0,\n",
       " 'DM_gal14acglcgalgluside_hs_g': 0.0,\n",
       " 'DM_creat_e': 0.41496273409575224,\n",
       " 'DM_creat_c': 0.4149627435470749,\n",
       " 'DM_creat_m': 0.41496271546930075,\n",
       " 'DM_gdpfuc_g': 0.0,\n",
       " 'DM_dhcholestancoa_x': 0.031167871590393286,\n",
       " 'DM_gdpfuc_c': 0.1070621507242322,\n",
       " 'DM_42A3HP24DB_c': 0.0005947081372141838,\n",
       " 'DM_g3m8mpdol__L_r': -2.710505431213762e-20,\n",
       " 'DM_hcoumarin_e': 0.0,\n",
       " 'DM_betald_c': 0.0,\n",
       " 'DM_pmtcoa_x': 0.06844166245553124,\n",
       " 'DM_oretn_c': 0.0,\n",
       " 'DM_ksi_deg6_l': 0.0,\n",
       " 'DM_hnifedipine_c': 0.0,\n",
       " 'DM_pmtcoa_m': 0.06844166340306401,\n",
       " 'DM_estradiolglc_c': 0.0,\n",
       " 'DM_pmtcoa_c': 0.0684416639823966,\n",
       " 'DM_galacglcgalacglcgal14acglcgalgluside_hs_g': 9.291662474253071e-26,\n",
       " 'DM_34hpl_m': 0.0,\n",
       " 'DM_cholcoas_x': 0.03143748977512439,\n",
       " 'DM_nrpphrsf_c': 0.0,\n",
       " 'DM_estradiol_r': 0.0,\n",
       " 'DM_cholcoas_r': 0.0,\n",
       " 'DM_uacgam_g': 0.0,\n",
       " 'DM_mlthf_m': 0.0,\n",
       " 'DM_Lpipecol_x': 0.0013169089797884226,\n",
       " 'DM_uacgam_c': 0.09951165318489075,\n",
       " 'DM_ksi_deg4_l': -2.3283064365386963e-10,\n",
       " 'DM_dtmp_l': 0.0,\n",
       " 'DM_dgtp_n': 0.17090045039642726,\n",
       " 'DM_dgtp_m': 0.1709004504373297,\n",
       " 'DM_na1_x': 0.9999999981373549,\n",
       " 'DM_dgtp_c': 0.1709004435651464,\n",
       " 'DM_lnlncacoa_c': 1.7224324848929833e-10,\n",
       " 'DM_3moxtyr_c': 0.005120353191159666,\n",
       " 'DM_56dihindlcrbxlt_c': 0.005120353191159666,\n",
       " 'DM_estrone_c': 0.0,\n",
       " 'DM_leuktrA4_c': 0.0,\n",
       " 'DM_val__L_c': 0.0010756943374872208,\n",
       " 'DM_prpncoa_m': 0.22431487578433007,\n",
       " 'DM_estrone_r': 0.0,\n",
       " 'DM_1pipdn2c_x': 0.0013169089797884226,\n",
       " 'DM_Rtotal3crn_m': 0.0,\n",
       " 'DM_lneldc_e': 0.06209140770588787,\n",
       " 'DM_cs_b_l': 0.0,\n",
       " 'DM_ksi_deg1_e': 0.0,\n",
       " 'DM_whtststerone_e': 0.0,\n",
       " 'DM_abt_c': 0.2868031624634321,\n",
       " 'DM_coumarin_c': 0.0,\n",
       " 'DM_abt_e': 0.28680316252396565,\n",
       " 'DM_whtststerone_r': 0.0,\n",
       " 'DM_cs_d_l': 0.0,\n",
       " 'DM_pmtcrn_m': 0.0,\n",
       " 'DM_spmd_c': 0.16093687623414843,\n",
       " 'DM_dmhptcoa_c': 1.1175870895385742e-08,\n",
       " 'DM_mpdol_U_c': 0.0,\n",
       " 'DM_dmhptcoa_m': 3.2919513406450497e-09,\n",
       " 'DM_fe3_e': 0.0,\n",
       " 'DM_chsterols_c': 0.0,\n",
       " 'DM_xol25oh_r': 0.03535929347765569,\n",
       " 'DM_itp_m': 0.0,\n",
       " 'DM_tettet6_c': 0.0,\n",
       " 'DM_tettet6_e': 2.687231134363445e-25,\n",
       " 'DM_hs_deg10_l': -5.820766091346741e-10,\n",
       " 'DM_ksi_deg9_l': 0.0,\n",
       " 'DM_ksi_deg36_l': 0.0,\n",
       " 'DM_hs_deg14_l': 0.0,\n",
       " 'DM_ksi_deg38_l': 0.0,\n",
       " 'DM_nmthsrtn_c': 0.0005947081372141838,\n",
       " 'DM_glyald_c': 0.5554502968443558,\n",
       " 'DM_retinol_9_cis_c': 0.0,\n",
       " 'DM_prpncoa_x': 0.0,\n",
       " 'DM_ksii_core4_pre3_g': 0.0,\n",
       " 'DM_ksii_core4_pre6_g': -6.952067882287556e-11,\n",
       " 'DM_agm_m': 0.2902029944816604,\n",
       " 'DM_3uib_c': 0.3042850203359386,\n",
       " 'DM_mi4p__D_c': 0.24417025589710664,\n",
       " 'DM_ahcys_r': 1.6471394213705846e-19,\n",
       " 'DM_arachcrn_c': 2.197198502093978e-25,\n",
       " 'DM_hs_pre7_g': 1.524474493861282e-10,\n",
       " 'DM_arachcrn_m': 2.197198502093978e-25,\n",
       " 'DM_fe2_c': 1000.0,\n",
       " 'DM_ahcys_c': 0.0,\n",
       " 'DM_4aabutn_m': 0.0,\n",
       " 'DM_fe2_e': 1000.0,\n",
       " 'DM_galgalfucfucgalacglcgalacglcgal14acglcgalgluside_hs_c': 0.0,\n",
       " 'DM_galgalfucfucgalacglcgalacglcgal14acglcgalgluside_hs_g': 0.0,\n",
       " 'DM_4aabutn_c': 0.2515763761452276,\n",
       " 'DM_galgalfucfucgalacglcgalacglcgal14acglcgalgluside_hs_e': 0.0,\n",
       " 'DM_ahcys_n': 0.0,\n",
       " 'DM_hs_pre3_g': 0.0,\n",
       " 'DM_acgbgbside_hs_g': 0.0,\n",
       " 'DM_ahdt_c': 0.1884586984795704,\n",
       " 'DM_ksii_core2_pre10_g': 0.0,\n",
       " 'DM_acgbgbside_hs_c': 0.0,\n",
       " 'DM_acgbgbside_hs_l': 0.0,\n",
       " 'DM_ahdt_n': 0.18845871711056106,\n",
       " 'DM_1mpyr_c': 0.0,\n",
       " 'DM_prostgh2_c': 0.0,\n",
       " 'DM_hs_pre5_g': 0.0,\n",
       " 'DM_cs_b_deg1_l': 0.0,\n",
       " 'DM_prostgh2_r': 0.0,\n",
       " 'DM_m_em_3gacpail_prot_hs_r': 0.0,\n",
       " 'DM_decdp_c': 0.0,\n",
       " 'DM_decdp_m': 0.0,\n",
       " 'DM_cs_b_deg3_l': 0.0,\n",
       " 'DM_sel_c': 0.0,\n",
       " 'DM_dtdp4d6dm_c': 0.09951165384183638,\n",
       " 'DM_sel_e': 0.0,\n",
       " 'DM_pail345p_hs_c': 0.029189983382821083,\n",
       " 'DM_sTn_antigen_g': 0.0,\n",
       " 'DM_cmusa_c': 0.0005947081372141838,\n",
       " 'DM_strch1_e': 0.0,\n",
       " 'DM_ribflv_c': 0.0,\n",
       " 'DM_paps_g': 0.0,\n",
       " 'DM_whttdca_e': 0.0,\n",
       " 'DM_paps_c': 0.0,\n",
       " 'DM_ribflv_e': 0.0,\n",
       " 'DM_hista_c': 0.0,\n",
       " 'DM_m4mpdol_U_r': -7.202200145796563e-21,\n",
       " 'DM_fna5moxam_c': 0.0005947081372141838,\n",
       " 'DM_trdox_m': 0.0,\n",
       " 'DM_malcoa_x': 0.0,\n",
       " 'DM_trdox_c': 0.0,\n",
       " 'DM_m4mpdol_U_c': 0.0,\n",
       " 'DM_dmnoncoa_x': 0.0,\n",
       " 'DM_xoltri27_c': 0.035016664769500494,\n",
       " 'DM_3ohdcoa_x': 0.0,\n",
       " 'DM_ksii_core4_pre5_g': -3.2294618138861666e-15,\n",
       " 'DM_andrstrnglc_c': 0.0,\n",
       " 'DM_ebastineoh_r': 0.0,\n",
       " 'DM_andrstrnglc_e': 0.0,\n",
       " 'DM_ksii_core4_pre7_g': 0.0,\n",
       " 'DM_xoltri27_r': 0.03501666535676707,\n",
       " 'DM_dmnoncoa_m': -5.908432946807275e-26,\n",
       " 'DM_gt2_hs_g': 0.0,\n",
       " 'DM_andrstrnglc_r': 0.0,\n",
       " 'DM_ak2gp_hs_c': 0.0,\n",
       " 'DM_ebastineoh_c': 0.0,\n",
       " 'DM_ebastineoh_e': 0.0,\n",
       " 'DM_glc__D_e': 0.2823218590286881,\n",
       " 'DM_digalsgalside_hs_c': 0.0,\n",
       " 'DM_acgalfucgalacglcgalgluside_hs_g': 0.0,\n",
       " 'DM_digalsgalside_hs_e': 0.0,\n",
       " 'DM_digalsgalside_hs_g': 0.0,\n",
       " 'DM_glc__D_c': 0.2823218634054808,\n",
       " 'DM_glc__D_l': 0.0,\n",
       " 'DM_npthl_c': 0.0,\n",
       " 'DM_mi14p_c': 0.24417026236187667,\n",
       " 'DM_npthl_e': 0.0,\n",
       " 'DM_ksii_core2_pre6_g': 0.0,\n",
       " 'DM_23doguln_c': 0.0,\n",
       " 'DM_akgp_hs_c': 0.0,\n",
       " 'DM_yvite_c': 0.0,\n",
       " 'DM_yvite_e': 0.0,\n",
       " 'DM_glc__D_r': 0.2823218632684056,\n",
       " 'DM_sphs1p_c': 0.06384663803086667,\n",
       " 'DM_strdnccrn_m': 4.3970899721018296e-10,\n",
       " 'DM_34dhcinm_c': 0.0,\n",
       " 'DM_mmcoa__R_m': 0.21634047757834196,\n",
       " 'DM_cs_e_deg5_l': 0.0,\n",
       " 'DM_ksi_pre1_g': 0.0,\n",
       " 'DM_5aizc_c': 0.20306253094442384,\n",
       " 'DM_gar_c': 0.23416997364072686,\n",
       " 'DM_gcald_c': 0.6979616729586625,\n",
       " 'DM_gcald_m': 0.0,\n",
       " 'DM_35diotyr_c': 0.0,\n",
       " 'DM_ksi_pre3_g': 0.0,\n",
       " 'DM_co2_x': 5.306772280717269,\n",
       " 'DM_cs_e_deg1_l': 0.0,\n",
       " 'DM_akg_e': 0.43539691895386284,\n",
       " 'DM_pail5p_hs_n': 0.029379835817962885,\n",
       " 'DM_co2_r': 5.306772277224809,\n",
       " 'DM_4nph_c': 0.0,\n",
       " 'DM_akg_m': 0.43539693794853046,\n",
       " 'DM_akg_r': 0.0,\n",
       " 'DM_tsul_m': 0.0,\n",
       " 'DM_co2_m': 5.306772188516334,\n",
       " 'DM_pail5p_hs_r': 0.0,\n",
       " 'DM_co2_n': 5.306772213429213,\n",
       " 'DM_acglcgalgluside_hs_g': -2.8590175466729863e-10,\n",
       " 'DM_akg_x': 0.4353969238657078,\n",
       " 'DM_co2_e': 5.306772234267555,\n",
       " 'DM_co2_g': 5.306772178970277,\n",
       " 'DM_tsul_c': 0.0,\n",
       " 'DM_mthgxl_c': 0.5314293711706882,\n",
       " 'DM_cs_e_deg3_l': 0.0,\n",
       " 'DM_eryth_c': 0.0,\n",
       " 'DM_mthgxl_e': 0.5314293940608178,\n",
       " 'DM_acgagbside_hs_c': 0.0,\n",
       " 'DM_acgagbside_hs_g': 0.0,\n",
       " 'DM_ocdcea_e': 0.0,\n",
       " 'DM_acgagbside_hs_l': 0.0,\n",
       " 'DM_ocdcea_c': 0.0,\n",
       " 'DM_ksii_core4_pre8_g': 0.0,\n",
       " 'DM_mercppyr_c': -1.4873167728178403e-09,\n",
       " 'DM_mercppyr_m': 0.0,\n",
       " 'DM_em3gacpail_hs_r': 0.0158357578170391,\n",
       " 'DM_15HPET_c': -1.0393987155113258e-28,\n",
       " 'DM_6dhf_l': 0.0,\n",
       " 'DM_6dhf_m': 0.0,\n",
       " 'DM_12ppd__R_c': 0.41064997529262465,\n",
       " 'DM_hcys__L_c': 0.0,\n",
       " 'DM_6dhf_c': 0.0,\n",
       " 'DM_6dhf_e': 0.0,\n",
       " 'DM_thymd_c': 0.1595534668304026,\n",
       " 'DM_imp_e': 0.0,\n",
       " 'DM_hs_deg8_l': 0.0,\n",
       " 'DM_imp_c': 0.18845871032681316,\n",
       " 'DM_c2m26dcoa_m': 0.0,\n",
       " ...}"
      ]
     },
     "execution_count": 18,
     "metadata": {},
     "output_type": "execute_result"
    }
   ],
   "source": [
    "normal_maxmet_dict"
   ]
  },
  {
   "cell_type": "code",
   "execution_count": 93,
   "metadata": {
    "collapsed": true
   },
   "outputs": [],
   "source": [
    "# creates an empty dict to store DM_rxns as keys and the p_solution.f values\n",
    "check_maxmet_dict = {}\n",
    "check_turnover = {}\n",
    "\n",
    "i=307\n",
    "#for i in range(80):\n",
    "\n",
    "#  switch toggle\n",
    "switch = True\n",
    "\n",
    "# this part creates a demand reaction for each metabolite\n",
    "temp_DM = 'DM_' + str(newmet_array[i])\n",
    "\n",
    "# this nested for loop tries to catch if a demand reaction already exists in the model\n",
    "for ii in model.reactions:\n",
    "    if temp_DM == str(ii):\n",
    "        # this part sets the newly created demand as the objective\n",
    "        my_objective = model.reactions.get_by_id(str(temp_DM))\n",
    "        model.change_objective(my_objective)\n",
    "\n",
    "        # this part runs FBA on the new demand\n",
    "        p_solution = model.optimize()\n",
    "\n",
    "        # this stores the demand flux into a dictionary where its demand rxn is the key\n",
    "        check_maxmet_dict[str(temp_DM)] = p_solution.f\n",
    "\n",
    "        # a toggle to see if the reaction is to be deleted or not\n",
    "        switch = False\n",
    "\n",
    "if switch is True:\n",
    "    temp_DM = Reaction(str(temp_DM))\n",
    "    newmet_array[i] = model.metabolites.get_by_id(model.metabolites[i].id)\n",
    "    temp_DM.add_metabolites({newmet_array[i]: -1})\n",
    "    model.add_reaction(temp_DM)\n",
    "\n",
    "    # this part sets the newly created demand as the objective\n",
    "    my_objective = model.reactions.get_by_id(str(temp_DM))\n",
    "    model.change_objective(my_objective)\n",
    "\n",
    "    # this part runs FBA on the new demand\n",
    "    p_solution = model.optimize()\n",
    "\n",
    "    # this stores the demand flux into a dictionary where its demand rxn is the key\n",
    "    check_maxmet_dict[str(temp_DM)] = p_solution.f\n",
    "\n",
    "model = ArrayBasedModel(model)\n",
    "S = model.S\n",
    "\n",
    "turnover_vals = []\n",
    "for rxnind,rxn in enumerate(model.reactions):\n",
    "    S_met = S[i,rxnind]\n",
    "    if S_met:\n",
    "        turnover_vals.append(S_met*p_solution.x_dict[str(rxn)])\n",
    "check_turnover[str(newmet_array[i])] = sum(turnover_vals)\n",
    "\n",
    "#if switch is True:\n",
    "    # this deletes the demand at the end of each iteration\n",
    "    #model.reactions.get_by_id(str(temp_DM)).delete()"
   ]
  },
  {
   "cell_type": "code",
   "execution_count": 94,
   "metadata": {
    "collapsed": false
   },
   "outputs": [
    {
     "data": {
      "text/plain": [
       "[2.3033495444872565,\n",
       " -0.0,\n",
       " -0.0,\n",
       " -0.0,\n",
       " -0.0,\n",
       " -0.0,\n",
       " -0.0,\n",
       " -0.0,\n",
       " -0.0,\n",
       " -2.0474218192881311,\n",
       " -0.0,\n",
       " -0.0,\n",
       " -0.0,\n",
       " -0.0,\n",
       " -0.25592772601403263]"
      ]
     },
     "execution_count": 94,
     "metadata": {},
     "output_type": "execute_result"
    }
   ],
   "source": [
    "turnover_vals"
   ]
  },
  {
   "cell_type": "code",
   "execution_count": 96,
   "metadata": {
    "collapsed": false
   },
   "outputs": [
    {
     "name": "stdout",
     "output_type": "stream",
     "text": [
      "0.0 FAEL205\n",
      "0.0 MCD\n",
      "0.0 FAS120COA\n",
      "0.0 FAEL183\n",
      "2.30334954449 ACCOAC\n",
      "0.0 FAEL184\n",
      "0.0 FAS80COA_L\n",
      "0.0 FAS160COA\n",
      "0.0 KAS8\n",
      "0.255927726014 DM_malcoa_c\n",
      "2.04742181929 FAS180COA\n",
      "0.0 FAS100COA\n",
      "0.0 MCOATA\n",
      "0.0 FAS140COA\n",
      "0.0 FAEL204\n"
     ]
    }
   ],
   "source": [
    "for thing in model.metabolites.get_by_id('malcoa_c').reactions:\n",
    "    print p_solution.x_dict[str(thing)], str(thing)"
   ]
  },
  {
   "cell_type": "code",
   "execution_count": 91,
   "metadata": {
    "collapsed": false
   },
   "outputs": [
    {
     "data": {
      "text/plain": [
       "0.0"
      ]
     },
     "execution_count": 91,
     "metadata": {},
     "output_type": "execute_result"
    }
   ],
   "source": [
    "p_solution.x_dict['MCOATA']"
   ]
  },
  {
   "cell_type": "code",
   "execution_count": 83,
   "metadata": {
    "collapsed": false
   },
   "outputs": [
    {
     "name": "stdout",
     "output_type": "stream",
     "text": [
      "accoa_c + atp_c + hco3_c --> adp_c + h_c + malcoa_c + pi_c\n",
      "--------------\n",
      "2.30334954449\n"
     ]
    }
   ],
   "source": [
    "print '%s\\n--------------\\n%s'%(model.reactions.get_by_id('ACCOAC').reaction, p_solution.x_dict['ACCOAC'])"
   ]
  },
  {
   "cell_type": "code",
   "execution_count": 81,
   "metadata": {
    "collapsed": false
   },
   "outputs": [
    {
     "name": "stdout",
     "output_type": "stream",
     "text": [
      "3.0 h_c + malcoa_c + 2.0 nadph_c + pmtcoa_c --> co2_c + coa_c + h2o_c + 2.0 nadp_c + stcoa_c\n",
      "--------------\n",
      "2.04742181929\n"
     ]
    }
   ],
   "source": [
    "print '%s\\n--------------\\n%s'%(model.reactions.get_by_id('FAS180COA').reaction, p_solution.x_dict['FAS180COA'])"
   ]
  },
  {
   "cell_type": "code",
   "execution_count": null,
   "metadata": {
    "collapsed": true
   },
   "outputs": [],
   "source": [
    "model.reactions.get_by_id()"
   ]
  },
  {
   "cell_type": "code",
   "execution_count": null,
   "metadata": {
    "collapsed": true
   },
   "outputs": [],
   "source": []
  },
  {
   "cell_type": "code",
   "execution_count": null,
   "metadata": {
    "collapsed": true
   },
   "outputs": [],
   "source": []
  },
  {
   "cell_type": "code",
   "execution_count": null,
   "metadata": {
    "collapsed": true
   },
   "outputs": [],
   "source": []
  },
  {
   "cell_type": "code",
   "execution_count": null,
   "metadata": {
    "collapsed": true
   },
   "outputs": [],
   "source": []
  },
  {
   "cell_type": "code",
   "execution_count": null,
   "metadata": {
    "collapsed": true
   },
   "outputs": [],
   "source": []
  },
  {
   "cell_type": "code",
   "execution_count": 31,
   "metadata": {
    "collapsed": false
   },
   "outputs": [
    {
     "name": "stdout",
     "output_type": "stream",
     "text": [
      "307\n"
     ]
    }
   ],
   "source": [
    "for i2,x2 in enumerate(newmet_array):\n",
    "    if x2 == model.metabolites.get_by_id('malcoa_c'):\n",
    "        print i2"
   ]
  },
  {
   "cell_type": "code",
   "execution_count": 32,
   "metadata": {
    "collapsed": false
   },
   "outputs": [
    {
     "data": {
      "text/plain": [
       "<Metabolite malcoa_c at 0xe858da0>"
      ]
     },
     "execution_count": 32,
     "metadata": {},
     "output_type": "execute_result"
    }
   ],
   "source": [
    "newmet_array[307]"
   ]
  },
  {
   "cell_type": "code",
   "execution_count": null,
   "metadata": {
    "collapsed": false
   },
   "outputs": [],
   "source": [
    "S"
   ]
  },
  {
   "cell_type": "code",
   "execution_count": null,
   "metadata": {
    "collapsed": true
   },
   "outputs": [],
   "source": [
    "S= model2.S"
   ]
  },
  {
   "cell_type": "code",
   "execution_count": null,
   "metadata": {
    "collapsed": false
   },
   "outputs": [],
   "source": [
    "turnover = {}\n",
    "for metind,met in tqdm(enumerate(model2.metabolites)):\n",
    "    turnover_vals =[]\n",
    "    for rxnind,rxn in enumerate(model2.reactions):\n",
    "        S_met = S[metind,rxnind]\n",
    "        if S_met > 0:\n",
    "            turnover_vals.append(S_met*model2.solution.x_dict[str(rxn)])\n",
    "    turnover[str(met)] = sum(turnover_vals)"
   ]
  },
  {
   "cell_type": "code",
   "execution_count": null,
   "metadata": {
    "collapsed": false
   },
   "outputs": [],
   "source": [
    "for metind,met in enumerate(model2.metabolites):\n",
    "    if str(met) == 'mal__L_m':\n",
    "        print metind"
   ]
  },
  {
   "cell_type": "code",
   "execution_count": null,
   "metadata": {
    "collapsed": false
   },
   "outputs": [],
   "source": [
    "S[59,:]"
   ]
  },
  {
   "cell_type": "code",
   "execution_count": null,
   "metadata": {
    "collapsed": false
   },
   "outputs": [],
   "source": [
    "for i in range(len(model2.reactions)):\n",
    "    if S[550,i] >0:\n",
    "        print model2.reactions[i].reaction\n",
    "        print S[550,i]*model2.solution.x_dict[str(model2.reactions[i])]"
   ]
  },
  {
   "cell_type": "code",
   "execution_count": null,
   "metadata": {
    "collapsed": false
   },
   "outputs": [],
   "source": [
    "for i in range(len(model2.reactions)):\n",
    "    if S[158,i] >0:\n",
    "        print model2.reactions[i].reaction\n",
    "        print S[158,i]*model2.solution.x_dict[str(model2.reactions[i])]"
   ]
  },
  {
   "cell_type": "code",
   "execution_count": null,
   "metadata": {
    "collapsed": false
   },
   "outputs": [],
   "source": [
    "turnover_vals"
   ]
  },
  {
   "cell_type": "code",
   "execution_count": null,
   "metadata": {
    "collapsed": false
   },
   "outputs": [],
   "source": [
    "turnover"
   ]
  },
  {
   "cell_type": "code",
   "execution_count": null,
   "metadata": {
    "collapsed": false
   },
   "outputs": [],
   "source": [
    "len(model2.reactions)"
   ]
  },
  {
   "cell_type": "code",
   "execution_count": null,
   "metadata": {
    "collapsed": false
   },
   "outputs": [],
   "source": [
    "for item in model2.metabolites.get_by_id('pyr_m').reactions:\n",
    "    print model2.reactions.get_by_id(str(item)).reaction, model2.solution.x_dict[str(item)]"
   ]
  },
  {
   "cell_type": "code",
   "execution_count": null,
   "metadata": {
    "collapsed": false
   },
   "outputs": [],
   "source": [
    "for item in model2.metabolites.get_by_id('pyr_c').reactions:\n",
    "    print model2.reactions.get_by_id(str(item)).reaction, model2.solution.x_dict[str(item)]"
   ]
  },
  {
   "cell_type": "code",
   "execution_count": null,
   "metadata": {
    "collapsed": false
   },
   "outputs": [],
   "source": [
    "S[1,3741]"
   ]
  },
  {
   "cell_type": "code",
   "execution_count": null,
   "metadata": {
    "collapsed": false
   },
   "outputs": [],
   "source": []
  },
  {
   "cell_type": "code",
   "execution_count": null,
   "metadata": {
    "collapsed": false
   },
   "outputs": [],
   "source": [
    "model2.reactions.get_by_id('ARGSS').upper_bound= 1000"
   ]
  },
  {
   "cell_type": "code",
   "execution_count": null,
   "metadata": {
    "collapsed": false
   },
   "outputs": [],
   "source": [
    "model2.optimize()"
   ]
  },
  {
   "cell_type": "code",
   "execution_count": null,
   "metadata": {
    "collapsed": false
   },
   "outputs": [],
   "source": [
    "model2.solution.x_dict"
   ]
  },
  {
   "cell_type": "code",
   "execution_count": null,
   "metadata": {
    "collapsed": true
   },
   "outputs": [],
   "source": []
  }
 ],
 "metadata": {
  "anaconda-cloud": {},
  "kernelspec": {
   "display_name": "Python [Root]",
   "language": "python",
   "name": "Python [Root]"
  },
  "language_info": {
   "codemirror_mode": {
    "name": "ipython",
    "version": 2
   },
   "file_extension": ".py",
   "mimetype": "text/x-python",
   "name": "python",
   "nbconvert_exporter": "python",
   "pygments_lexer": "ipython2",
   "version": "2.7.12"
  }
 },
 "nbformat": 4,
 "nbformat_minor": 0
}
