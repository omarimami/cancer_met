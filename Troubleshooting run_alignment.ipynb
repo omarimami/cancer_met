{
 "cells": [
  {
   "cell_type": "code",
   "execution_count": 1,
   "metadata": {
    "collapsed": true
   },
   "outputs": [],
   "source": [
    "import os.path\n",
    "from Bio.Emboss.Applications import NeedleCommandline\n",
    "\n",
    "def run_alignment(fasta1_id, fasta1, fasta2_id, fasta2):\n",
    "    '''\n",
    "    Runs the needle alignment program and writes the result to a file. Returns the filename. Standard gap inputs are used.\n",
    "    \n",
    "    Input:  fasta1 - fasta file name (\"reference\" sequence)\n",
    "            fasta2 - fasta file name (what you're interested in aligning)\n",
    "    Output: alignment_file - file name of alignment\n",
    "    '''\n",
    "\n",
    "    alignment_file = \"%s_%s_align.txt\" % (fasta1_id, fasta2_id)\n",
    "    \n",
    "    if os.path.isfile(alignment_file):\n",
    "        print 'Alignment %s file already exists' % alignment_file\n",
    "        return alignment_file\n",
    "\n",
    "    else:\n",
    "        print '**RUNNING ALIGNMENT FOR %s AND %s**' % (fasta1_id, fasta2_id)\n",
    "        needle_cline = NeedleCommandline(asequence=fasta1, bsequence=fasta2, gapopen=10, gapextend=0.5, outfile=alignment_file)\n",
    "        #stdout, stderr = needle_cline()\n",
    "        return alignment_file"
   ]
  },
  {
   "cell_type": "code",
   "execution_count": 2,
   "metadata": {
    "collapsed": false
   },
   "outputs": [],
   "source": [
    "seq_id = 'NP_446464'\n",
    "pdb_id = '2nz2'"
   ]
  },
  {
   "cell_type": "code",
   "execution_count": 3,
   "metadata": {
    "collapsed": false
   },
   "outputs": [],
   "source": [
    "alignment_file = 'NP_446464_2nz2_align.txt'"
   ]
  },
  {
   "cell_type": "code",
   "execution_count": 4,
   "metadata": {
    "collapsed": true
   },
   "outputs": [],
   "source": [
    "seq_fasta = 'C:\\Users\\Omar\\Desktop\\virtual\\venv\\NP_446464.faa'\n",
    "pdb_fasta = ' C:\\Users\\Omar\\Desktop\\virtual\\venv\\2nz2 pdb sequence fasta.faa'"
   ]
  },
  {
   "cell_type": "code",
   "execution_count": 5,
   "metadata": {
    "collapsed": false,
    "scrolled": false
   },
   "outputs": [
    {
     "name": "stdout",
     "output_type": "stream",
     "text": [
      "**RUNNING ALIGNMENT FOR NP_446464 AND 2nz2**\n"
     ]
    },
    {
     "data": {
      "text/plain": [
       "'NP_446464_2nz2_align.txt'"
      ]
     },
     "execution_count": 5,
     "metadata": {},
     "output_type": "execute_result"
    }
   ],
   "source": [
    "run_alignment(seq_id, seq_fasta,pdb_id,pdb_fasta)"
   ]
  },
  {
   "cell_type": "code",
   "execution_count": 6,
   "metadata": {
    "collapsed": false
   },
   "outputs": [],
   "source": [
    "needle_cline = NeedleCommandline(asequence=seq_fasta, bsequence=pdb_fasta, gapopen=10, gapextend=0.5, outfile=alignment_file)"
   ]
  },
  {
   "cell_type": "code",
   "execution_count": 7,
   "metadata": {
    "collapsed": false
   },
   "outputs": [
    {
     "ename": "ApplicationError",
     "evalue": "Non-zero return code 1 from 'needle -outfile=NP_446464_2nz2_align.txt -asequence=C:\\\\Users\\\\Omar\\\\Desktop\\x0birtual\\x0benv\\\\NP_446464.faa -bsequence=\" C:\\\\Users\\\\Omar\\\\Desktop\\x0birtual\\x0benv\\x02nz2 pdb sequence fasta.faa\" -gapopen=10 -gapextend=0.5', message \"'needle' is not recognized as an internal or external command,\"",
     "output_type": "error",
     "traceback": [
      "\u001b[0;31m---------------------------------------------------------------------------\u001b[0m",
      "\u001b[0;31mApplicationError\u001b[0m                          Traceback (most recent call last)",
      "\u001b[0;32m<ipython-input-7-b7b0ee09d07d>\u001b[0m in \u001b[0;36m<module>\u001b[0;34m()\u001b[0m\n\u001b[0;32m----> 1\u001b[0;31m \u001b[0mneedle_cline\u001b[0m\u001b[0;34m(\u001b[0m\u001b[0;34m)\u001b[0m\u001b[0;34m\u001b[0m\u001b[0m\n\u001b[0m",
      "\u001b[0;32mc:\\users\\omar\\desktop\\virtual\\venv\\lib\\site-packages\\Bio\\Application\\__init__.pyc\u001b[0m in \u001b[0;36m__call__\u001b[0;34m(self, stdin, stdout, stderr, cwd, env)\u001b[0m\n\u001b[1;32m    514\u001b[0m         \u001b[0;32mif\u001b[0m \u001b[0mreturn_code\u001b[0m\u001b[0;34m:\u001b[0m\u001b[0;34m\u001b[0m\u001b[0m\n\u001b[1;32m    515\u001b[0m             raise ApplicationError(return_code, str(self),\n\u001b[0;32m--> 516\u001b[0;31m                                    stdout_str, stderr_str)\n\u001b[0m\u001b[1;32m    517\u001b[0m         \u001b[0;32mreturn\u001b[0m \u001b[0mstdout_str\u001b[0m\u001b[0;34m,\u001b[0m \u001b[0mstderr_str\u001b[0m\u001b[0;34m\u001b[0m\u001b[0m\n\u001b[1;32m    518\u001b[0m \u001b[0;34m\u001b[0m\u001b[0m\n",
      "\u001b[0;31mApplicationError\u001b[0m: Non-zero return code 1 from 'needle -outfile=NP_446464_2nz2_align.txt -asequence=C:\\\\Users\\\\Omar\\\\Desktop\\x0birtual\\x0benv\\\\NP_446464.faa -bsequence=\" C:\\\\Users\\\\Omar\\\\Desktop\\x0birtual\\x0benv\\x02nz2 pdb sequence fasta.faa\" -gapopen=10 -gapextend=0.5', message \"'needle' is not recognized as an internal or external command,\""
     ]
    }
   ],
   "source": [
    "needle_cline()"
   ]
  },
  {
   "cell_type": "code",
   "execution_count": null,
   "metadata": {
    "collapsed": true
   },
   "outputs": [],
   "source": []
  }
 ],
 "metadata": {
  "kernelspec": {
   "display_name": "Python 2",
   "language": "python",
   "name": "python2"
  },
  "language_info": {
   "codemirror_mode": {
    "name": "ipython",
    "version": 2
   },
   "file_extension": ".py",
   "mimetype": "text/x-python",
   "name": "python",
   "nbconvert_exporter": "python",
   "pygments_lexer": "ipython2",
   "version": "2.7.11"
  }
 },
 "nbformat": 4,
 "nbformat_minor": 0
}
